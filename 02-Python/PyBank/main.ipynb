{
 "cells": [
  {
   "cell_type": "code",
   "execution_count": 31,
   "metadata": {},
   "outputs": [],
   "source": [
    "# import library\n",
    "import os\n",
    "import csv\n",
    "from pathlib import Path"
   ]
  },
  {
   "cell_type": "code",
   "execution_count": 32,
   "metadata": {},
   "outputs": [
    {
     "name": "stdout",
     "output_type": "stream",
     "text": [
      "Header: Date,Profit/Losses\n",
      "\n"
     ]
    }
   ],
   "source": [
    "# Data files path\n",
    "budget_data = Path('Resources/budget_data.csv')\n",
    "\n",
    "# open and read csv\n",
    "with open(budget_data, newline=\"\") as csvfile:\n",
    "    csvreader = csv.reader(csvfile, delimiter=\",\")\n",
    "    csv_header = next(csvfile)\n",
    "    # skip header row\n",
    "    print(f\"Header: {csv_header}\")\n",
    "    \n",
    "    # find net amount of profit and loss\n",
    "    pl_total = []\n",
    "    months = []\n",
    "    \n",
    "    # read through each row of data after header\n",
    "    for rows in csvreader:\n",
    "        pl_total.append(int(rows[1]))\n",
    "        months.append(rows[0])\n",
    "    \n",
    "    # find P&L change\n",
    "    pl_change = []\n",
    "   "
   ]
  },
  {
   "cell_type": "code",
   "execution_count": 38,
   "metadata": {},
   "outputs": [
    {
     "name": "stdout",
     "output_type": "stream",
     "text": [
      "Financial Analysis\n",
      "----------------------------------------------\n",
      "Total Months: 86\n",
      "Total: $38382578\n",
      "Average Change: $-2315.12\n",
      "Greatest Increase in Profits: Feb-12 $1926159\n",
      "Greatest Decrease in Profits: Sep-13 $-2196167\n"
     ]
    },
    {
     "data": {
      "text/plain": [
       "47"
      ]
     },
     "execution_count": 38,
     "metadata": {},
     "output_type": "execute_result"
    }
   ],
   "source": [
    "    for x in range(1, len(pl_total)):\n",
    "        pl_change.append((int(pl_total[x]) - int(pl_total[x - 1])))\n",
    "\n",
    "    # calculate average P&L change\n",
    "    pl_average = round((sum(pl_change) / len(pl_change)),2)\n",
    "\n",
    "    # calculate total months\n",
    "    total_months = len(months)\n",
    "\n",
    "    # greatest increase in revenue\n",
    "    greatest_increase = max(pl_change)\n",
    "    # greatest decrease in revenue\n",
    "    greatest_decrease = min(pl_change)\n",
    "    \n",
    "    # print the Results\n",
    "    print(\"Financial Analysis\")\n",
    "    print(\"----------------------------------------------\")\n",
    "    print(\"Total Months: \" + str(total_months))\n",
    "    print(\"Total: \" + \"$\" + str(sum(pl_total)))\n",
    "    print(\"Average Change: \" + \"$\" + str(pl_average))\n",
    "    print(\"Greatest Increase in Profits: \" + str(months[pl_change.index(max(pl_change)) + 1]) + \" \" + \"$\" + str(greatest_increase))\n",
    "    print(\"Greatest Decrease in Profits: \" + str(months[pl_change.index(min(pl_change)) + 1]) + \" \" + \"$\" + str(greatest_decrease))\n",
    "    \n",
    "    \n",
    "    # output to a text file\n",
    "\n",
    "    file = open(\"budget_analytics.txt\", \"w\")\n",
    "    file.write(\"\\n\")\n",
    "    file.write(\"Financial Analysis\" + \"\\n\")\n",
    "    file.write(\"-------------------------------------------\" + \"\\n\")\n",
    "    file.write(\"Total Months: \" + str(total_months) + \"\\n\")\n",
    "    file.write(\"Total: \" + \"$\" + str(sum(pl_total)) + \"\\n\")\n",
    "    file.write(\"Average Change: \" + \"$\" + str(pl_average) + \"\\n\")\n",
    "    file.write(\"Greatest Increase in Profits: \" + str(months[pl_change.index(max(pl_change)) + 1]) + \" \" + \"$\" + str(greatest_increase) + \"\\n\")\n",
    "    file.write(\"Greatest Decrease in Profits: \" + str(months[pl_change.index(min(pl_change)) + 1]) + \" \" + \"$\" + str(greatest_decrease) + \"\\n\")"
   ]
  },
  {
   "cell_type": "code",
   "execution_count": null,
   "metadata": {},
   "outputs": [],
   "source": []
  }
 ],
 "metadata": {
  "kernelspec": {
   "display_name": "Python 3",
   "language": "python",
   "name": "python3"
  },
  "language_info": {
   "codemirror_mode": {
    "name": "ipython",
    "version": 3
   },
   "file_extension": ".py",
   "mimetype": "text/x-python",
   "name": "python",
   "nbconvert_exporter": "python",
   "pygments_lexer": "ipython3",
   "version": "3.8.3"
  }
 },
 "nbformat": 4,
 "nbformat_minor": 4
}
