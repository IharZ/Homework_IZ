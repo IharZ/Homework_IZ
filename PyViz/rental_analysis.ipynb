{
 "cells": [
  {
   "cell_type": "markdown",
   "metadata": {},
   "source": [
    "# San Francisco Housing Rental Analysis\n",
    "\n",
    "In this assignment, you will perform basic analysis for the San Francisco Housing Market to allow potential real estate investors to choose rental investment properties. "
   ]
  },
  {
   "cell_type": "code",
   "execution_count": 72,
   "metadata": {},
   "outputs": [],
   "source": [
    "# initial imports\n",
    "import os\n",
    "import pandas as pd\n",
    "import matplotlib.pyplot as plt\n",
    "import hvplot.pandas\n",
    "import plotly.express as px\n",
    "from pathlib import Path\n",
    "from dotenv import load_dotenv\n",
    "\n",
    "%matplotlib inline"
   ]
  },
  {
   "cell_type": "code",
   "execution_count": 73,
   "metadata": {},
   "outputs": [],
   "source": [
    "# Read the Mapbox API key\n",
    "\n",
    "load_dotenv()\n",
    "mapbox_token = os.getenv(\"MAPBOX\")"
   ]
  },
  {
   "cell_type": "markdown",
   "metadata": {},
   "source": [
    "## Load Data"
   ]
  },
  {
   "cell_type": "code",
   "execution_count": 74,
   "metadata": {},
   "outputs": [
    {
     "data": {
      "text/html": [
       "<div>\n",
       "<style scoped>\n",
       "    .dataframe tbody tr th:only-of-type {\n",
       "        vertical-align: middle;\n",
       "    }\n",
       "\n",
       "    .dataframe tbody tr th {\n",
       "        vertical-align: top;\n",
       "    }\n",
       "\n",
       "    .dataframe thead th {\n",
       "        text-align: right;\n",
       "    }\n",
       "</style>\n",
       "<table border=\"1\" class=\"dataframe\">\n",
       "  <thead>\n",
       "    <tr style=\"text-align: right;\">\n",
       "      <th></th>\n",
       "      <th>neighborhood</th>\n",
       "      <th>sale_price_sqr_foot</th>\n",
       "      <th>housing_units</th>\n",
       "      <th>gross_rent</th>\n",
       "    </tr>\n",
       "    <tr>\n",
       "      <th>year</th>\n",
       "      <th></th>\n",
       "      <th></th>\n",
       "      <th></th>\n",
       "      <th></th>\n",
       "    </tr>\n",
       "  </thead>\n",
       "  <tbody>\n",
       "    <tr>\n",
       "      <th>2010</th>\n",
       "      <td>Alamo Square</td>\n",
       "      <td>291.182945</td>\n",
       "      <td>372560</td>\n",
       "      <td>1239</td>\n",
       "    </tr>\n",
       "    <tr>\n",
       "      <th>2010</th>\n",
       "      <td>Anza Vista</td>\n",
       "      <td>267.932583</td>\n",
       "      <td>372560</td>\n",
       "      <td>1239</td>\n",
       "    </tr>\n",
       "    <tr>\n",
       "      <th>2010</th>\n",
       "      <td>Bayview</td>\n",
       "      <td>170.098665</td>\n",
       "      <td>372560</td>\n",
       "      <td>1239</td>\n",
       "    </tr>\n",
       "    <tr>\n",
       "      <th>2010</th>\n",
       "      <td>Buena Vista Park</td>\n",
       "      <td>347.394919</td>\n",
       "      <td>372560</td>\n",
       "      <td>1239</td>\n",
       "    </tr>\n",
       "    <tr>\n",
       "      <th>2010</th>\n",
       "      <td>Central Richmond</td>\n",
       "      <td>319.027623</td>\n",
       "      <td>372560</td>\n",
       "      <td>1239</td>\n",
       "    </tr>\n",
       "  </tbody>\n",
       "</table>\n",
       "</div>"
      ],
      "text/plain": [
       "          neighborhood  sale_price_sqr_foot  housing_units  gross_rent\n",
       "year                                                                  \n",
       "2010      Alamo Square           291.182945         372560        1239\n",
       "2010        Anza Vista           267.932583         372560        1239\n",
       "2010           Bayview           170.098665         372560        1239\n",
       "2010  Buena Vista Park           347.394919         372560        1239\n",
       "2010  Central Richmond           319.027623         372560        1239"
      ]
     },
     "execution_count": 74,
     "metadata": {},
     "output_type": "execute_result"
    }
   ],
   "source": [
    "# Read the census data into a Pandas DataFrame\n",
    "\n",
    "file_path = Path(\"Data/sfo_neighborhoods_census_data.csv\")\n",
    "sfo_data = pd.read_csv(file_path, index_col=\"year\")\n",
    "sfo_data.head()"
   ]
  },
  {
   "cell_type": "markdown",
   "metadata": {},
   "source": [
    "- - - "
   ]
  },
  {
   "cell_type": "markdown",
   "metadata": {},
   "source": [
    "## Housing Units Per Year\n",
    "\n",
    "In this section, you will calculate the number of housing units per year and visualize the results as a bar chart using the Pandas plot function. \n",
    "\n",
    "Hint: Use the Pandas groupby function\n",
    "\n",
    "Optional challenge: Use the min, max, and std to scale the y limits of the chart."
   ]
  },
  {
   "cell_type": "code",
   "execution_count": 99,
   "metadata": {},
   "outputs": [
    {
     "data": {
      "text/html": [
       "<div>\n",
       "<style scoped>\n",
       "    .dataframe tbody tr th:only-of-type {\n",
       "        vertical-align: middle;\n",
       "    }\n",
       "\n",
       "    .dataframe tbody tr th {\n",
       "        vertical-align: top;\n",
       "    }\n",
       "\n",
       "    .dataframe thead th {\n",
       "        text-align: right;\n",
       "    }\n",
       "</style>\n",
       "<table border=\"1\" class=\"dataframe\">\n",
       "  <thead>\n",
       "    <tr style=\"text-align: right;\">\n",
       "      <th></th>\n",
       "      <th>housing_units</th>\n",
       "    </tr>\n",
       "    <tr>\n",
       "      <th>year</th>\n",
       "      <th></th>\n",
       "    </tr>\n",
       "  </thead>\n",
       "  <tbody>\n",
       "    <tr>\n",
       "      <th>2010</th>\n",
       "      <td>372560</td>\n",
       "    </tr>\n",
       "    <tr>\n",
       "      <th>2011</th>\n",
       "      <td>374507</td>\n",
       "    </tr>\n",
       "    <tr>\n",
       "      <th>2012</th>\n",
       "      <td>376454</td>\n",
       "    </tr>\n",
       "    <tr>\n",
       "      <th>2013</th>\n",
       "      <td>378401</td>\n",
       "    </tr>\n",
       "    <tr>\n",
       "      <th>2014</th>\n",
       "      <td>380348</td>\n",
       "    </tr>\n",
       "    <tr>\n",
       "      <th>2015</th>\n",
       "      <td>382295</td>\n",
       "    </tr>\n",
       "    <tr>\n",
       "      <th>2016</th>\n",
       "      <td>384242</td>\n",
       "    </tr>\n",
       "  </tbody>\n",
       "</table>\n",
       "</div>"
      ],
      "text/plain": [
       "      housing_units\n",
       "year               \n",
       "2010         372560\n",
       "2011         374507\n",
       "2012         376454\n",
       "2013         378401\n",
       "2014         380348\n",
       "2015         382295\n",
       "2016         384242"
      ]
     },
     "execution_count": 99,
     "metadata": {},
     "output_type": "execute_result"
    }
   ],
   "source": [
    "# Calculate the mean number of housing units per year (hint: use groupby)\n",
    "\n",
    "housing_units= sfo_data.groupby('year').mean()\n",
    "housing_units.drop(['sale_price_sqr_foot', 'gross_rent'], axis=1)"
   ]
  },
  {
   "cell_type": "code",
   "execution_count": 102,
   "metadata": {},
   "outputs": [
    {
     "data": {
      "image/png": "[encoded data removed]",
      "text/plain": [
       "<Figure size 432x288 with 1 Axes>"
      ]
     },
     "metadata": {
      "needs_background": "light"
     },
     "output_type": "display_data"
    },
    {
     "ename": "ValueError",
     "evalue": "The truth value of a DataFrame is ambiguous. Use a.empty, a.bool(), a.item(), a.any() or a.all().",
     "output_type": "error",
     "traceback": [
      "\u001b[1;31m---------------------------------------------------------------------------\u001b[0m",
      "\u001b[1;31mValueError\u001b[0m                                Traceback (most recent call last)",
      "\u001b[1;32m<ipython-input-102-92e27075f08e>\u001b[0m in \u001b[0;36m<module>\u001b[1;34m\u001b[0m\n\u001b[0;32m     10\u001b[0m \u001b[1;33m\u001b[0m\u001b[0m\n\u001b[0;32m     11\u001b[0m \u001b[0mplt\u001b[0m\u001b[1;33m.\u001b[0m\u001b[0mshow\u001b[0m\u001b[1;33m(\u001b[0m\u001b[1;33m)\u001b[0m\u001b[1;33m\u001b[0m\u001b[1;33m\u001b[0m\u001b[0m\n\u001b[1;32m---> 12\u001b[1;33m \u001b[0mplt\u001b[0m\u001b[1;33m.\u001b[0m\u001b[0mclose\u001b[0m\u001b[1;33m(\u001b[0m\u001b[0mhousing_units\u001b[0m\u001b[1;33m)\u001b[0m\u001b[1;33m\u001b[0m\u001b[1;33m\u001b[0m\u001b[0m\n\u001b[0m",
      "\u001b[1;32m~\\anaconda3\\lib\\site-packages\\matplotlib\\pyplot.py\u001b[0m in \u001b[0;36mclose\u001b[1;34m(fig)\u001b[0m\n\u001b[0;32m    798\u001b[0m         \u001b[1;32melse\u001b[0m\u001b[1;33m:\u001b[0m\u001b[1;33m\u001b[0m\u001b[1;33m\u001b[0m\u001b[0m\n\u001b[0;32m    799\u001b[0m             \u001b[0m_pylab_helpers\u001b[0m\u001b[1;33m.\u001b[0m\u001b[0mGcf\u001b[0m\u001b[1;33m.\u001b[0m\u001b[0mdestroy\u001b[0m\u001b[1;33m(\u001b[0m\u001b[0mfigManager\u001b[0m\u001b[1;33m)\u001b[0m\u001b[1;33m\u001b[0m\u001b[1;33m\u001b[0m\u001b[0m\n\u001b[1;32m--> 800\u001b[1;33m     \u001b[1;32melif\u001b[0m \u001b[0mfig\u001b[0m \u001b[1;33m==\u001b[0m \u001b[1;34m'all'\u001b[0m\u001b[1;33m:\u001b[0m\u001b[1;33m\u001b[0m\u001b[1;33m\u001b[0m\u001b[0m\n\u001b[0m\u001b[0;32m    801\u001b[0m         \u001b[0m_pylab_helpers\u001b[0m\u001b[1;33m.\u001b[0m\u001b[0mGcf\u001b[0m\u001b[1;33m.\u001b[0m\u001b[0mdestroy_all\u001b[0m\u001b[1;33m(\u001b[0m\u001b[1;33m)\u001b[0m\u001b[1;33m\u001b[0m\u001b[1;33m\u001b[0m\u001b[0m\n\u001b[0;32m    802\u001b[0m     \u001b[1;32melif\u001b[0m \u001b[0misinstance\u001b[0m\u001b[1;33m(\u001b[0m\u001b[0mfig\u001b[0m\u001b[1;33m,\u001b[0m \u001b[0mint\u001b[0m\u001b[1;33m)\u001b[0m\u001b[1;33m:\u001b[0m\u001b[1;33m\u001b[0m\u001b[1;33m\u001b[0m\u001b[0m\n",
      "\u001b[1;32m~\\anaconda3\\lib\\site-packages\\pandas\\core\\generic.py\u001b[0m in \u001b[0;36m__nonzero__\u001b[1;34m(self)\u001b[0m\n\u001b[0;32m   1324\u001b[0m \u001b[1;33m\u001b[0m\u001b[0m\n\u001b[0;32m   1325\u001b[0m     \u001b[1;32mdef\u001b[0m \u001b[0m__nonzero__\u001b[0m\u001b[1;33m(\u001b[0m\u001b[0mself\u001b[0m\u001b[1;33m)\u001b[0m\u001b[1;33m:\u001b[0m\u001b[1;33m\u001b[0m\u001b[1;33m\u001b[0m\u001b[0m\n\u001b[1;32m-> 1326\u001b[1;33m         raise ValueError(\n\u001b[0m\u001b[0;32m   1327\u001b[0m             \u001b[1;34mf\"The truth value of a {type(self).__name__} is ambiguous. \"\u001b[0m\u001b[1;33m\u001b[0m\u001b[1;33m\u001b[0m\u001b[0m\n\u001b[0;32m   1328\u001b[0m             \u001b[1;34m\"Use a.empty, a.bool(), a.item(), a.any() or a.all().\"\u001b[0m\u001b[1;33m\u001b[0m\u001b[1;33m\u001b[0m\u001b[0m\n",
      "\u001b[1;31mValueError\u001b[0m: The truth value of a DataFrame is ambiguous. Use a.empty, a.bool(), a.item(), a.any() or a.all()."
     ]
    }
   ],
   "source": [
    "# Use the Pandas plot function to plot the average housing units per year.\n",
    "# Note: You will need to manually adjust the y limit of the chart using the min and max values from above.\n",
    "\n",
    "#min = housing_units.min()['housing_units']\n",
    "#max = housing_units.max()['housing_units']\n",
    "housing_units.plot.bar(ylim =(min-2000, max+2000), title=\"Housing Units in San Francisco from 2010 to 2016\"\n",
    ")\n",
    "\n",
    "# Optional Challenge: Use the min, max, and std to scale the y limits of the chart\n",
    "\n",
    "plt.show()\n",
    "plt.close(housing_units)"
   ]
  },
  {
   "cell_type": "markdown",
   "metadata": {},
   "source": [
    "- - - "
   ]
  },
  {
   "cell_type": "markdown",
   "metadata": {},
   "source": [
    "## Average Prices per Square Foot\n",
    "\n",
    "In this section, you will calculate the average gross rent and average sales price for each year. Plot the results as a line chart."
   ]
  },
  {
   "cell_type": "markdown",
   "metadata": {},
   "source": [
    "### Average Gross Rent in San Francisco Per Year"
   ]
  },
  {
   "cell_type": "code",
   "execution_count": 77,
   "metadata": {},
   "outputs": [
    {
     "data": {
      "text/html": [
       "<div>\n",
       "<style scoped>\n",
       "    .dataframe tbody tr th:only-of-type {\n",
       "        vertical-align: middle;\n",
       "    }\n",
       "\n",
       "    .dataframe tbody tr th {\n",
       "        vertical-align: top;\n",
       "    }\n",
       "\n",
       "    .dataframe thead th {\n",
       "        text-align: right;\n",
       "    }\n",
       "</style>\n",
       "<table border=\"1\" class=\"dataframe\">\n",
       "  <thead>\n",
       "    <tr style=\"text-align: right;\">\n",
       "      <th></th>\n",
       "      <th>gross_rent</th>\n",
       "    </tr>\n",
       "    <tr>\n",
       "      <th>year</th>\n",
       "      <th></th>\n",
       "    </tr>\n",
       "  </thead>\n",
       "  <tbody>\n",
       "    <tr>\n",
       "      <th>2010</th>\n",
       "      <td>1239</td>\n",
       "    </tr>\n",
       "    <tr>\n",
       "      <th>2011</th>\n",
       "      <td>1530</td>\n",
       "    </tr>\n",
       "    <tr>\n",
       "      <th>2012</th>\n",
       "      <td>2324</td>\n",
       "    </tr>\n",
       "    <tr>\n",
       "      <th>2013</th>\n",
       "      <td>2971</td>\n",
       "    </tr>\n",
       "    <tr>\n",
       "      <th>2014</th>\n",
       "      <td>3528</td>\n",
       "    </tr>\n",
       "    <tr>\n",
       "      <th>2015</th>\n",
       "      <td>3739</td>\n",
       "    </tr>\n",
       "    <tr>\n",
       "      <th>2016</th>\n",
       "      <td>4390</td>\n",
       "    </tr>\n",
       "  </tbody>\n",
       "</table>\n",
       "</div>"
      ],
      "text/plain": [
       "      gross_rent\n",
       "year            \n",
       "2010        1239\n",
       "2011        1530\n",
       "2012        2324\n",
       "2013        2971\n",
       "2014        3528\n",
       "2015        3739\n",
       "2016        4390"
      ]
     },
     "execution_count": 77,
     "metadata": {},
     "output_type": "execute_result"
    }
   ],
   "source": [
    "# Calculate the average gross rent and average sale price per square foot\n",
    "\n",
    "average_rent_sqr_foot = pd.DataFrame(sfo_data[\"gross_rent\"].groupby([sfo_data.index]).mean())\n",
    "average_rent_sqr_foot"
   ]
  },
  {
   "cell_type": "code",
   "execution_count": 78,
   "metadata": {},
   "outputs": [
    {
     "data": {
      "text/plain": [
       "<AxesSubplot:title={'center':'Average Goss Rent in San Francisco per Year'}, xlabel='year'>"
      ]
     },
     "execution_count": 78,
     "metadata": {},
     "output_type": "execute_result"
    },
    {
     "data": {
      "image/png": "[encoded data removed]",
      "text/plain": [
       "<Figure size 432x288 with 1 Axes>"
      ]
     },
     "metadata": {
      "needs_background": "light"
     },
     "output_type": "display_data"
    }
   ],
   "source": [
    "# Plot the Average Gross Rent per Year as a Line Chart\n",
    "\n",
    "average_rent_sqr_foot.plot.line(title=\"Average Goss Rent in San Francisco per Year\")"
   ]
  },
  {
   "cell_type": "markdown",
   "metadata": {},
   "source": [
    "### Average Sales Price per Year"
   ]
  },
  {
   "cell_type": "code",
   "execution_count": 79,
   "metadata": {},
   "outputs": [
    {
     "data": {
      "text/plain": [
       "<AxesSubplot:title={'center':'Average Sales Price per Square Foot in San Francisco'}, xlabel='year'>"
      ]
     },
     "execution_count": 79,
     "metadata": {},
     "output_type": "execute_result"
    },
    {
     "data": {
      "image/png": "[encoded data removed]",
      "text/plain": [
       "<Figure size 432x288 with 1 Axes>"
      ]
     },
     "metadata": {
      "needs_background": "light"
     },
     "output_type": "display_data"
    }
   ],
   "source": [
    "# Plot the Average Sales Price per Year as a line chart\n",
    "\n",
    "average_price_per_sqr_foot = sfo_data[\"sale_price_sqr_foot\"].groupby([sfo_data.index]).mean()\n",
    "average_price_per_sqr_foot.plot(title=\"Average Sales Price per Square Foot in San Francisco\")"
   ]
  },
  {
   "cell_type": "markdown",
   "metadata": {},
   "source": [
    "- - - "
   ]
  },
  {
   "cell_type": "markdown",
   "metadata": {},
   "source": [
    "## Average Prices by Neighborhood\n",
    "\n",
    "In this section, you will use hvplot to create an interactive visulization of the Average Prices with a dropdown selector for the neighborhood.\n",
    "\n",
    "Hint: It will be easier to create a new DataFrame from grouping the data and calculating the mean prices for each year and neighborhood"
   ]
  },
  {
   "cell_type": "code",
   "execution_count": 80,
   "metadata": {},
   "outputs": [
    {
     "data": {
      "text/html": [
       "<div>\n",
       "<style scoped>\n",
       "    .dataframe tbody tr th:only-of-type {\n",
       "        vertical-align: middle;\n",
       "    }\n",
       "\n",
       "    .dataframe tbody tr th {\n",
       "        vertical-align: top;\n",
       "    }\n",
       "\n",
       "    .dataframe thead th {\n",
       "        text-align: right;\n",
       "    }\n",
       "</style>\n",
       "<table border=\"1\" class=\"dataframe\">\n",
       "  <thead>\n",
       "    <tr style=\"text-align: right;\">\n",
       "      <th></th>\n",
       "      <th>year</th>\n",
       "      <th>neighborhood</th>\n",
       "      <th>sale_price_sqr_foot</th>\n",
       "    </tr>\n",
       "  </thead>\n",
       "  <tbody>\n",
       "    <tr>\n",
       "      <th>0</th>\n",
       "      <td>2010</td>\n",
       "      <td>Alamo Square</td>\n",
       "      <td>291.182945</td>\n",
       "    </tr>\n",
       "    <tr>\n",
       "      <th>1</th>\n",
       "      <td>2010</td>\n",
       "      <td>Anza Vista</td>\n",
       "      <td>267.932583</td>\n",
       "    </tr>\n",
       "    <tr>\n",
       "      <th>2</th>\n",
       "      <td>2010</td>\n",
       "      <td>Bayview</td>\n",
       "      <td>170.098665</td>\n",
       "    </tr>\n",
       "    <tr>\n",
       "      <th>3</th>\n",
       "      <td>2010</td>\n",
       "      <td>Buena Vista Park</td>\n",
       "      <td>347.394919</td>\n",
       "    </tr>\n",
       "    <tr>\n",
       "      <th>4</th>\n",
       "      <td>2010</td>\n",
       "      <td>Central Richmond</td>\n",
       "      <td>319.027623</td>\n",
       "    </tr>\n",
       "    <tr>\n",
       "      <th>5</th>\n",
       "      <td>2010</td>\n",
       "      <td>Central Sunset</td>\n",
       "      <td>418.172493</td>\n",
       "    </tr>\n",
       "    <tr>\n",
       "      <th>6</th>\n",
       "      <td>2010</td>\n",
       "      <td>Corona Heights</td>\n",
       "      <td>369.359338</td>\n",
       "    </tr>\n",
       "    <tr>\n",
       "      <th>7</th>\n",
       "      <td>2010</td>\n",
       "      <td>Cow Hollow</td>\n",
       "      <td>569.379968</td>\n",
       "    </tr>\n",
       "    <tr>\n",
       "      <th>8</th>\n",
       "      <td>2010</td>\n",
       "      <td>Croker Amazon</td>\n",
       "      <td>165.645730</td>\n",
       "    </tr>\n",
       "    <tr>\n",
       "      <th>9</th>\n",
       "      <td>2010</td>\n",
       "      <td>Diamond Heights</td>\n",
       "      <td>456.930822</td>\n",
       "    </tr>\n",
       "  </tbody>\n",
       "</table>\n",
       "</div>"
      ],
      "text/plain": [
       "   year      neighborhood  sale_price_sqr_foot\n",
       "0  2010      Alamo Square           291.182945\n",
       "1  2010        Anza Vista           267.932583\n",
       "2  2010           Bayview           170.098665\n",
       "3  2010  Buena Vista Park           347.394919\n",
       "4  2010  Central Richmond           319.027623\n",
       "5  2010    Central Sunset           418.172493\n",
       "6  2010    Corona Heights           369.359338\n",
       "7  2010        Cow Hollow           569.379968\n",
       "8  2010     Croker Amazon           165.645730\n",
       "9  2010   Diamond Heights           456.930822"
      ]
     },
     "execution_count": 80,
     "metadata": {},
     "output_type": "execute_result"
    }
   ],
   "source": [
    "# Group by year and neighborhood and then create a new dataframe of the mean values\n",
    "\n",
    "sfo_data_new = sfo_data.groupby([sfo_data.index, \"neighborhood\"]).mean()\n",
    "sfo_sales = sfo_data_new[\"sale_price_sqr_foot\"]\n",
    "sfo_sales_df = pd.DataFrame(sfo_sales).reset_index()\n",
    "sfo_sales_df.head(10)"
   ]
  },
  {
   "cell_type": "code",
   "execution_count": 81,
   "metadata": {},
   "outputs": [
    {
     "data": {},
     "metadata": {},
     "output_type": "display_data"
    },
    {
     "data": {
      "application/vnd.holoviews_exec.v0+json": "",
      "text/html": [
       "<div id='1809'>\n",
       "\n",
       "\n",
       "\n",
       "\n",
       "\n",
       "  <div class=\"bk-root\" id=\"f8fa9326-9765-42c6-ac5d-91b937fea770\" data-root-id=\"1809\"></div>\n",
       "</div>\n",
       "<script type=\"application/javascript\">(function(root) {\n",
       "  function embed_document(root) {\n",
       "  var docs_json = {\"75dffb84-75b2-4ed5-b2b8-cf82fd63c0ee\":{\"roots\":{\"references\":[{\"attributes\":{\"axis_label\":\"Year\",\"bounds\":\"auto\",\"formatter\":{\"id\":\"1852\"},\"major_label_orientation\":\"horizontal\",\"ticker\":{\"id\":\"1824\"}},\"id\":\"1823\",\"type\":\"LinearAxis\"},{\"attributes\":{},\"id\":\"1867\",\"type\":\"UnionRenderers\"},{\"attributes\":{\"axis\":{\"id\":\"1827\"},\"dimension\":1,\"grid_line_color\":null,\"ticker\":null},\"id\":\"1830\",\"type\":\"Grid\"},{\"attributes\":{},\"id\":\"1845\",\"type\":\"Selection\"},{\"attributes\":{},\"id\":\"1832\",\"type\":\"PanTool\"},{\"attributes\":{},\"id\":\"1831\",\"type\":\"SaveTool\"},{\"attributes\":{\"line_alpha\":0.2,\"line_color\":\"#1f77b3\",\"line_width\":2,\"x\":{\"field\":\"year\"},\"y\":{\"field\":\"sale_price_sqr_foot\"}},\"id\":\"1849\",\"type\":\"Line\"},{\"attributes\":{\"children\":[{\"id\":\"1810\"},{\"id\":\"1814\"},{\"id\":\"1876\"},{\"id\":\"1877\"}],\"margin\":[0,0,0,0],\"name\":\"Row03007\"},\"id\":\"1809\",\"type\":\"Row\"},{\"attributes\":{},\"id\":\"1833\",\"type\":\"WheelZoomTool\"},{\"attributes\":{\"source\":{\"id\":\"1844\"}},\"id\":\"1851\",\"type\":\"CDSView\"},{\"attributes\":{\"margin\":[5,5,5,5],\"name\":\"HSpacer03016\",\"sizing_mode\":\"stretch_width\"},\"id\":\"1810\",\"type\":\"Spacer\"},{\"attributes\":{\"client_comm_id\":\"71c48014fbe34660a2b0c1d1f8458bba\",\"comm_id\":\"e78c13b9938d4c02a7c466e6c5075413\",\"plot_id\":\"1809\"},\"id\":\"1906\",\"type\":\"panel.models.comm_manager.CommManager\"},{\"attributes\":{\"overlay\":{\"id\":\"1836\"}},\"id\":\"1834\",\"type\":\"BoxZoomTool\"},{\"attributes\":{\"line_alpha\":0.1,\"line_color\":\"#1f77b3\",\"line_width\":2,\"x\":{\"field\":\"year\"},\"y\":{\"field\":\"sale_price_sqr_foot\"}},\"id\":\"1848\",\"type\":\"Line\"},{\"attributes\":{\"margin\":[5,5,5,5],\"name\":\"VSpacer03013\",\"sizing_mode\":\"stretch_height\"},\"id\":\"1878\",\"type\":\"Spacer\"},{\"attributes\":{\"end\":644.0175329447045,\"reset_end\":644.0175329447045,\"reset_start\":141.1976609302527,\"start\":141.1976609302527,\"tags\":[[[\"sale_price_sqr_foot\",\"sale_price_sqr_foot\",null]]]},\"id\":\"1812\",\"type\":\"Range1d\"},{\"attributes\":{\"text\":\"neighborhood: Alamo Square\",\"text_color\":{\"value\":\"black\"},\"text_font_size\":{\"value\":\"12pt\"}},\"id\":\"1815\",\"type\":\"Title\"},{\"attributes\":{\"callback\":null,\"renderers\":[{\"id\":\"1850\"}],\"tags\":[\"hv_created\"],\"tooltips\":[[\"year\",\"@{year}\"],[\"sale_price_sqr_foot\",\"@{sale_price_sqr_foot}\"]]},\"id\":\"1813\",\"type\":\"HoverTool\"},{\"attributes\":{},\"id\":\"1854\",\"type\":\"BasicTickFormatter\"},{\"attributes\":{\"data\":{\"sale_price_sqr_foot\":{\"__ndarray__\":\"Dkc7WO0yckCafszcbwhxQIGRs5ot42ZAJzog0LQ8eEAWMinKGEd+QI0V5FDt0IJAVCHcmLVPdUA=\",\"dtype\":\"float64\",\"order\":\"little\",\"shape\":[7]},\"year\":[2010,2011,2012,2013,2014,2015,2016]},\"selected\":{\"id\":\"1845\"},\"selection_policy\":{\"id\":\"1867\"}},\"id\":\"1844\",\"type\":\"ColumnDataSource\"},{\"attributes\":{},\"id\":\"1819\",\"type\":\"LinearScale\"},{\"attributes\":{\"margin\":[5,5,5,5],\"name\":\"HSpacer03017\",\"sizing_mode\":\"stretch_width\"},\"id\":\"1876\",\"type\":\"Spacer\"},{\"attributes\":{\"bottom_units\":\"screen\",\"fill_alpha\":0.5,\"fill_color\":\"lightgrey\",\"left_units\":\"screen\",\"level\":\"overlay\",\"line_alpha\":1.0,\"line_color\":\"black\",\"line_dash\":[4,4],\"line_width\":2,\"right_units\":\"screen\",\"top_units\":\"screen\"},\"id\":\"1836\",\"type\":\"BoxAnnotation\"},{\"attributes\":{\"children\":[{\"id\":\"1880\"}],\"css_classes\":[\"panel-widget-box\"],\"margin\":[5,5,5,5],\"name\":\"WidgetBox03008\"},\"id\":\"1879\",\"type\":\"Column\"},{\"attributes\":{},\"id\":\"1852\",\"type\":\"BasicTickFormatter\"},{\"attributes\":{\"end\":2016.0,\"reset_end\":2016.0,\"reset_start\":2010.0,\"start\":2010.0,\"tags\":[[[\"year\",\"year\",null]]]},\"id\":\"1811\",\"type\":\"Range1d\"},{\"attributes\":{\"margin\":[20,20,20,20],\"min_width\":250,\"options\":[\"Alamo Square\",\"Anza Vista\",\"Bayview\",\"Buena Vista Park\",\"Central Richmond\",\"Central Sunset\",\"Corona Heights\",\"Cow Hollow\",\"Croker Amazon\",\"Diamond Heights\",\"Downtown \",\"Eureka Valley/Dolores Heights\",\"Excelsior\",\"Financial District North\",\"Financial District South\",\"Forest Knolls\",\"Glen Park\",\"Golden Gate Heights\",\"Haight Ashbury\",\"Hayes Valley\",\"Hunters Point\",\"Ingleside \",\"Inner Mission\",\"Inner Parkside\",\"Inner Richmond\",\"Inner Sunset\",\"Jordan Park/Laurel Heights\",\"Lake --The Presidio\",\"Lone Mountain\",\"Lower Pacific Heights\",\"Marina\",\"Miraloma Park\",\"Mission Bay\",\"Mission Dolores\",\"Mission Terrace\",\"Nob Hill\",\"Noe Valley\",\"Oceanview\",\"Outer Parkside\",\"Outer Richmond \",\"Outer Sunset\",\"Pacific Heights\",\"Park North\",\"Parkside\",\"Parnassus/Ashbury Heights\",\"Portola\",\"Potrero Hill\",\"Presidio Heights\",\"Russian Hill\",\"South Beach\",\"South of Market\",\"Sunnyside\",\"Telegraph Hill\",\"Twin Peaks\",\"Union Square District\",\"Van Ness/ Civic Center\",\"West Portal\",\"Western Addition\",\"Yerba Buena\",\"Bernal Heights \",\"Clarendon Heights\",\"Duboce Triangle\",\"Ingleside Heights\",\"North Beach\",\"North Waterfront\",\"Outer Mission\",\"Westwood Highlands\",\"Merced Heights\",\"Midtown Terrace\",\"Visitacion Valley\",\"Silver Terrace\",\"Westwood Park\",\"Bayview Heights\"],\"title\":\"neighborhood\",\"value\":\"Alamo Square\",\"width\":250},\"id\":\"1880\",\"type\":\"Select\"},{\"attributes\":{\"axis_label\":\"San Francisco Sales per Square foot per Year\",\"bounds\":\"auto\",\"formatter\":{\"id\":\"1854\"},\"major_label_orientation\":\"horizontal\",\"ticker\":{\"id\":\"1828\"}},\"id\":\"1827\",\"type\":\"LinearAxis\"},{\"attributes\":{\"line_color\":\"#1f77b3\",\"line_width\":2,\"x\":{\"field\":\"year\"},\"y\":{\"field\":\"sale_price_sqr_foot\"}},\"id\":\"1847\",\"type\":\"Line\"},{\"attributes\":{\"align\":null,\"below\":[{\"id\":\"1823\"}],\"center\":[{\"id\":\"1826\"},{\"id\":\"1830\"}],\"left\":[{\"id\":\"1827\"}],\"margin\":null,\"min_border_bottom\":10,\"min_border_left\":10,\"min_border_right\":10,\"min_border_top\":10,\"plot_height\":300,\"plot_width\":700,\"renderers\":[{\"id\":\"1850\"}],\"sizing_mode\":\"fixed\",\"title\":{\"id\":\"1815\"},\"toolbar\":{\"id\":\"1837\"},\"x_range\":{\"id\":\"1811\"},\"x_scale\":{\"id\":\"1819\"},\"y_range\":{\"id\":\"1812\"},\"y_scale\":{\"id\":\"1821\"}},\"id\":\"1814\",\"subtype\":\"Figure\",\"type\":\"Plot\"},{\"attributes\":{\"data_source\":{\"id\":\"1844\"},\"glyph\":{\"id\":\"1847\"},\"hover_glyph\":null,\"muted_glyph\":{\"id\":\"1849\"},\"nonselection_glyph\":{\"id\":\"1848\"},\"selection_glyph\":null,\"view\":{\"id\":\"1851\"}},\"id\":\"1850\",\"type\":\"GlyphRenderer\"},{\"attributes\":{\"active_drag\":\"auto\",\"active_inspect\":\"auto\",\"active_multi\":null,\"active_scroll\":\"auto\",\"active_tap\":\"auto\",\"tools\":[{\"id\":\"1813\"},{\"id\":\"1831\"},{\"id\":\"1832\"},{\"id\":\"1833\"},{\"id\":\"1834\"},{\"id\":\"1835\"}]},\"id\":\"1837\",\"type\":\"Toolbar\"},{\"attributes\":{\"margin\":[5,5,5,5],\"name\":\"VSpacer03014\",\"sizing_mode\":\"stretch_height\"},\"id\":\"1881\",\"type\":\"Spacer\"},{\"attributes\":{},\"id\":\"1835\",\"type\":\"ResetTool\"},{\"attributes\":{\"axis\":{\"id\":\"1823\"},\"grid_line_color\":null,\"ticker\":null},\"id\":\"1826\",\"type\":\"Grid\"},{\"attributes\":{},\"id\":\"1824\",\"type\":\"BasicTicker\"},{\"attributes\":{},\"id\":\"1828\",\"type\":\"BasicTicker\"},{\"attributes\":{\"children\":[{\"id\":\"1878\"},{\"id\":\"1879\"},{\"id\":\"1881\"}],\"margin\":[0,0,0,0],\"name\":\"Column03015\"},\"id\":\"1877\",\"type\":\"Column\"},{\"attributes\":{},\"id\":\"1821\",\"type\":\"LinearScale\"}],\"root_ids\":[\"1809\",\"1906\"]},\"title\":\"Bokeh Application\",\"version\":\"2.2.0\"}};\n",
       "  var render_items = [{\"docid\":\"75dffb84-75b2-4ed5-b2b8-cf82fd63c0ee\",\"root_ids\":[\"1809\"],\"roots\":{\"1809\":\"f8fa9326-9765-42c6-ac5d-91b937fea770\"}}];\n",
       "  root.Bokeh.embed.embed_items_notebook(docs_json, render_items);\n",
       "  }\n",
       "if (root.Bokeh !== undefined) {\n",
       "    embed_document(root);\n",
       "  } else {\n",
       "    var attempts = 0;\n",
       "    var timer = setInterval(function(root) {\n",
       "      if (root.Bokeh !== undefined) {\n",
       "        clearInterval(timer);\n",
       "        embed_document(root);\n",
       "      } else if (document.readyState == \"complete\") {\n",
       "        attempts++;\n",
       "        if (attempts > 100) {\n",
       "          clearInterval(timer);\n",
       "          console.log(\"Bokeh: ERROR: Unable to run BokehJS code because BokehJS library is missing\");\n",
       "        }\n",
       "      }\n",
       "    }, 10, root)\n",
       "  }\n",
       "})(window);</script>"
      ],
      "text/plain": [
       ":DynamicMap   [neighborhood]\n",
       "   :Curve   [year]   (sale_price_sqr_foot)"
      ]
     },
     "execution_count": 81,
     "metadata": {
      "application/vnd.holoviews_exec.v0+json": {
       "id": "1809"
      }
     },
     "output_type": "execute_result"
    }
   ],
   "source": [
    "# Use hvplot to create an interactive line chart of the average price per sq ft.\n",
    "# The plot should have a dropdown selector for the neighborhood\n",
    "\n",
    "sfo_data_new.hvplot.line(\n",
    "    \"year\",\n",
    "    \"sale_price_sqr_foot\",\n",
    "    xlabel=\"Year\",\n",
    "    ylabel=\"San Francisco Sales per Square foot per Year\",\n",
    "    groupby=\"neighborhood\",\n",
    ")   \n",
    "    \n"
   ]
  },
  {
   "cell_type": "markdown",
   "metadata": {},
   "source": [
    "- - - "
   ]
  },
  {
   "cell_type": "markdown",
   "metadata": {},
   "source": [
    "## The Top 10 Most Expensive Neighborhoods\n",
    "\n",
    "In this section, you will need to calculate the mean sale price for each neighborhood and then sort the values to obtain the top 10 most expensive neighborhoods on average. Plot the results as a bar chart."
   ]
  },
  {
   "cell_type": "code",
   "execution_count": 82,
   "metadata": {},
   "outputs": [
    {
     "data": {
      "text/html": [
       "<div>\n",
       "<style scoped>\n",
       "    .dataframe tbody tr th:only-of-type {\n",
       "        vertical-align: middle;\n",
       "    }\n",
       "\n",
       "    .dataframe tbody tr th {\n",
       "        vertical-align: top;\n",
       "    }\n",
       "\n",
       "    .dataframe thead th {\n",
       "        text-align: right;\n",
       "    }\n",
       "</style>\n",
       "<table border=\"1\" class=\"dataframe\">\n",
       "  <thead>\n",
       "    <tr style=\"text-align: right;\">\n",
       "      <th></th>\n",
       "      <th>year</th>\n",
       "      <th>neighborhood</th>\n",
       "      <th>sale_price_sqr_foot</th>\n",
       "      <th>housing_units</th>\n",
       "      <th>gross_rent</th>\n",
       "    </tr>\n",
       "  </thead>\n",
       "  <tbody>\n",
       "    <tr>\n",
       "      <th>0</th>\n",
       "      <td>2015</td>\n",
       "      <td>Union Square District</td>\n",
       "      <td>2258.702832</td>\n",
       "      <td>382295</td>\n",
       "      <td>3739</td>\n",
       "    </tr>\n",
       "    <tr>\n",
       "      <th>1</th>\n",
       "      <td>2016</td>\n",
       "      <td>Presidio Heights</td>\n",
       "      <td>1465.968586</td>\n",
       "      <td>384242</td>\n",
       "      <td>4390</td>\n",
       "    </tr>\n",
       "    <tr>\n",
       "      <th>2</th>\n",
       "      <td>2016</td>\n",
       "      <td>Merced Heights</td>\n",
       "      <td>1416.666667</td>\n",
       "      <td>384242</td>\n",
       "      <td>4390</td>\n",
       "    </tr>\n",
       "    <tr>\n",
       "      <th>3</th>\n",
       "      <td>2013</td>\n",
       "      <td>Union Square District</td>\n",
       "      <td>1290.472107</td>\n",
       "      <td>378401</td>\n",
       "      <td>2971</td>\n",
       "    </tr>\n",
       "    <tr>\n",
       "      <th>4</th>\n",
       "      <td>2014</td>\n",
       "      <td>Miraloma Park</td>\n",
       "      <td>1267.766203</td>\n",
       "      <td>380348</td>\n",
       "      <td>3528</td>\n",
       "    </tr>\n",
       "    <tr>\n",
       "      <th>5</th>\n",
       "      <td>2016</td>\n",
       "      <td>Parnassus/Ashbury Heights</td>\n",
       "      <td>1207.997485</td>\n",
       "      <td>384242</td>\n",
       "      <td>4390</td>\n",
       "    </tr>\n",
       "    <tr>\n",
       "      <th>6</th>\n",
       "      <td>2016</td>\n",
       "      <td>Outer Richmond</td>\n",
       "      <td>1196.645437</td>\n",
       "      <td>384242</td>\n",
       "      <td>4390</td>\n",
       "    </tr>\n",
       "    <tr>\n",
       "      <th>7</th>\n",
       "      <td>2015</td>\n",
       "      <td>Marina</td>\n",
       "      <td>1132.837361</td>\n",
       "      <td>382295</td>\n",
       "      <td>3739</td>\n",
       "    </tr>\n",
       "    <tr>\n",
       "      <th>8</th>\n",
       "      <td>2014</td>\n",
       "      <td>South of Market</td>\n",
       "      <td>1119.838877</td>\n",
       "      <td>380348</td>\n",
       "      <td>3528</td>\n",
       "    </tr>\n",
       "    <tr>\n",
       "      <th>9</th>\n",
       "      <td>2015</td>\n",
       "      <td>Corona Heights</td>\n",
       "      <td>1100.791194</td>\n",
       "      <td>382295</td>\n",
       "      <td>3739</td>\n",
       "    </tr>\n",
       "  </tbody>\n",
       "</table>\n",
       "</div>"
      ],
      "text/plain": [
       "   year               neighborhood  sale_price_sqr_foot  housing_units  \\\n",
       "0  2015      Union Square District          2258.702832         382295   \n",
       "1  2016           Presidio Heights          1465.968586         384242   \n",
       "2  2016             Merced Heights          1416.666667         384242   \n",
       "3  2013      Union Square District          1290.472107         378401   \n",
       "4  2014              Miraloma Park          1267.766203         380348   \n",
       "5  2016  Parnassus/Ashbury Heights          1207.997485         384242   \n",
       "6  2016            Outer Richmond           1196.645437         384242   \n",
       "7  2015                     Marina          1132.837361         382295   \n",
       "8  2014            South of Market          1119.838877         380348   \n",
       "9  2015             Corona Heights          1100.791194         382295   \n",
       "\n",
       "   gross_rent  \n",
       "0        3739  \n",
       "1        4390  \n",
       "2        4390  \n",
       "3        2971  \n",
       "4        3528  \n",
       "5        4390  \n",
       "6        4390  \n",
       "7        3739  \n",
       "8        3528  \n",
       "9        3739  "
      ]
     },
     "execution_count": 82,
     "metadata": {},
     "output_type": "execute_result"
    }
   ],
   "source": [
    "# Getting the data from the top 10 expensive neighborhoods\n",
    "\n",
    "top_10_most_expensive = sfo_data.sort_values(by='sale_price_sqr_foot', ascending=False).reset_index()\n",
    "top_10_most_expensive.head(10)"
   ]
  },
  {
   "cell_type": "code",
   "execution_count": 83,
   "metadata": {},
   "outputs": [
    {
     "data": {},
     "metadata": {},
     "output_type": "display_data"
    },
    {
     "data": {
      "application/vnd.holoviews_exec.v0+json": "",
      "text/html": [
       "<div id='1947'>\n",
       "\n",
       "\n",
       "\n",
       "\n",
       "\n",
       "  <div class=\"bk-root\" id=\"b2596d14-7c4a-426e-b3a6-7dc0e9ac4f60\" data-root-id=\"1947\"></div>\n",
       "</div>\n",
       "<script type=\"application/javascript\">(function(root) {\n",
       "  function embed_document(root) {\n",
       "  var docs_json = {\"9b8b983d-57d3-4274-af08-1b22310d25b3\":{\"roots\":{\"references\":[{\"attributes\":{\"end\":2480.495852663006,\"reset_end\":2480.495852663006,\"reset_start\":0.0,\"tags\":[[[\"sale_price_sqr_foot\",\"sale_price_sqr_foot\",null]]]},\"id\":\"1950\",\"type\":\"Range1d\"},{\"attributes\":{\"factors\":[\"Union Square District\",\"Presidio Heights\",\"Merced Heights\",\"Miraloma Park\",\"Parnassus/Ashbury Heights\",\"Outer Richmond \",\"Marina\",\"South of Market\",\"Corona Heights\",\"Cow Hollow\",\"Potrero Hill\",\"South Beach\",\"Eureka Valley/Dolores Heights\",\"Russian Hill\",\"Telegraph Hill\",\"Pacific Heights\",\"Bernal Heights \",\"Twin Peaks\",\"Yerba Buena\",\"Golden Gate Heights\",\"Glen Park\",\"Mission Bay\",\"Lone Mountain\",\"North Waterfront\",\"Mission Terrace\",\"Buena Vista Park\",\"Lower Pacific Heights\",\"Noe Valley\",\"Nob Hill\",\"Inner Parkside\",\"Sunnyside\",\"Westwood Highlands\",\"Westwood Park\",\"Outer Parkside\",\"Downtown \",\"Jordan Park/Laurel Heights\",\"Midtown Terrace\",\"Financial District South\",\"Financial District North\",\"West Portal\",\"Van Ness/ Civic Center\",\"Central Richmond\",\"Inner Mission\",\"Ingleside \",\"Mission Dolores\",\"Inner Sunset\",\"Duboce Triangle\",\"Anza Vista\",\"Park North\",\"Alamo Square\",\"Bayview Heights\",\"Central Sunset\",\"Haight Ashbury\",\"Ingleside Heights\",\"Lake --The Presidio\",\"Croker Amazon\",\"Outer Mission\",\"Portola\",\"Hayes Valley\",\"Excelsior\",\"Diamond Heights\",\"Clarendon Heights\",\"North Beach\",\"Outer Sunset\",\"Inner Richmond\",\"Western Addition\",\"Parkside\",\"Oceanview\",\"Forest Knolls\",\"Visitacion Valley\",\"Bayview\",\"Hunters Point\",\"Silver Terrace\"],\"tags\":[[[\"neighborhood\",\"neighborhood\",null]]]},\"id\":\"1949\",\"type\":\"FactorRange\"},{\"attributes\":{\"text\":\"Top 10 Most Expensive Neighborhoods in San Francisco\",\"text_color\":{\"value\":\"black\"},\"text_font_size\":{\"value\":\"12pt\"}},\"id\":\"1953\",\"type\":\"Title\"},{\"attributes\":{\"children\":[{\"id\":\"1948\"},{\"id\":\"1952\"},{\"id\":\"2009\"}],\"margin\":[0,0,0,0],\"name\":\"Row03317\",\"tags\":[\"embedded\"]},\"id\":\"1947\",\"type\":\"Row\"},{\"attributes\":{\"callback\":null,\"renderers\":[{\"id\":\"1987\"}],\"tags\":[\"hv_created\"],\"tooltips\":[[\"neighborhood\",\"@{neighborhood}\"],[\"sale_price_sqr_foot\",\"@{sale_price_sqr_foot}\"]]},\"id\":\"1951\",\"type\":\"HoverTool\"},{\"attributes\":{},\"id\":\"1957\",\"type\":\"CategoricalScale\"},{\"attributes\":{\"align\":null,\"below\":[{\"id\":\"1961\"}],\"center\":[{\"id\":\"1963\"},{\"id\":\"1967\"}],\"left\":[{\"id\":\"1964\"}],\"margin\":null,\"min_border_bottom\":10,\"min_border_left\":10,\"min_border_right\":10,\"min_border_top\":10,\"plot_height\":400,\"plot_width\":700,\"renderers\":[{\"id\":\"1987\"}],\"sizing_mode\":\"fixed\",\"title\":{\"id\":\"1953\"},\"toolbar\":{\"id\":\"1974\"},\"x_range\":{\"id\":\"1949\"},\"x_scale\":{\"id\":\"1957\"},\"y_range\":{\"id\":\"1950\"},\"y_scale\":{\"id\":\"1959\"}},\"id\":\"1952\",\"subtype\":\"Figure\",\"type\":\"Plot\"},{\"attributes\":{},\"id\":\"1991\",\"type\":\"BasicTickFormatter\"},{\"attributes\":{\"bottom_units\":\"screen\",\"fill_alpha\":0.5,\"fill_color\":\"lightgrey\",\"left_units\":\"screen\",\"level\":\"overlay\",\"line_alpha\":1.0,\"line_color\":\"black\",\"line_dash\":[4,4],\"line_width\":2,\"right_units\":\"screen\",\"top_units\":\"screen\"},\"id\":\"1973\",\"type\":\"BoxAnnotation\"},{\"attributes\":{\"axis_label\":\"sale_price_sqr_foot\",\"bounds\":\"auto\",\"formatter\":{\"id\":\"1991\"},\"major_label_orientation\":\"horizontal\",\"ticker\":{\"id\":\"1965\"}},\"id\":\"1964\",\"type\":\"LinearAxis\"},{\"attributes\":{},\"id\":\"1989\",\"type\":\"CategoricalTickFormatter\"},{\"attributes\":{\"margin\":[5,5,5,5],\"name\":\"HSpacer03322\",\"sizing_mode\":\"stretch_width\"},\"id\":\"2009\",\"type\":\"Spacer\"},{\"attributes\":{\"axis\":{\"id\":\"1961\"},\"grid_line_color\":null,\"ticker\":null},\"id\":\"1963\",\"type\":\"Grid\"},{\"attributes\":{\"data_source\":{\"id\":\"1981\"},\"glyph\":{\"id\":\"1984\"},\"hover_glyph\":null,\"muted_glyph\":{\"id\":\"1986\"},\"nonselection_glyph\":{\"id\":\"1985\"},\"selection_glyph\":null,\"view\":{\"id\":\"1988\"}},\"id\":\"1987\",\"type\":\"GlyphRenderer\"},{\"attributes\":{\"data\":{\"neighborhood\":[\"Union Square District\",\"Presidio Heights\",\"Merced Heights\",\"Union Square District\",\"Miraloma Park\",\"Parnassus/Ashbury Heights\",\"Outer Richmond \",\"Marina\",\"South of Market\",\"Corona Heights\",\"Cow Hollow\",\"Potrero Hill\",\"South Beach\",\"Eureka Valley/Dolores Heights\",\"Russian Hill\",\"Telegraph Hill\",\"Pacific Heights\",\"Bernal Heights \",\"Twin Peaks\",\"Yerba Buena\",\"Golden Gate Heights\",\"Glen Park\",\"Mission Bay\",\"Lone Mountain\",\"Pacific Heights\",\"Telegraph Hill\",\"North Waterfront\",\"Corona Heights\",\"Mission Terrace\",\"Buena Vista Park\",\"Pacific Heights\",\"Potrero Hill\",\"Lower Pacific Heights\",\"Noe Valley\",\"Russian Hill\",\"Eureka Valley/Dolores Heights\",\"Nob Hill\",\"Parnassus/Ashbury Heights\",\"Golden Gate Heights\",\"Inner Parkside\",\"Miraloma Park\",\"Yerba Buena\",\"Sunnyside\",\"Westwood Highlands\",\"Westwood Park\",\"Outer Parkside\",\"Eureka Valley/Dolores Heights\",\"Downtown \",\"South of Market\",\"Lower Pacific Heights\",\"Glen Park\",\"Russian Hill\",\"Telegraph Hill\",\"Potrero Hill\",\"Cow Hollow\",\"Jordan Park/Laurel Heights\",\"Midtown Terrace\",\"Financial District South\",\"Financial District North\",\"Cow Hollow\",\"Mission Bay\",\"West Portal\",\"Miraloma Park\",\"Van Ness/ Civic Center\",\"Central Richmond\",\"Marina\",\"Noe Valley\",\"Telegraph Hill\",\"Outer Parkside\",\"Outer Parkside\",\"Inner Mission\",\"Ingleside \",\"Cow Hollow\",\"Marina\",\"Mission Dolores\",\"Inner Sunset\",\"Lower Pacific Heights\",\"Duboce Triangle\",\"Westwood Park\",\"Bernal Heights \",\"Duboce Triangle\",\"Anza Vista\",\"Park North\",\"Noe Valley\",\"Financial District South\",\"Glen Park\",\"Jordan Park/Laurel Heights\",\"Eureka Valley/Dolores Heights\",\"Parnassus/Ashbury Heights\",\"Presidio Heights\",\"Alamo Square\",\"Potrero Hill\",\"Cow Hollow\",\"Inner Parkside\",\"Mission Terrace\",\"Bayview Heights\",\"West Portal\",\"Pacific Heights\",\"Jordan Park/Laurel Heights\",\"Mission Terrace\",\"Central Sunset\",\"Jordan Park/Laurel Heights\",\"Haight Ashbury\",\"Mission Dolores\",\"Ingleside Heights\",\"Cow Hollow\",\"Union Square District\",\"Lake --The Presidio\",\"Golden Gate Heights\",\"Croker Amazon\",\"Outer Mission\",\"Twin Peaks\",\"Union Square District\",\"Glen Park\",\"Van Ness/ Civic Center\",\"Golden Gate Heights\",\"Buena Vista Park\",\"Presidio Heights\",\"Lower Pacific Heights\",\"Lone Mountain\",\"Noe Valley\",\"Bernal Heights \",\"Sunnyside\",\"Portola\",\"Hayes Valley\",\"Excelsior\",\"Diamond Heights\",\"Haight Ashbury\",\"South of Market\",\"Nob Hill\",\"Merced Heights\",\"Eureka Valley/Dolores Heights\",\"Telegraph Hill\",\"South Beach\",\"Clarendon Heights\",\"Inner Parkside\",\"North Beach\",\"Parnassus/Ashbury Heights\",\"Presidio Heights\",\"Park North\",\"Outer Sunset\",\"Pacific Heights\",\"Mission Bay\",\"Russian Hill\",\"Sunnyside\",\"Pacific Heights\",\"Potrero Hill\",\"Haight Ashbury\",\"Pacific Heights\",\"Presidio Heights\",\"Inner Richmond\",\"Sunnyside\",\"Yerba Buena\",\"Hayes Valley\",\"Potrero Hill\",\"Outer Sunset\",\"Mission Bay\",\"Downtown \",\"Alamo Square\",\"Telegraph Hill\",\"North Waterfront\",\"Western Addition\",\"Yerba Buena\",\"Haight Ashbury\",\"Nob Hill\",\"Van Ness/ Civic Center\",\"Central Richmond\",\"Bernal Heights \",\"Inner Sunset\",\"Potrero Hill\",\"Parnassus/Ashbury Heights\",\"Nob Hill\",\"Telegraph Hill\",\"Anza Vista\",\"Inner Mission\",\"South of Market\",\"Glen Park\",\"Bernal Heights \",\"Glen Park\",\"Diamond Heights\",\"Central Sunset\",\"Buena Vista Park\",\"Clarendon Heights\",\"Financial District South\",\"Central Sunset\",\"Anza Vista\",\"Duboce Triangle\",\"North Beach\",\"Russian Hill\",\"Parkside\",\"Inner Sunset\",\"Marina\",\"Union Square District\",\"Oceanview\",\"Sunnyside\",\"Yerba Buena\",\"Outer Richmond \",\"Sunnyside\",\"Inner Mission\",\"Inner Sunset\",\"Forest Knolls\",\"Parnassus/Ashbury Heights\",\"Lake --The Presidio\",\"Outer Parkside\",\"Marina\",\"Inner Richmond\",\"Western Addition\",\"Hayes Valley\",\"Downtown \",\"Noe Valley\",\"Mission Dolores\",\"Jordan Park/Laurel Heights\",\"Lake --The Presidio\",\"Presidio Heights\",\"Parnassus/Ashbury Heights\",\"Central Richmond\",\"Merced Heights\",\"South of Market\",\"Jordan Park/Laurel Heights\",\"Haight Ashbury\",\"Central Sunset\",\"Twin Peaks\",\"Croker Amazon\",\"Miraloma Park\",\"Twin Peaks\",\"Excelsior\",\"Russian Hill\",\"Eureka Valley/Dolores Heights\",\"Outer Sunset\",\"Financial District North\",\"North Beach\",\"Inner Richmond\",\"Eureka Valley/Dolores Heights\",\"Outer Richmond \",\"Financial District North\",\"South of Market\",\"Lone Mountain\",\"Midtown Terrace\",\"Lower Pacific Heights\",\"North Beach\",\"Haight Ashbury\",\"West Portal\",\"Central Sunset\",\"Marina\",\"Cow Hollow\",\"North Waterfront\",\"South Beach\",\"Alamo Square\",\"Marina\",\"Van Ness/ Civic Center\",\"Jordan Park/Laurel Heights\",\"Diamond Heights\",\"Noe Valley\",\"Lake --The Presidio\",\"North Waterfront\",\"Parkside\",\"Inner Mission\",\"Lone Mountain\",\"Lower Pacific Heights\",\"Noe Valley\",\"Inner Richmond\",\"Outer Parkside\",\"Park North\",\"Excelsior\",\"Corona Heights\",\"Outer Sunset\",\"Bernal Heights \",\"Diamond Heights\",\"Excelsior\",\"Parkside\",\"Russian Hill\",\"Downtown \",\"Inner Richmond\",\"Excelsior\",\"Outer Sunset\",\"Corona Heights\",\"Ingleside \",\"Financial District South\",\"Portola\",\"Golden Gate Heights\",\"Buena Vista Park\",\"North Waterfront\",\"Van Ness/ Civic Center\",\"Anza Vista\",\"Central Richmond\",\"Alamo Square\",\"Nob Hill\",\"Outer Richmond \",\"Buena Vista Park\",\"Outer Richmond \",\"South of Market\",\"Inner Mission\",\"Central Sunset\",\"Yerba Buena\",\"Outer Richmond \",\"Twin Peaks\",\"Central Sunset\",\"Lake --The Presidio\",\"Visitacion Valley\",\"Park North\",\"Inner Sunset\",\"West Portal\",\"Outer Sunset\",\"Mission Dolores\",\"Lake --The Presidio\",\"Westwood Highlands\",\"Central Richmond\",\"Lone Mountain\",\"Lone Mountain\",\"Outer Parkside\",\"Nob Hill\",\"Nob Hill\",\"Hayes Valley\",\"Twin Peaks\",\"Lower Pacific Heights\",\"Inner Richmond\",\"Inner Sunset\",\"Visitacion Valley\",\"Portola\",\"Union Square District\",\"Croker Amazon\",\"Mission Terrace\",\"Outer Sunset\",\"Duboce Triangle\",\"Mission Dolores\",\"Visitacion Valley\",\"Alamo Square\",\"North Beach\",\"Excelsior\",\"Park North\",\"Park North\",\"Financial District North\",\"Inner Richmond\",\"Van Ness/ Civic Center\",\"Twin Peaks\",\"Inner Mission\",\"Oceanview\",\"Visitacion Valley\",\"Financial District North\",\"Hayes Valley\",\"Central Richmond\",\"Inner Sunset\",\"Ingleside \",\"Financial District North\",\"Western Addition\",\"Parkside\",\"Alamo Square\",\"Hayes Valley\",\"Outer Richmond \",\"Downtown \",\"Anza Vista\",\"Oceanview\",\"Mission Terrace\",\"Central Richmond\",\"Bayview\",\"Mission Dolores\",\"Bayview\",\"Haight Ashbury\",\"Outer Parkside\",\"Downtown \",\"Inner Mission\",\"Portola\",\"Downtown \",\"Western Addition\",\"Croker Amazon\",\"Corona Heights\",\"Outer Mission\",\"Mission Bay\",\"Parkside\",\"Western Addition\",\"Western Addition\",\"Park North\",\"Forest Knolls\",\"Portola\",\"Inner Parkside\",\"Ingleside Heights\",\"Ingleside \",\"Alamo Square\",\"Hayes Valley\",\"Bayview\",\"Buena Vista Park\",\"Hunters Point\",\"Silver Terrace\",\"Bayview\",\"Bayview\",\"Croker Amazon\",\"Financial District South\",\"Croker Amazon\",\"Outer Mission\",\"Van Ness/ Civic Center\",\"Anza Vista\",\"Outer Mission\",\"Mission Bay\",\"Hunters Point\",\"Parkside\",\"Presidio Heights\",\"Financial District North\"],\"sale_price_sqr_foot\":{\"__ndarray__\":\"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\",\"dtype\":\"float64\",\"order\":\"little\",\"shape\":[397]}},\"selected\":{\"id\":\"1982\"},\"selection_policy\":{\"id\":\"2000\"}},\"id\":\"1981\",\"type\":\"ColumnDataSource\"},{\"attributes\":{},\"id\":\"2000\",\"type\":\"UnionRenderers\"},{\"attributes\":{},\"id\":\"1962\",\"type\":\"CategoricalTicker\"},{\"attributes\":{},\"id\":\"1965\",\"type\":\"BasicTicker\"},{\"attributes\":{\"source\":{\"id\":\"1981\"}},\"id\":\"1988\",\"type\":\"CDSView\"},{\"attributes\":{},\"id\":\"1959\",\"type\":\"LinearScale\"},{\"attributes\":{\"axis_label\":\"neighborhood\",\"bounds\":\"auto\",\"formatter\":{\"id\":\"1989\"},\"major_label_orientation\":1.3962634015954636,\"ticker\":{\"id\":\"1962\"}},\"id\":\"1961\",\"type\":\"CategoricalAxis\"},{\"attributes\":{\"fill_alpha\":{\"value\":0.1},\"fill_color\":{\"value\":\"#1f77b3\"},\"line_alpha\":{\"value\":0.1},\"top\":{\"field\":\"sale_price_sqr_foot\"},\"width\":{\"value\":0.8},\"x\":{\"field\":\"neighborhood\"}},\"id\":\"1985\",\"type\":\"VBar\"},{\"attributes\":{\"axis\":{\"id\":\"1964\"},\"dimension\":1,\"grid_line_color\":null,\"ticker\":null},\"id\":\"1967\",\"type\":\"Grid\"},{\"attributes\":{},\"id\":\"1969\",\"type\":\"PanTool\"},{\"attributes\":{\"fill_color\":{\"value\":\"#1f77b3\"},\"top\":{\"field\":\"sale_price_sqr_foot\"},\"width\":{\"value\":0.8},\"x\":{\"field\":\"neighborhood\"}},\"id\":\"1984\",\"type\":\"VBar\"},{\"attributes\":{\"fill_alpha\":{\"value\":0.2},\"fill_color\":{\"value\":\"#1f77b3\"},\"line_alpha\":{\"value\":0.2},\"top\":{\"field\":\"sale_price_sqr_foot\"},\"width\":{\"value\":0.8},\"x\":{\"field\":\"neighborhood\"}},\"id\":\"1986\",\"type\":\"VBar\"},{\"attributes\":{},\"id\":\"1968\",\"type\":\"SaveTool\"},{\"attributes\":{},\"id\":\"1982\",\"type\":\"Selection\"},{\"attributes\":{},\"id\":\"1970\",\"type\":\"WheelZoomTool\"},{\"attributes\":{\"active_drag\":\"auto\",\"active_inspect\":\"auto\",\"active_multi\":null,\"active_scroll\":\"auto\",\"active_tap\":\"auto\",\"tools\":[{\"id\":\"1951\"},{\"id\":\"1968\"},{\"id\":\"1969\"},{\"id\":\"1970\"},{\"id\":\"1971\"},{\"id\":\"1972\"}]},\"id\":\"1974\",\"type\":\"Toolbar\"},{\"attributes\":{\"overlay\":{\"id\":\"1973\"}},\"id\":\"1971\",\"type\":\"BoxZoomTool\"},{\"attributes\":{},\"id\":\"1972\",\"type\":\"ResetTool\"},{\"attributes\":{\"margin\":[5,5,5,5],\"name\":\"HSpacer03321\",\"sizing_mode\":\"stretch_width\"},\"id\":\"1948\",\"type\":\"Spacer\"}],\"root_ids\":[\"1947\"]},\"title\":\"Bokeh Application\",\"version\":\"2.2.0\"}};\n",
       "  var render_items = [{\"docid\":\"9b8b983d-57d3-4274-af08-1b22310d25b3\",\"root_ids\":[\"1947\"],\"roots\":{\"1947\":\"b2596d14-7c4a-426e-b3a6-7dc0e9ac4f60\"}}];\n",
       "  root.Bokeh.embed.embed_items_notebook(docs_json, render_items);\n",
       "  }\n",
       "if (root.Bokeh !== undefined) {\n",
       "    embed_document(root);\n",
       "  } else {\n",
       "    var attempts = 0;\n",
       "    var timer = setInterval(function(root) {\n",
       "      if (root.Bokeh !== undefined) {\n",
       "        clearInterval(timer);\n",
       "        embed_document(root);\n",
       "      } else if (document.readyState == \"complete\") {\n",
       "        attempts++;\n",
       "        if (attempts > 100) {\n",
       "          clearInterval(timer);\n",
       "          console.log(\"Bokeh: ERROR: Unable to run BokehJS code because BokehJS library is missing\");\n",
       "        }\n",
       "      }\n",
       "    }, 10, root)\n",
       "  }\n",
       "})(window);</script>"
      ],
      "text/plain": [
       ":Bars   [neighborhood]   (sale_price_sqr_foot)"
      ]
     },
     "execution_count": 83,
     "metadata": {
      "application/vnd.holoviews_exec.v0+json": {
       "id": "1947"
      }
     },
     "output_type": "execute_result"
    }
   ],
   "source": [
    "# Plotting the data from the top 10 expensive neighborhoods\n",
    "\n",
    "top_10_most_expensive.hvplot.bar(\n",
    "    x=\"neighborhood\", \n",
    "    y=\"sale_price_sqr_foot\", \n",
    "    title=\"Top 10 Most Expensive Neighborhoods in San Francisco\", \n",
    "    height=400,\n",
    "    rot=80)"
   ]
  },
  {
   "cell_type": "markdown",
   "metadata": {},
   "source": [
    "- - - "
   ]
  },
  {
   "cell_type": "markdown",
   "metadata": {},
   "source": [
    "## Parallel Coordinates and Parallel Categories Analysis\n",
    "\n",
    "In this section, you will use plotly express to create parallel coordinates and parallel categories visualizations so that investors can interactively filter and explore various factors related to the sales price of the neighborhoods. \n",
    "\n",
    "Using the DataFrame of Average values per neighborhood (calculated above), create the following visualizations:\n",
    "1. Create a Parallel Coordinates Plot\n",
    "2. Create a Parallel Categories Plot"
   ]
  },
  {
   "cell_type": "code",
   "execution_count": 84,
   "metadata": {},
   "outputs": [
    {
     "data": {
      "application/vnd.plotly.v1+json": {
       "config": {
        "plotlyServerURL": "https://plot.ly"
       },
       "data": [
        {
         "dimensions": [
          {
           "label": "year",
           "values": [
            2015,
            2016,
            2016,
            2013,
            2014,
            2016,
            2016,
            2015,
            2014,
            2015,
            2016,
            2014,
            2010,
            2016,
            2016,
            2015,
            2016,
            2016,
            2016,
            2015,
            2013,
            2016,
            2016,
            2015,
            2015,
            2016,
            2015,
            2014,
            2016,
            2016,
            2014,
            2015,
            2015,
            2016,
            2015,
            2015,
            2016,
            2014,
            2015,
            2015,
            2012,
            2013,
            2016,
            2013,
            2014,
            2016,
            2014,
            2016,
            2015,
            2014,
            2010,
            2014,
            2014,
            2016,
            2013,
            2016,
            2013,
            2014,
            2015,
            2014,
            2012,
            2014,
            2010,
            2015,
            2016,
            2013,
            2014,
            2013,
            2015,
            2014,
            2016,
            2014,
            2012,
            2014,
            2014,
            2015,
            2016,
            2015,
            2016,
            2013,
            2014,
            2014,
            2015,
            2013,
            2012,
            2015,
            2011,
            2013,
            2015,
            2014,
            2015,
            2013,
            2015,
            2014,
            2013,
            2015,
            2013,
            2012,
            2013,
            2015,
            2016,
            2015,
            2015,
            2015,
            2016,
            2010,
            2010,
            2013,
            2014,
            2016,
            2015,
            2014,
            2014,
            2014,
            2016,
            2010,
            2015,
            2010,
            2013,
            2012,
            2015,
            2014,
            2010,
            2014,
            2015,
            2016,
            2013,
            2016,
            2016,
            2015,
            2014,
            2012,
            2010,
            2014,
            2011,
            2016,
            2012,
            2012,
            2013,
            2013,
            2016,
            2011,
            2011,
            2013,
            2013,
            2013,
            2011,
            2014,
            2010,
            2011,
            2015,
            2014,
            2012,
            2013,
            2010,
            2014,
            2010,
            2015,
            2014,
            2011,
            2013,
            2015,
            2014,
            2013,
            2014,
            2014,
            2015,
            2011,
            2014,
            2012,
            2011,
            2013,
            2012,
            2015,
            2014,
            2012,
            2013,
            2015,
            2011,
            2010,
            2014,
            2013,
            2013,
            2015,
            2015,
            2013,
            2012,
            2015,
            2011,
            2014,
            2016,
            2012,
            2012,
            2012,
            2015,
            2011,
            2015,
            2011,
            2015,
            2013,
            2012,
            2010,
            2014,
            2010,
            2016,
            2014,
            2014,
            2014,
            2014,
            2012,
            2013,
            2014,
            2015,
            2012,
            2013,
            2014,
            2012,
            2013,
            2010,
            2012,
            2010,
            2015,
            2012,
            2011,
            2013,
            2015,
            2012,
            2011,
            2012,
            2014,
            2016,
            2016,
            2010,
            2014,
            2010,
            2010,
            2010,
            2012,
            2012,
            2013,
            2011,
            2010,
            2011,
            2011,
            2011,
            2012,
            2011,
            2013,
            2010,
            2011,
            2012,
            2011,
            2010,
            2012,
            2014,
            2012,
            2013,
            2013,
            2010,
            2011,
            2012,
            2013,
            2014,
            2012,
            2010,
            2010,
            2012,
            2012,
            2010,
            2013,
            2010,
            2013,
            2011,
            2014,
            2015,
            2012,
            2011,
            2011,
            2012,
            2011,
            2010,
            2011,
            2012,
            2012,
            2013,
            2016,
            2011,
            2012,
            2012,
            2010,
            2011,
            2012,
            2012,
            2010,
            2013,
            2010,
            2013,
            2011,
            2016,
            2010,
            2012,
            2012,
            2013,
            2012,
            2010,
            2011,
            2010,
            2014,
            2011,
            2012,
            2012,
            2010,
            2012,
            2012,
            2011,
            2013,
            2011,
            2015,
            2010,
            2011,
            2015,
            2014,
            2011,
            2011,
            2011,
            2013,
            2010,
            2011,
            2013,
            2011,
            2012,
            2012,
            2010,
            2013,
            2011,
            2011,
            2010,
            2014,
            2011,
            2011,
            2012,
            2010,
            2010,
            2013,
            2012,
            2010,
            2011,
            2010,
            2011,
            2012,
            2010,
            2015,
            2010,
            2011,
            2013,
            2010,
            2014,
            2010,
            2011,
            2010,
            2010,
            2013,
            2011,
            2011,
            2013,
            2011,
            2012,
            2014,
            2011,
            2013,
            2010,
            2016,
            2010,
            2011,
            2010,
            2011,
            2015,
            2012,
            2016,
            2011,
            2011,
            2010,
            2014,
            2010,
            2012,
            2010,
            2010,
            2011,
            2011,
            2010,
            2016,
            2016,
            2013,
            2015,
            2015,
            2015,
            2016
           ]
          },
          {
           "label": "Sales Price per sqf",
           "values": [
            2258.702831998355,
            1465.9685863874345,
            1416.666666666667,
            1290.472106646641,
            1267.7662026328826,
            1207.997484708169,
            1196.645436923929,
            1132.8373605554546,
            1119.8388773148026,
            1100.7911936704506,
            1059.0656015492618,
            1045.2015459222662,
            1037.0997886617895,
            1026.7911075237503,
            1024.3398771365157,
            996.9902204858653,
            996.3893635634033,
            986.8421052631579,
            970.08547008547,
            963.5226061641273,
            956.1841219171133,
            945.5665024630542,
            924.5691159025888,
            918.2882682038704,
            910.1876901656897,
            903.0497705987848,
            890.9095931764135,
            888.1821435177138,
            879.0170132325142,
            851.4014053492668,
            824.6586936349588,
            821.3009904764873,
            800.0388650775142,
            799.4956512788842,
            793.2619915605263,
            790.1803690820187,
            777.0083145338547,
            773.4061347806703,
            772.7128362001238,
            762.5272331154684,
            756.1923725098497,
            753.0114133184368,
            751.1737089201877,
            747.3335378171588,
            742.9797231632554,
            732.7206841423807,
            728.9797158498743,
            718.7768297452345,
            717.0825412171872,
            716.3765095625198,
            715.5864380979738,
            714.2220737504065,
            708.1930316849231,
            707.6516094320912,
            707.4028088888208,
            704.5664189758045,
            703.0815676877947,
            694.4181461347432,
            694.358566653677,
            691.8654114838455,
            689.5233123659036,
            687.7829633004552,
            680.6087291389301,
            677.8382318281795,
            661.0644257703083,
            655.1980415945777,
            654.801499892284,
            653.3116166908643,
            652.2879690318528,
            650.963515967709,
            647.7704471840341,
            647.6496334575522,
            644.8183066758803,
            642.838478220973,
            642.2195925518147,
            639.1464438694404,
            636.4307703489127,
            631.6456863280099,
            631.1954258724091,
            630.8973025513741,
            630.3115352378672,
            620.4414065565543,
            616.5723883169862,
            615.0639297056517,
            613.8430658201435,
            612.1061563311456,
            610.7666631577348,
            608.694967227678,
            605.3433249358948,
            603.4509968798565,
            602.1158769435002,
            598.704795328917,
            598.6205414959003,
            597.200528047448,
            591.4020223180053,
            590.7928388746802,
            588.0747967826295,
            586.2182148097696,
            584.0737147409254,
            583.8486362312665,
            581.3708750724594,
            576.4579094375945,
            574.2740565313097,
            571.7557085689908,
            571.5799833446893,
            569.3799679261333,
            569.1934475267735,
            568.6511487607912,
            567.3400104586143,
            566.7011760342162,
            564.6874764662283,
            562.9112337982453,
            558.2711194060469,
            553.5627522522698,
            552.6025671312701,
            551.8011188234774,
            551.6956218496264,
            549.4179312485746,
            548.0466890413603,
            545.9801982412763,
            544.6002639104154,
            544.5469286452765,
            542.5316819894505,
            538.204698577284,
            536.5571018753241,
            534.2262501283425,
            533.6884470076521,
            531.8350322320708,
            531.1363737279744,
            529.847319131393,
            528.7265413888829,
            524.8134180834782,
            524.7935090952678,
            524.6293121403909,
            520.7181675305429,
            518.1126504655916,
            517.1734931165627,
            515.9210732061051,
            512.8402484358223,
            512.6307219919141,
            510.5769072143791,
            509.0214800287398,
            506.95217450146765,
            506.22752218971993,
            505.83481143735054,
            503.89926133005366,
            503.13850456030497,
            496.55100121228986,
            496.51601414694983,
            493.814917282618,
            493.61555763336935,
            493.45560489574007,
            491.8140030500954,
            491.5892613631572,
            491.45000385678617,
            490.36358286726374,
            489.80537777998506,
            485.8868855757771,
            484.44355217067766,
            483.4057725178001,
            483.16880334240136,
            481.46924427394237,
            479.9237488133093,
            478.4956365730093,
            478.44335175268515,
            475.39318681250677,
            473.1638149617127,
            471.9217320911283,
            470.85352986706454,
            466.6478402167172,
            466.6178976523653,
            466.02648785310464,
            465.80212163177373,
            465.68627450980387,
            464.1758436880091,
            463.8098989043553,
            458.7213317825408,
            458.0042993401075,
            457.41388429762526,
            456.9308221979013,
            456.2419957897522,
            455.2180887853926,
            453.7716045219721,
            453.4330812935196,
            453.3793770708969,
            453.34049829869934,
            452.66002242984047,
            448.86919667679206,
            448.3201042149405,
            446.23924529045684,
            445.9238282688497,
            445.21509554245245,
            445.1967876448791,
            442.24265696115737,
            439.7498835483721,
            438.86054508174806,
            438.4677874196749,
            437.16429949197664,
            435.9007753824155,
            435.5456667813491,
            434.63234651328025,
            434.25500394602585,
            432.9627229749631,
            432.19529211245555,
            431.94460202359033,
            430.9396363161629,
            429.4883174233179,
            428.9237926791115,
            428.7265326799175,
            428.0219127043747,
            427.16626614177557,
            426.7863811847511,
            426.6849522707296,
            426.60859207171325,
            425.64225533080946,
            423.95272693478194,
            421.1412447061912,
            420.822184596571,
            419.88781187646566,
            418.83037933269526,
            418.1724927089675,
            417.33537892280015,
            415.0903401095623,
            414.67606477603755,
            414.43569251368126,
            414.35585647200105,
            414.16272789686775,
            413.16280403427527,
            413.05871935195154,
            409.9438351783924,
            407.5533215595707,
            403.31113221139015,
            403.1183126490986,
            401.9350222176535,
            401.7499665916537,
            401.2959764896399,
            398.4588759923028,
            397.9391288956355,
            396.171112391617,
            393.71733534550384,
            392.35345097326814,
            392.30076417058257,
            391.42644972996203,
            390.81846895621413,
            390.5956530284181,
            390.3838567783597,
            388.6443367815385,
            387.79414379681333,
            387.392839476922,
            384.23680203579306,
            383.15039609809617,
            382.3522610640586,
            381.13844514705266,
            380.5214843069476,
            379.92536172660726,
            378.2738784387478,
            377.51801557551835,
            376.08359802951554,
            374.05763601016855,
            373.97868706755236,
            373.4668636470579,
            372.24198616911974,
            371.9242451684328,
            371.0302152741686,
            369.35933800413665,
            368.31155203937294,
            368.26656078838516,
            366.9954275112727,
            364.92833570851764,
            364.62465302417013,
            362.34822391312133,
            361.45469198221224,
            360.03727240448274,
            358.30523872237734,
            357.8946922463997,
            356.7948135908725,
            356.7090091359044,
            354.66555789282774,
            351.0432256921308,
            348.92970004124925,
            347.3949194037114,
            346.96116001560216,
            345.95804038831767,
            344.4909139677922,
            343.0542609770136,
            340.98183523166995,
            340.6425969783877,
            338.63301173022234,
            338.60116351046344,
            338.12619999607017,
            337.91413464365013,
            336.8259501844992,
            334.4878725198492,
            333.12677384193887,
            332.40781536886453,
            331.55599614560697,
            330.7364310191893,
            330.10889435237306,
            328.31900668576884,
            326.01715041025074,
            325.82892041816064,
            325.79541506433713,
            322.0822144332409,
            320.9599230279341,
            320.79691049204627,
            320.0743330547439,
            319.0276225530687,
            317.2219194303952,
            313.33845823084727,
            312.83398436239065,
            307.78311439850694,
            307.67747674427835,
            306.3779578647354,
            304.89964760284107,
            303.5441997161898,
            302.96737702840636,
            302.60448945564127,
            302.2218727063018,
            302.15611319728896,
            302.12325280969134,
            301.61864706270705,
            300.1873092016618,
            297.2455578459466,
            295.77937822922695,
            293.4042461148187,
            293.2983722057751,
            291.18294547229095,
            290.9210327099608,
            289.749665708438,
            289.60560009472283,
            288.0785187599688,
            286.3519820673892,
            285.82235848868265,
            285.0095060630079,
            284.56696642681646,
            283.17495073168755,
            282.11967050133603,
            282.02546830016496,
            281.312904357283,
            280.73063309393075,
            279.0301399218751,
            275.76972957461044,
            275.05668560990915,
            274.4579436322337,
            274.33846004864847,
            274.16674158669116,
            272.5273101795261,
            272.28497956385485,
            271.09013956932756,
            269.109528813633,
            267.9325826799483,
            265.92982650327014,
            262.87602564056425,
            261.6638003416518,
            259.54716259308043,
            257.98799863500693,
            254.95866163273848,
            254.47377914469143,
            241.94565649181578,
            241.80455206485138,
            238.35002040677708,
            235.99759251727426,
            234.28162351035442,
            227.41898086494461,
            223.11583290346024,
            222.567848047696,
            221.881138746669,
            220.11108719171108,
            217.55878684527906,
            217.0890689540353,
            215.56913431487555,
            211.30136986006568,
            209.0493266346945,
            208.1679967483858,
            199.70200378219917,
            198.01587292452027,
            192.16524813774402,
            183.09931693145703,
            175.06606919629078,
            172.54056243085552,
            171.7723466866044,
            170.62491987132685,
            170.2925485152069,
            170.09866536400102,
            165.79806239165433,
            165.6457300650791,
            162.82121004772353,
            145.85338027594094,
            142.14256751724554,
            108.0129268765048,
            88.40151094606408,
            40.7726253518439,
            null,
            null,
            null,
            null,
            null
           ]
          },
          {
           "label": "Housing Units",
           "values": [
            382295,
            384242,
            384242,
            378401,
            380348,
            384242,
            384242,
            382295,
            380348,
            382295,
            384242,
            380348,
            372560,
            384242,
            384242,
            382295,
            384242,
            384242,
            384242,
            382295,
            378401,
            384242,
            384242,
            382295,
            382295,
            384242,
            382295,
            380348,
            384242,
            384242,
            380348,
            382295,
            382295,
            384242,
            382295,
            382295,
            384242,
            380348,
            382295,
            382295,
            376454,
            378401,
            384242,
            378401,
            380348,
            384242,
            380348,
            384242,
            382295,
            380348,
            372560,
            380348,
            380348,
            384242,
            378401,
            384242,
            378401,
            380348,
            382295,
            380348,
            376454,
            380348,
            372560,
            382295,
            384242,
            378401,
            380348,
            378401,
            382295,
            380348,
            384242,
            380348,
            376454,
            380348,
            380348,
            382295,
            384242,
            382295,
            384242,
            378401,
            380348,
            380348,
            382295,
            378401,
            376454,
            382295,
            374507,
            378401,
            382295,
            380348,
            382295,
            378401,
            382295,
            380348,
            378401,
            382295,
            378401,
            376454,
            378401,
            382295,
            384242,
            382295,
            382295,
            382295,
            384242,
            372560,
            372560,
            378401,
            380348,
            384242,
            382295,
            380348,
            380348,
            380348,
            384242,
            372560,
            382295,
            372560,
            378401,
            376454,
            382295,
            380348,
            372560,
            380348,
            382295,
            384242,
            378401,
            384242,
            384242,
            382295,
            380348,
            376454,
            372560,
            380348,
            374507,
            384242,
            376454,
            376454,
            378401,
            378401,
            384242,
            374507,
            374507,
            378401,
            378401,
            378401,
            374507,
            380348,
            372560,
            374507,
            382295,
            380348,
            376454,
            378401,
            372560,
            380348,
            372560,
            382295,
            380348,
            374507,
            378401,
            382295,
            380348,
            378401,
            380348,
            380348,
            382295,
            374507,
            380348,
            376454,
            374507,
            378401,
            376454,
            382295,
            380348,
            376454,
            378401,
            382295,
            374507,
            372560,
            380348,
            378401,
            378401,
            382295,
            382295,
            378401,
            376454,
            382295,
            374507,
            380348,
            384242,
            376454,
            376454,
            376454,
            382295,
            374507,
            382295,
            374507,
            382295,
            378401,
            376454,
            372560,
            380348,
            372560,
            384242,
            380348,
            380348,
            380348,
            380348,
            376454,
            378401,
            380348,
            382295,
            376454,
            378401,
            380348,
            376454,
            378401,
            372560,
            376454,
            372560,
            382295,
            376454,
            374507,
            378401,
            382295,
            376454,
            374507,
            376454,
            380348,
            384242,
            384242,
            372560,
            380348,
            372560,
            372560,
            372560,
            376454,
            376454,
            378401,
            374507,
            372560,
            374507,
            374507,
            374507,
            376454,
            374507,
            378401,
            372560,
            374507,
            376454,
            374507,
            372560,
            376454,
            380348,
            376454,
            378401,
            378401,
            372560,
            374507,
            376454,
            378401,
            380348,
            376454,
            372560,
            372560,
            376454,
            376454,
            372560,
            378401,
            372560,
            378401,
            374507,
            380348,
            382295,
            376454,
            374507,
            374507,
            376454,
            374507,
            372560,
            374507,
            376454,
            376454,
            378401,
            384242,
            374507,
            376454,
            376454,
            372560,
            374507,
            376454,
            376454,
            372560,
            378401,
            372560,
            378401,
            374507,
            384242,
            372560,
            376454,
            376454,
            378401,
            376454,
            372560,
            374507,
            372560,
            380348,
            374507,
            376454,
            376454,
            372560,
            376454,
            376454,
            374507,
            378401,
            374507,
            382295,
            372560,
            374507,
            382295,
            380348,
            374507,
            374507,
            374507,
            378401,
            372560,
            374507,
            378401,
            374507,
            376454,
            376454,
            372560,
            378401,
            374507,
            374507,
            372560,
            380348,
            374507,
            374507,
            376454,
            372560,
            372560,
            378401,
            376454,
            372560,
            374507,
            372560,
            374507,
            376454,
            372560,
            382295,
            372560,
            374507,
            378401,
            372560,
            380348,
            372560,
            374507,
            372560,
            372560,
            378401,
            374507,
            374507,
            378401,
            374507,
            376454,
            380348,
            374507,
            378401,
            372560,
            384242,
            372560,
            374507,
            372560,
            374507,
            382295,
            376454,
            384242,
            374507,
            374507,
            372560,
            380348,
            372560,
            376454,
            372560,
            372560,
            374507,
            374507,
            372560,
            384242,
            384242,
            378401,
            382295,
            382295,
            382295,
            384242
           ]
          },
          {
           "label": "Gross Rent",
           "values": [
            3739,
            4390,
            4390,
            2971,
            3528,
            4390,
            4390,
            3739,
            3528,
            3739,
            4390,
            3528,
            1239,
            4390,
            4390,
            3739,
            4390,
            4390,
            4390,
            3739,
            2971,
            4390,
            4390,
            3739,
            3739,
            4390,
            3739,
            3528,
            4390,
            4390,
            3528,
            3739,
            3739,
            4390,
            3739,
            3739,
            4390,
            3528,
            3739,
            3739,
            2324,
            2971,
            4390,
            2971,
            3528,
            4390,
            3528,
            4390,
            3739,
            3528,
            1239,
            3528,
            3528,
            4390,
            2971,
            4390,
            2971,
            3528,
            3739,
            3528,
            2324,
            3528,
            1239,
            3739,
            4390,
            2971,
            3528,
            2971,
            3739,
            3528,
            4390,
            3528,
            2324,
            3528,
            3528,
            3739,
            4390,
            3739,
            4390,
            2971,
            3528,
            3528,
            3739,
            2971,
            2324,
            3739,
            1530,
            2971,
            3739,
            3528,
            3739,
            2971,
            3739,
            3528,
            2971,
            3739,
            2971,
            2324,
            2971,
            3739,
            4390,
            3739,
            3739,
            3739,
            4390,
            1239,
            1239,
            2971,
            3528,
            4390,
            3739,
            3528,
            3528,
            3528,
            4390,
            1239,
            3739,
            1239,
            2971,
            2324,
            3739,
            3528,
            1239,
            3528,
            3739,
            4390,
            2971,
            4390,
            4390,
            3739,
            3528,
            2324,
            1239,
            3528,
            1530,
            4390,
            2324,
            2324,
            2971,
            2971,
            4390,
            1530,
            1530,
            2971,
            2971,
            2971,
            1530,
            3528,
            1239,
            1530,
            3739,
            3528,
            2324,
            2971,
            1239,
            3528,
            1239,
            3739,
            3528,
            1530,
            2971,
            3739,
            3528,
            2971,
            3528,
            3528,
            3739,
            1530,
            3528,
            2324,
            1530,
            2971,
            2324,
            3739,
            3528,
            2324,
            2971,
            3739,
            1530,
            1239,
            3528,
            2971,
            2971,
            3739,
            3739,
            2971,
            2324,
            3739,
            1530,
            3528,
            4390,
            2324,
            2324,
            2324,
            3739,
            1530,
            3739,
            1530,
            3739,
            2971,
            2324,
            1239,
            3528,
            1239,
            4390,
            3528,
            3528,
            3528,
            3528,
            2324,
            2971,
            3528,
            3739,
            2324,
            2971,
            3528,
            2324,
            2971,
            1239,
            2324,
            1239,
            3739,
            2324,
            1530,
            2971,
            3739,
            2324,
            1530,
            2324,
            3528,
            4390,
            4390,
            1239,
            3528,
            1239,
            1239,
            1239,
            2324,
            2324,
            2971,
            1530,
            1239,
            1530,
            1530,
            1530,
            2324,
            1530,
            2971,
            1239,
            1530,
            2324,
            1530,
            1239,
            2324,
            3528,
            2324,
            2971,
            2971,
            1239,
            1530,
            2324,
            2971,
            3528,
            2324,
            1239,
            1239,
            2324,
            2324,
            1239,
            2971,
            1239,
            2971,
            1530,
            3528,
            3739,
            2324,
            1530,
            1530,
            2324,
            1530,
            1239,
            1530,
            2324,
            2324,
            2971,
            4390,
            1530,
            2324,
            2324,
            1239,
            1530,
            2324,
            2324,
            1239,
            2971,
            1239,
            2971,
            1530,
            4390,
            1239,
            2324,
            2324,
            2971,
            2324,
            1239,
            1530,
            1239,
            3528,
            1530,
            2324,
            2324,
            1239,
            2324,
            2324,
            1530,
            2971,
            1530,
            3739,
            1239,
            1530,
            3739,
            3528,
            1530,
            1530,
            1530,
            2971,
            1239,
            1530,
            2971,
            1530,
            2324,
            2324,
            1239,
            2971,
            1530,
            1530,
            1239,
            3528,
            1530,
            1530,
            2324,
            1239,
            1239,
            2971,
            2324,
            1239,
            1530,
            1239,
            1530,
            2324,
            1239,
            3739,
            1239,
            1530,
            2971,
            1239,
            3528,
            1239,
            1530,
            1239,
            1239,
            2971,
            1530,
            1530,
            2971,
            1530,
            2324,
            3528,
            1530,
            2971,
            1239,
            4390,
            1239,
            1530,
            1239,
            1530,
            3739,
            2324,
            4390,
            1530,
            1530,
            1239,
            3528,
            1239,
            2324,
            1239,
            1239,
            1530,
            1530,
            1239,
            4390,
            4390,
            2971,
            3739,
            3739,
            3739,
            4390
           ]
          }
         ],
         "domain": {
          "x": [
           0,
           1
          ],
          "y": [
           0,
           1
          ]
         },
         "line": {
          "color": [
           2258.702831998355,
           1465.9685863874345,
           1416.666666666667,
           1290.472106646641,
           1267.7662026328826,
           1207.997484708169,
           1196.645436923929,
           1132.8373605554546,
           1119.8388773148026,
           1100.7911936704506,
           1059.0656015492618,
           1045.2015459222662,
           1037.0997886617895,
           1026.7911075237503,
           1024.3398771365157,
           996.9902204858653,
           996.3893635634033,
           986.8421052631579,
           970.08547008547,
           963.5226061641273,
           956.1841219171133,
           945.5665024630542,
           924.5691159025888,
           918.2882682038704,
           910.1876901656897,
           903.0497705987848,
           890.9095931764135,
           888.1821435177138,
           879.0170132325142,
           851.4014053492668,
           824.6586936349588,
           821.3009904764873,
           800.0388650775142,
           799.4956512788842,
           793.2619915605263,
           790.1803690820187,
           777.0083145338547,
           773.4061347806703,
           772.7128362001238,
           762.5272331154684,
           756.1923725098497,
           753.0114133184368,
           751.1737089201877,
           747.3335378171588,
           742.9797231632554,
           732.7206841423807,
           728.9797158498743,
           718.7768297452345,
           717.0825412171872,
           716.3765095625198,
           715.5864380979738,
           714.2220737504065,
           708.1930316849231,
           707.6516094320912,
           707.4028088888208,
           704.5664189758045,
           703.0815676877947,
           694.4181461347432,
           694.358566653677,
           691.8654114838455,
           689.5233123659036,
           687.7829633004552,
           680.6087291389301,
           677.8382318281795,
           661.0644257703083,
           655.1980415945777,
           654.801499892284,
           653.3116166908643,
           652.2879690318528,
           650.963515967709,
           647.7704471840341,
           647.6496334575522,
           644.8183066758803,
           642.838478220973,
           642.2195925518147,
           639.1464438694404,
           636.4307703489127,
           631.6456863280099,
           631.1954258724091,
           630.8973025513741,
           630.3115352378672,
           620.4414065565543,
           616.5723883169862,
           615.0639297056517,
           613.8430658201435,
           612.1061563311456,
           610.7666631577348,
           608.694967227678,
           605.3433249358948,
           603.4509968798565,
           602.1158769435002,
           598.704795328917,
           598.6205414959003,
           597.200528047448,
           591.4020223180053,
           590.7928388746802,
           588.0747967826295,
           586.2182148097696,
           584.0737147409254,
           583.8486362312665,
           581.3708750724594,
           576.4579094375945,
           574.2740565313097,
           571.7557085689908,
           571.5799833446893,
           569.3799679261333,
           569.1934475267735,
           568.6511487607912,
           567.3400104586143,
           566.7011760342162,
           564.6874764662283,
           562.9112337982453,
           558.2711194060469,
           553.5627522522698,
           552.6025671312701,
           551.8011188234774,
           551.6956218496264,
           549.4179312485746,
           548.0466890413603,
           545.9801982412763,
           544.6002639104154,
           544.5469286452765,
           542.5316819894505,
           538.204698577284,
           536.5571018753241,
           534.2262501283425,
           533.6884470076521,
           531.8350322320708,
           531.1363737279744,
           529.847319131393,
           528.7265413888829,
           524.8134180834782,
           524.7935090952678,
           524.6293121403909,
           520.7181675305429,
           518.1126504655916,
           517.1734931165627,
           515.9210732061051,
           512.8402484358223,
           512.6307219919141,
           510.5769072143791,
           509.0214800287398,
           506.95217450146765,
           506.22752218971993,
           505.83481143735054,
           503.89926133005366,
           503.13850456030497,
           496.55100121228986,
           496.51601414694983,
           493.814917282618,
           493.61555763336935,
           493.45560489574007,
           491.8140030500954,
           491.5892613631572,
           491.45000385678617,
           490.36358286726374,
           489.80537777998506,
           485.8868855757771,
           484.44355217067766,
           483.4057725178001,
           483.16880334240136,
           481.46924427394237,
           479.9237488133093,
           478.4956365730093,
           478.44335175268515,
           475.39318681250677,
           473.1638149617127,
           471.9217320911283,
           470.85352986706454,
           466.6478402167172,
           466.6178976523653,
           466.02648785310464,
           465.80212163177373,
           465.68627450980387,
           464.1758436880091,
           463.8098989043553,
           458.7213317825408,
           458.0042993401075,
           457.41388429762526,
           456.9308221979013,
           456.2419957897522,
           455.2180887853926,
           453.7716045219721,
           453.4330812935196,
           453.3793770708969,
           453.34049829869934,
           452.66002242984047,
           448.86919667679206,
           448.3201042149405,
           446.23924529045684,
           445.9238282688497,
           445.21509554245245,
           445.1967876448791,
           442.24265696115737,
           439.7498835483721,
           438.86054508174806,
           438.4677874196749,
           437.16429949197664,
           435.9007753824155,
           435.5456667813491,
           434.63234651328025,
           434.25500394602585,
           432.9627229749631,
           432.19529211245555,
           431.94460202359033,
           430.9396363161629,
           429.4883174233179,
           428.9237926791115,
           428.7265326799175,
           428.0219127043747,
           427.16626614177557,
           426.7863811847511,
           426.6849522707296,
           426.60859207171325,
           425.64225533080946,
           423.95272693478194,
           421.1412447061912,
           420.822184596571,
           419.88781187646566,
           418.83037933269526,
           418.1724927089675,
           417.33537892280015,
           415.0903401095623,
           414.67606477603755,
           414.43569251368126,
           414.35585647200105,
           414.16272789686775,
           413.16280403427527,
           413.05871935195154,
           409.9438351783924,
           407.5533215595707,
           403.31113221139015,
           403.1183126490986,
           401.9350222176535,
           401.7499665916537,
           401.2959764896399,
           398.4588759923028,
           397.9391288956355,
           396.171112391617,
           393.71733534550384,
           392.35345097326814,
           392.30076417058257,
           391.42644972996203,
           390.81846895621413,
           390.5956530284181,
           390.3838567783597,
           388.6443367815385,
           387.79414379681333,
           387.392839476922,
           384.23680203579306,
           383.15039609809617,
           382.3522610640586,
           381.13844514705266,
           380.5214843069476,
           379.92536172660726,
           378.2738784387478,
           377.51801557551835,
           376.08359802951554,
           374.05763601016855,
           373.97868706755236,
           373.4668636470579,
           372.24198616911974,
           371.9242451684328,
           371.0302152741686,
           369.35933800413665,
           368.31155203937294,
           368.26656078838516,
           366.9954275112727,
           364.92833570851764,
           364.62465302417013,
           362.34822391312133,
           361.45469198221224,
           360.03727240448274,
           358.30523872237734,
           357.8946922463997,
           356.7948135908725,
           356.7090091359044,
           354.66555789282774,
           351.0432256921308,
           348.92970004124925,
           347.3949194037114,
           346.96116001560216,
           345.95804038831767,
           344.4909139677922,
           343.0542609770136,
           340.98183523166995,
           340.6425969783877,
           338.63301173022234,
           338.60116351046344,
           338.12619999607017,
           337.91413464365013,
           336.8259501844992,
           334.4878725198492,
           333.12677384193887,
           332.40781536886453,
           331.55599614560697,
           330.7364310191893,
           330.10889435237306,
           328.31900668576884,
           326.01715041025074,
           325.82892041816064,
           325.79541506433713,
           322.0822144332409,
           320.9599230279341,
           320.79691049204627,
           320.0743330547439,
           319.0276225530687,
           317.2219194303952,
           313.33845823084727,
           312.83398436239065,
           307.78311439850694,
           307.67747674427835,
           306.3779578647354,
           304.89964760284107,
           303.5441997161898,
           302.96737702840636,
           302.60448945564127,
           302.2218727063018,
           302.15611319728896,
           302.12325280969134,
           301.61864706270705,
           300.1873092016618,
           297.2455578459466,
           295.77937822922695,
           293.4042461148187,
           293.2983722057751,
           291.18294547229095,
           290.9210327099608,
           289.749665708438,
           289.60560009472283,
           288.0785187599688,
           286.3519820673892,
           285.82235848868265,
           285.0095060630079,
           284.56696642681646,
           283.17495073168755,
           282.11967050133603,
           282.02546830016496,
           281.312904357283,
           280.73063309393075,
           279.0301399218751,
           275.76972957461044,
           275.05668560990915,
           274.4579436322337,
           274.33846004864847,
           274.16674158669116,
           272.5273101795261,
           272.28497956385485,
           271.09013956932756,
           269.109528813633,
           267.9325826799483,
           265.92982650327014,
           262.87602564056425,
           261.6638003416518,
           259.54716259308043,
           257.98799863500693,
           254.95866163273848,
           254.47377914469143,
           241.94565649181578,
           241.80455206485138,
           238.35002040677708,
           235.99759251727426,
           234.28162351035442,
           227.41898086494461,
           223.11583290346024,
           222.567848047696,
           221.881138746669,
           220.11108719171108,
           217.55878684527906,
           217.0890689540353,
           215.56913431487555,
           211.30136986006568,
           209.0493266346945,
           208.1679967483858,
           199.70200378219917,
           198.01587292452027,
           192.16524813774402,
           183.09931693145703,
           175.06606919629078,
           172.54056243085552,
           171.7723466866044,
           170.62491987132685,
           170.2925485152069,
           170.09866536400102,
           165.79806239165433,
           165.6457300650791,
           162.82121004772353,
           145.85338027594094,
           142.14256751724554,
           108.0129268765048,
           88.40151094606408,
           40.7726253518439,
           null,
           null,
           null,
           null,
           null
          ],
          "coloraxis": "coloraxis"
         },
         "name": "",
         "type": "parcoords"
        }
       ],
       "layout": {
        "autosize": true,
        "coloraxis": {
         "colorbar": {
          "title": {
           "text": "Sales Price per sqf"
          }
         },
         "colorscale": [
          [
           0,
           "#000004"
          ],
          [
           0.1111111111111111,
           "#1b0c41"
          ],
          [
           0.2222222222222222,
           "#4a0c6b"
          ],
          [
           0.3333333333333333,
           "#781c6d"
          ],
          [
           0.4444444444444444,
           "#a52c60"
          ],
          [
           0.5555555555555556,
           "#cf4446"
          ],
          [
           0.6666666666666666,
           "#ed6925"
          ],
          [
           0.7777777777777778,
           "#fb9b06"
          ],
          [
           0.8888888888888888,
           "#f7d13d"
          ],
          [
           1,
           "#fcffa4"
          ]
         ]
        },
        "legend": {
         "tracegroupgap": 0
        },
        "template": {
         "data": {
          "bar": [
           {
            "error_x": {
             "color": "#2a3f5f"
            },
            "error_y": {
             "color": "#2a3f5f"
            },
            "marker": {
             "line": {
              "color": "#E5ECF6",
              "width": 0.5
             }
            },
            "type": "bar"
           }
          ],
          "barpolar": [
           {
            "marker": {
             "line": {
              "color": "#E5ECF6",
              "width": 0.5
             }
            },
            "type": "barpolar"
           }
          ],
          "carpet": [
           {
            "aaxis": {
             "endlinecolor": "#2a3f5f",
             "gridcolor": "white",
             "linecolor": "white",
             "minorgridcolor": "white",
             "startlinecolor": "#2a3f5f"
            },
            "baxis": {
             "endlinecolor": "#2a3f5f",
             "gridcolor": "white",
             "linecolor": "white",
             "minorgridcolor": "white",
             "startlinecolor": "#2a3f5f"
            },
            "type": "carpet"
           }
          ],
          "choropleth": [
           {
            "colorbar": {
             "outlinewidth": 0,
             "ticks": ""
            },
            "type": "choropleth"
           }
          ],
          "contour": [
           {
            "colorbar": {
             "outlinewidth": 0,
             "ticks": ""
            },
            "colorscale": [
             [
              0,
              "#0d0887"
             ],
             [
              0.1111111111111111,
              "#46039f"
             ],
             [
              0.2222222222222222,
              "#7201a8"
             ],
             [
              0.3333333333333333,
              "#9c179e"
             ],
             [
              0.4444444444444444,
              "#bd3786"
             ],
             [
              0.5555555555555556,
              "#d8576b"
             ],
             [
              0.6666666666666666,
              "#ed7953"
             ],
             [
              0.7777777777777778,
              "#fb9f3a"
             ],
             [
              0.8888888888888888,
              "#fdca26"
             ],
             [
              1,
              "#f0f921"
             ]
            ],
            "type": "contour"
           }
          ],
          "contourcarpet": [
           {
            "colorbar": {
             "outlinewidth": 0,
             "ticks": ""
            },
            "type": "contourcarpet"
           }
          ],
          "heatmap": [
           {
            "colorbar": {
             "outlinewidth": 0,
             "ticks": ""
            },
            "colorscale": [
             [
              0,
              "#0d0887"
             ],
             [
              0.1111111111111111,
              "#46039f"
             ],
             [
              0.2222222222222222,
              "#7201a8"
             ],
             [
              0.3333333333333333,
              "#9c179e"
             ],
             [
              0.4444444444444444,
              "#bd3786"
             ],
             [
              0.5555555555555556,
              "#d8576b"
             ],
             [
              0.6666666666666666,
              "#ed7953"
             ],
             [
              0.7777777777777778,
              "#fb9f3a"
             ],
             [
              0.8888888888888888,
              "#fdca26"
             ],
             [
              1,
              "#f0f921"
             ]
            ],
            "type": "heatmap"
           }
          ],
          "heatmapgl": [
           {
            "colorbar": {
             "outlinewidth": 0,
             "ticks": ""
            },
            "colorscale": [
             [
              0,
              "#0d0887"
             ],
             [
              0.1111111111111111,
              "#46039f"
             ],
             [
              0.2222222222222222,
              "#7201a8"
             ],
             [
              0.3333333333333333,
              "#9c179e"
             ],
             [
              0.4444444444444444,
              "#bd3786"
             ],
             [
              0.5555555555555556,
              "#d8576b"
             ],
             [
              0.6666666666666666,
              "#ed7953"
             ],
             [
              0.7777777777777778,
              "#fb9f3a"
             ],
             [
              0.8888888888888888,
              "#fdca26"
             ],
             [
              1,
              "#f0f921"
             ]
            ],
            "type": "heatmapgl"
           }
          ],
          "histogram": [
           {
            "marker": {
             "colorbar": {
              "outlinewidth": 0,
              "ticks": ""
             }
            },
            "type": "histogram"
           }
          ],
          "histogram2d": [
           {
            "colorbar": {
             "outlinewidth": 0,
             "ticks": ""
            },
            "colorscale": [
             [
              0,
              "#0d0887"
             ],
             [
              0.1111111111111111,
              "#46039f"
             ],
             [
              0.2222222222222222,
              "#7201a8"
             ],
             [
              0.3333333333333333,
              "#9c179e"
             ],
             [
              0.4444444444444444,
              "#bd3786"
             ],
             [
              0.5555555555555556,
              "#d8576b"
             ],
             [
              0.6666666666666666,
              "#ed7953"
             ],
             [
              0.7777777777777778,
              "#fb9f3a"
             ],
             [
              0.8888888888888888,
              "#fdca26"
             ],
             [
              1,
              "#f0f921"
             ]
            ],
            "type": "histogram2d"
           }
          ],
          "histogram2dcontour": [
           {
            "colorbar": {
             "outlinewidth": 0,
             "ticks": ""
            },
            "colorscale": [
             [
              0,
              "#0d0887"
             ],
             [
              0.1111111111111111,
              "#46039f"
             ],
             [
              0.2222222222222222,
              "#7201a8"
             ],
             [
              0.3333333333333333,
              "#9c179e"
             ],
             [
              0.4444444444444444,
              "#bd3786"
             ],
             [
              0.5555555555555556,
              "#d8576b"
             ],
             [
              0.6666666666666666,
              "#ed7953"
             ],
             [
              0.7777777777777778,
              "#fb9f3a"
             ],
             [
              0.8888888888888888,
              "#fdca26"
             ],
             [
              1,
              "#f0f921"
             ]
            ],
            "type": "histogram2dcontour"
           }
          ],
          "mesh3d": [
           {
            "colorbar": {
             "outlinewidth": 0,
             "ticks": ""
            },
            "type": "mesh3d"
           }
          ],
          "parcoords": [
           {
            "line": {
             "colorbar": {
              "outlinewidth": 0,
              "ticks": ""
             }
            },
            "type": "parcoords"
           }
          ],
          "pie": [
           {
            "automargin": true,
            "type": "pie"
           }
          ],
          "scatter": [
           {
            "marker": {
             "colorbar": {
              "outlinewidth": 0,
              "ticks": ""
             }
            },
            "type": "scatter"
           }
          ],
          "scatter3d": [
           {
            "line": {
             "colorbar": {
              "outlinewidth": 0,
              "ticks": ""
             }
            },
            "marker": {
             "colorbar": {
              "outlinewidth": 0,
              "ticks": ""
             }
            },
            "type": "scatter3d"
           }
          ],
          "scattercarpet": [
           {
            "marker": {
             "colorbar": {
              "outlinewidth": 0,
              "ticks": ""
             }
            },
            "type": "scattercarpet"
           }
          ],
          "scattergeo": [
           {
            "marker": {
             "colorbar": {
              "outlinewidth": 0,
              "ticks": ""
             }
            },
            "type": "scattergeo"
           }
          ],
          "scattergl": [
           {
            "marker": {
             "colorbar": {
              "outlinewidth": 0,
              "ticks": ""
             }
            },
            "type": "scattergl"
           }
          ],
          "scattermapbox": [
           {
            "marker": {
             "colorbar": {
              "outlinewidth": 0,
              "ticks": ""
             }
            },
            "type": "scattermapbox"
           }
          ],
          "scatterpolar": [
           {
            "marker": {
             "colorbar": {
              "outlinewidth": 0,
              "ticks": ""
             }
            },
            "type": "scatterpolar"
           }
          ],
          "scatterpolargl": [
           {
            "marker": {
             "colorbar": {
              "outlinewidth": 0,
              "ticks": ""
             }
            },
            "type": "scatterpolargl"
           }
          ],
          "scatterternary": [
           {
            "marker": {
             "colorbar": {
              "outlinewidth": 0,
              "ticks": ""
             }
            },
            "type": "scatterternary"
           }
          ],
          "surface": [
           {
            "colorbar": {
             "outlinewidth": 0,
             "ticks": ""
            },
            "colorscale": [
             [
              0,
              "#0d0887"
             ],
             [
              0.1111111111111111,
              "#46039f"
             ],
             [
              0.2222222222222222,
              "#7201a8"
             ],
             [
              0.3333333333333333,
              "#9c179e"
             ],
             [
              0.4444444444444444,
              "#bd3786"
             ],
             [
              0.5555555555555556,
              "#d8576b"
             ],
             [
              0.6666666666666666,
              "#ed7953"
             ],
             [
              0.7777777777777778,
              "#fb9f3a"
             ],
             [
              0.8888888888888888,
              "#fdca26"
             ],
             [
              1,
              "#f0f921"
             ]
            ],
            "type": "surface"
           }
          ],
          "table": [
           {
            "cells": {
             "fill": {
              "color": "#EBF0F8"
             },
             "line": {
              "color": "white"
             }
            },
            "header": {
             "fill": {
              "color": "#C8D4E3"
             },
             "line": {
              "color": "white"
             }
            },
            "type": "table"
           }
          ]
         },
         "layout": {
          "annotationdefaults": {
           "arrowcolor": "#2a3f5f",
           "arrowhead": 0,
           "arrowwidth": 1
          },
          "coloraxis": {
           "colorbar": {
            "outlinewidth": 0,
            "ticks": ""
           }
          },
          "colorscale": {
           "diverging": [
            [
             0,
             "#8e0152"
            ],
            [
             0.1,
             "#c51b7d"
            ],
            [
             0.2,
             "#de77ae"
            ],
            [
             0.3,
             "#f1b6da"
            ],
            [
             0.4,
             "#fde0ef"
            ],
            [
             0.5,
             "#f7f7f7"
            ],
            [
             0.6,
             "#e6f5d0"
            ],
            [
             0.7,
             "#b8e186"
            ],
            [
             0.8,
             "#7fbc41"
            ],
            [
             0.9,
             "#4d9221"
            ],
            [
             1,
             "#276419"
            ]
           ],
           "sequential": [
            [
             0,
             "#0d0887"
            ],
            [
             0.1111111111111111,
             "#46039f"
            ],
            [
             0.2222222222222222,
             "#7201a8"
            ],
            [
             0.3333333333333333,
             "#9c179e"
            ],
            [
             0.4444444444444444,
             "#bd3786"
            ],
            [
             0.5555555555555556,
             "#d8576b"
            ],
            [
             0.6666666666666666,
             "#ed7953"
            ],
            [
             0.7777777777777778,
             "#fb9f3a"
            ],
            [
             0.8888888888888888,
             "#fdca26"
            ],
            [
             1,
             "#f0f921"
            ]
           ],
           "sequentialminus": [
            [
             0,
             "#0d0887"
            ],
            [
             0.1111111111111111,
             "#46039f"
            ],
            [
             0.2222222222222222,
             "#7201a8"
            ],
            [
             0.3333333333333333,
             "#9c179e"
            ],
            [
             0.4444444444444444,
             "#bd3786"
            ],
            [
             0.5555555555555556,
             "#d8576b"
            ],
            [
             0.6666666666666666,
             "#ed7953"
            ],
            [
             0.7777777777777778,
             "#fb9f3a"
            ],
            [
             0.8888888888888888,
             "#fdca26"
            ],
            [
             1,
             "#f0f921"
            ]
           ]
          },
          "colorway": [
           "#636efa",
           "#EF553B",
           "#00cc96",
           "#ab63fa",
           "#FFA15A",
           "#19d3f3",
           "#FF6692",
           "#B6E880",
           "#FF97FF",
           "#FECB52"
          ],
          "font": {
           "color": "#2a3f5f"
          },
          "geo": {
           "bgcolor": "white",
           "lakecolor": "white",
           "landcolor": "#E5ECF6",
           "showlakes": true,
           "showland": true,
           "subunitcolor": "white"
          },
          "hoverlabel": {
           "align": "left"
          },
          "hovermode": "closest",
          "mapbox": {
           "style": "light"
          },
          "paper_bgcolor": "white",
          "plot_bgcolor": "#E5ECF6",
          "polar": {
           "angularaxis": {
            "gridcolor": "white",
            "linecolor": "white",
            "ticks": ""
           },
           "bgcolor": "#E5ECF6",
           "radialaxis": {
            "gridcolor": "white",
            "linecolor": "white",
            "ticks": ""
           }
          },
          "scene": {
           "xaxis": {
            "backgroundcolor": "#E5ECF6",
            "gridcolor": "white",
            "gridwidth": 2,
            "linecolor": "white",
            "showbackground": true,
            "ticks": "",
            "zerolinecolor": "white"
           },
           "yaxis": {
            "backgroundcolor": "#E5ECF6",
            "gridcolor": "white",
            "gridwidth": 2,
            "linecolor": "white",
            "showbackground": true,
            "ticks": "",
            "zerolinecolor": "white"
           },
           "zaxis": {
            "backgroundcolor": "#E5ECF6",
            "gridcolor": "white",
            "gridwidth": 2,
            "linecolor": "white",
            "showbackground": true,
            "ticks": "",
            "zerolinecolor": "white"
           }
          },
          "shapedefaults": {
           "line": {
            "color": "#2a3f5f"
           }
          },
          "ternary": {
           "aaxis": {
            "gridcolor": "white",
            "linecolor": "white",
            "ticks": ""
           },
           "baxis": {
            "gridcolor": "white",
            "linecolor": "white",
            "ticks": ""
           },
           "bgcolor": "#E5ECF6",
           "caxis": {
            "gridcolor": "white",
            "linecolor": "white",
            "ticks": ""
           }
          },
          "title": {
           "x": 0.05
          },
          "xaxis": {
           "automargin": true,
           "gridcolor": "white",
           "linecolor": "white",
           "ticks": "",
           "title": {
            "standoff": 15
           },
           "zerolinecolor": "white",
           "zerolinewidth": 2
          },
          "yaxis": {
           "automargin": true,
           "gridcolor": "white",
           "linecolor": "white",
           "ticks": "",
           "title": {
            "standoff": 15
           },
           "zerolinecolor": "white",
           "zerolinewidth": 2
          }
         }
        },
        "title": {
         "text": "Average values per neighborhood"
        }
       }
      },
      "image/png": "[encoded data removed]",
      "text/html": [
       "<div>                            <div id=\"06951ce8-1606-41ef-961a-bef34dd26a36\" class=\"plotly-graph-div\" style=\"height:525px; width:100%;\"></div>            <script type=\"text/javascript\">                require([\"plotly\"], function(Plotly) {                    window.PLOTLYENV=window.PLOTLYENV || {};                                    if (document.getElementById(\"06951ce8-1606-41ef-961a-bef34dd26a36\")) {                    Plotly.newPlot(                        \"06951ce8-1606-41ef-961a-bef34dd26a36\",                        [{\"dimensions\": [{\"label\": \"year\", \"values\": [2015, 2016, 2016, 2013, 2014, 2016, 2016, 2015, 2014, 2015, 2016, 2014, 2010, 2016, 2016, 2015, 2016, 2016, 2016, 2015, 2013, 2016, 2016, 2015, 2015, 2016, 2015, 2014, 2016, 2016, 2014, 2015, 2015, 2016, 2015, 2015, 2016, 2014, 2015, 2015, 2012, 2013, 2016, 2013, 2014, 2016, 2014, 2016, 2015, 2014, 2010, 2014, 2014, 2016, 2013, 2016, 2013, 2014, 2015, 2014, 2012, 2014, 2010, 2015, 2016, 2013, 2014, 2013, 2015, 2014, 2016, 2014, 2012, 2014, 2014, 2015, 2016, 2015, 2016, 2013, 2014, 2014, 2015, 2013, 2012, 2015, 2011, 2013, 2015, 2014, 2015, 2013, 2015, 2014, 2013, 2015, 2013, 2012, 2013, 2015, 2016, 2015, 2015, 2015, 2016, 2010, 2010, 2013, 2014, 2016, 2015, 2014, 2014, 2014, 2016, 2010, 2015, 2010, 2013, 2012, 2015, 2014, 2010, 2014, 2015, 2016, 2013, 2016, 2016, 2015, 2014, 2012, 2010, 2014, 2011, 2016, 2012, 2012, 2013, 2013, 2016, 2011, 2011, 2013, 2013, 2013, 2011, 2014, 2010, 2011, 2015, 2014, 2012, 2013, 2010, 2014, 2010, 2015, 2014, 2011, 2013, 2015, 2014, 2013, 2014, 2014, 2015, 2011, 2014, 2012, 2011, 2013, 2012, 2015, 2014, 2012, 2013, 2015, 2011, 2010, 2014, 2013, 2013, 2015, 2015, 2013, 2012, 2015, 2011, 2014, 2016, 2012, 2012, 2012, 2015, 2011, 2015, 2011, 2015, 2013, 2012, 2010, 2014, 2010, 2016, 2014, 2014, 2014, 2014, 2012, 2013, 2014, 2015, 2012, 2013, 2014, 2012, 2013, 2010, 2012, 2010, 2015, 2012, 2011, 2013, 2015, 2012, 2011, 2012, 2014, 2016, 2016, 2010, 2014, 2010, 2010, 2010, 2012, 2012, 2013, 2011, 2010, 2011, 2011, 2011, 2012, 2011, 2013, 2010, 2011, 2012, 2011, 2010, 2012, 2014, 2012, 2013, 2013, 2010, 2011, 2012, 2013, 2014, 2012, 2010, 2010, 2012, 2012, 2010, 2013, 2010, 2013, 2011, 2014, 2015, 2012, 2011, 2011, 2012, 2011, 2010, 2011, 2012, 2012, 2013, 2016, 2011, 2012, 2012, 2010, 2011, 2012, 2012, 2010, 2013, 2010, 2013, 2011, 2016, 2010, 2012, 2012, 2013, 2012, 2010, 2011, 2010, 2014, 2011, 2012, 2012, 2010, 2012, 2012, 2011, 2013, 2011, 2015, 2010, 2011, 2015, 2014, 2011, 2011, 2011, 2013, 2010, 2011, 2013, 2011, 2012, 2012, 2010, 2013, 2011, 2011, 2010, 2014, 2011, 2011, 2012, 2010, 2010, 2013, 2012, 2010, 2011, 2010, 2011, 2012, 2010, 2015, 2010, 2011, 2013, 2010, 2014, 2010, 2011, 2010, 2010, 2013, 2011, 2011, 2013, 2011, 2012, 2014, 2011, 2013, 2010, 2016, 2010, 2011, 2010, 2011, 2015, 2012, 2016, 2011, 2011, 2010, 2014, 2010, 2012, 2010, 2010, 2011, 2011, 2010, 2016, 2016, 2013, 2015, 2015, 2015, 2016]}, {\"label\": \"Sales Price per sqf\", \"values\": [2258.702831998355, 1465.9685863874345, 1416.666666666667, 1290.472106646641, 1267.7662026328826, 1207.997484708169, 1196.645436923929, 1132.8373605554546, 1119.8388773148026, 1100.7911936704506, 1059.0656015492618, 1045.2015459222662, 1037.0997886617895, 1026.7911075237503, 1024.3398771365157, 996.9902204858653, 996.3893635634033, 986.8421052631579, 970.08547008547, 963.5226061641273, 956.1841219171133, 945.5665024630542, 924.5691159025888, 918.2882682038704, 910.1876901656897, 903.0497705987848, 890.9095931764135, 888.1821435177138, 879.0170132325142, 851.4014053492668, 824.6586936349588, 821.3009904764873, 800.0388650775142, 799.4956512788842, 793.2619915605263, 790.1803690820187, 777.0083145338547, 773.4061347806703, 772.7128362001238, 762.5272331154684, 756.1923725098497, 753.0114133184368, 751.1737089201877, 747.3335378171588, 742.9797231632554, 732.7206841423807, 728.9797158498743, 718.7768297452345, 717.0825412171872, 716.3765095625198, 715.5864380979738, 714.2220737504065, 708.1930316849231, 707.6516094320912, 707.4028088888208, 704.5664189758045, 703.0815676877947, 694.4181461347432, 694.358566653677, 691.8654114838455, 689.5233123659036, 687.7829633004552, 680.6087291389301, 677.8382318281795, 661.0644257703083, 655.1980415945777, 654.801499892284, 653.3116166908643, 652.2879690318528, 650.963515967709, 647.7704471840341, 647.6496334575522, 644.8183066758803, 642.838478220973, 642.2195925518147, 639.1464438694404, 636.4307703489127, 631.6456863280099, 631.1954258724091, 630.8973025513741, 630.3115352378672, 620.4414065565543, 616.5723883169862, 615.0639297056517, 613.8430658201435, 612.1061563311456, 610.7666631577348, 608.694967227678, 605.3433249358948, 603.4509968798565, 602.1158769435002, 598.704795328917, 598.6205414959003, 597.200528047448, 591.4020223180053, 590.7928388746802, 588.0747967826295, 586.2182148097696, 584.0737147409254, 583.8486362312665, 581.3708750724594, 576.4579094375945, 574.2740565313097, 571.7557085689908, 571.5799833446893, 569.3799679261333, 569.1934475267735, 568.6511487607912, 567.3400104586143, 566.7011760342162, 564.6874764662283, 562.9112337982453, 558.2711194060469, 553.5627522522698, 552.6025671312701, 551.8011188234774, 551.6956218496264, 549.4179312485746, 548.0466890413603, 545.9801982412763, 544.6002639104154, 544.5469286452765, 542.5316819894505, 538.204698577284, 536.5571018753241, 534.2262501283425, 533.6884470076521, 531.8350322320708, 531.1363737279744, 529.847319131393, 528.7265413888829, 524.8134180834782, 524.7935090952678, 524.6293121403909, 520.7181675305429, 518.1126504655916, 517.1734931165627, 515.9210732061051, 512.8402484358223, 512.6307219919141, 510.5769072143791, 509.0214800287398, 506.95217450146765, 506.22752218971993, 505.83481143735054, 503.89926133005366, 503.13850456030497, 496.55100121228986, 496.51601414694983, 493.814917282618, 493.61555763336935, 493.45560489574007, 491.8140030500954, 491.5892613631572, 491.45000385678617, 490.36358286726374, 489.80537777998506, 485.8868855757771, 484.44355217067766, 483.4057725178001, 483.16880334240136, 481.46924427394237, 479.9237488133093, 478.4956365730093, 478.44335175268515, 475.39318681250677, 473.1638149617127, 471.9217320911283, 470.85352986706454, 466.6478402167172, 466.6178976523653, 466.02648785310464, 465.80212163177373, 465.68627450980387, 464.1758436880091, 463.8098989043553, 458.7213317825408, 458.0042993401075, 457.41388429762526, 456.9308221979013, 456.2419957897522, 455.2180887853926, 453.7716045219721, 453.4330812935196, 453.3793770708969, 453.34049829869934, 452.66002242984047, 448.86919667679206, 448.3201042149405, 446.23924529045684, 445.9238282688497, 445.21509554245245, 445.1967876448791, 442.24265696115737, 439.7498835483721, 438.86054508174806, 438.4677874196749, 437.16429949197664, 435.9007753824155, 435.5456667813491, 434.63234651328025, 434.25500394602585, 432.9627229749631, 432.19529211245555, 431.94460202359033, 430.9396363161629, 429.4883174233179, 428.9237926791115, 428.7265326799175, 428.0219127043747, 427.16626614177557, 426.7863811847511, 426.6849522707296, 426.60859207171325, 425.64225533080946, 423.95272693478194, 421.1412447061912, 420.822184596571, 419.88781187646566, 418.83037933269526, 418.1724927089675, 417.33537892280015, 415.0903401095623, 414.67606477603755, 414.43569251368126, 414.35585647200105, 414.16272789686775, 413.16280403427527, 413.05871935195154, 409.9438351783924, 407.5533215595707, 403.31113221139015, 403.1183126490986, 401.9350222176535, 401.7499665916537, 401.2959764896399, 398.4588759923028, 397.9391288956355, 396.171112391617, 393.71733534550384, 392.35345097326814, 392.30076417058257, 391.42644972996203, 390.81846895621413, 390.5956530284181, 390.3838567783597, 388.6443367815385, 387.79414379681333, 387.392839476922, 384.23680203579306, 383.15039609809617, 382.3522610640586, 381.13844514705266, 380.5214843069476, 379.92536172660726, 378.2738784387478, 377.51801557551835, 376.08359802951554, 374.05763601016855, 373.97868706755236, 373.4668636470579, 372.24198616911974, 371.9242451684328, 371.0302152741686, 369.35933800413665, 368.31155203937294, 368.26656078838516, 366.9954275112727, 364.92833570851764, 364.62465302417013, 362.34822391312133, 361.45469198221224, 360.03727240448274, 358.30523872237734, 357.8946922463997, 356.7948135908725, 356.7090091359044, 354.66555789282774, 351.0432256921308, 348.92970004124925, 347.3949194037114, 346.96116001560216, 345.95804038831767, 344.4909139677922, 343.0542609770136, 340.98183523166995, 340.6425969783877, 338.63301173022234, 338.60116351046344, 338.12619999607017, 337.91413464365013, 336.8259501844992, 334.4878725198492, 333.12677384193887, 332.40781536886453, 331.55599614560697, 330.7364310191893, 330.10889435237306, 328.31900668576884, 326.01715041025074, 325.82892041816064, 325.79541506433713, 322.0822144332409, 320.9599230279341, 320.79691049204627, 320.0743330547439, 319.0276225530687, 317.2219194303952, 313.33845823084727, 312.83398436239065, 307.78311439850694, 307.67747674427835, 306.3779578647354, 304.89964760284107, 303.5441997161898, 302.96737702840636, 302.60448945564127, 302.2218727063018, 302.15611319728896, 302.12325280969134, 301.61864706270705, 300.1873092016618, 297.2455578459466, 295.77937822922695, 293.4042461148187, 293.2983722057751, 291.18294547229095, 290.9210327099608, 289.749665708438, 289.60560009472283, 288.0785187599688, 286.3519820673892, 285.82235848868265, 285.0095060630079, 284.56696642681646, 283.17495073168755, 282.11967050133603, 282.02546830016496, 281.312904357283, 280.73063309393075, 279.0301399218751, 275.76972957461044, 275.05668560990915, 274.4579436322337, 274.33846004864847, 274.16674158669116, 272.5273101795261, 272.28497956385485, 271.09013956932756, 269.109528813633, 267.9325826799483, 265.92982650327014, 262.87602564056425, 261.6638003416518, 259.54716259308043, 257.98799863500693, 254.95866163273848, 254.47377914469143, 241.94565649181578, 241.80455206485138, 238.35002040677708, 235.99759251727426, 234.28162351035442, 227.41898086494461, 223.11583290346024, 222.567848047696, 221.881138746669, 220.11108719171108, 217.55878684527906, 217.0890689540353, 215.56913431487555, 211.30136986006568, 209.0493266346945, 208.1679967483858, 199.70200378219917, 198.01587292452027, 192.16524813774402, 183.09931693145703, 175.06606919629078, 172.54056243085552, 171.7723466866044, 170.62491987132685, 170.2925485152069, 170.09866536400102, 165.79806239165433, 165.6457300650791, 162.82121004772353, 145.85338027594094, 142.14256751724554, 108.0129268765048, 88.40151094606408, 40.7726253518439, null, null, null, null, null]}, {\"label\": \"Housing Units\", \"values\": [382295, 384242, 384242, 378401, 380348, 384242, 384242, 382295, 380348, 382295, 384242, 380348, 372560, 384242, 384242, 382295, 384242, 384242, 384242, 382295, 378401, 384242, 384242, 382295, 382295, 384242, 382295, 380348, 384242, 384242, 380348, 382295, 382295, 384242, 382295, 382295, 384242, 380348, 382295, 382295, 376454, 378401, 384242, 378401, 380348, 384242, 380348, 384242, 382295, 380348, 372560, 380348, 380348, 384242, 378401, 384242, 378401, 380348, 382295, 380348, 376454, 380348, 372560, 382295, 384242, 378401, 380348, 378401, 382295, 380348, 384242, 380348, 376454, 380348, 380348, 382295, 384242, 382295, 384242, 378401, 380348, 380348, 382295, 378401, 376454, 382295, 374507, 378401, 382295, 380348, 382295, 378401, 382295, 380348, 378401, 382295, 378401, 376454, 378401, 382295, 384242, 382295, 382295, 382295, 384242, 372560, 372560, 378401, 380348, 384242, 382295, 380348, 380348, 380348, 384242, 372560, 382295, 372560, 378401, 376454, 382295, 380348, 372560, 380348, 382295, 384242, 378401, 384242, 384242, 382295, 380348, 376454, 372560, 380348, 374507, 384242, 376454, 376454, 378401, 378401, 384242, 374507, 374507, 378401, 378401, 378401, 374507, 380348, 372560, 374507, 382295, 380348, 376454, 378401, 372560, 380348, 372560, 382295, 380348, 374507, 378401, 382295, 380348, 378401, 380348, 380348, 382295, 374507, 380348, 376454, 374507, 378401, 376454, 382295, 380348, 376454, 378401, 382295, 374507, 372560, 380348, 378401, 378401, 382295, 382295, 378401, 376454, 382295, 374507, 380348, 384242, 376454, 376454, 376454, 382295, 374507, 382295, 374507, 382295, 378401, 376454, 372560, 380348, 372560, 384242, 380348, 380348, 380348, 380348, 376454, 378401, 380348, 382295, 376454, 378401, 380348, 376454, 378401, 372560, 376454, 372560, 382295, 376454, 374507, 378401, 382295, 376454, 374507, 376454, 380348, 384242, 384242, 372560, 380348, 372560, 372560, 372560, 376454, 376454, 378401, 374507, 372560, 374507, 374507, 374507, 376454, 374507, 378401, 372560, 374507, 376454, 374507, 372560, 376454, 380348, 376454, 378401, 378401, 372560, 374507, 376454, 378401, 380348, 376454, 372560, 372560, 376454, 376454, 372560, 378401, 372560, 378401, 374507, 380348, 382295, 376454, 374507, 374507, 376454, 374507, 372560, 374507, 376454, 376454, 378401, 384242, 374507, 376454, 376454, 372560, 374507, 376454, 376454, 372560, 378401, 372560, 378401, 374507, 384242, 372560, 376454, 376454, 378401, 376454, 372560, 374507, 372560, 380348, 374507, 376454, 376454, 372560, 376454, 376454, 374507, 378401, 374507, 382295, 372560, 374507, 382295, 380348, 374507, 374507, 374507, 378401, 372560, 374507, 378401, 374507, 376454, 376454, 372560, 378401, 374507, 374507, 372560, 380348, 374507, 374507, 376454, 372560, 372560, 378401, 376454, 372560, 374507, 372560, 374507, 376454, 372560, 382295, 372560, 374507, 378401, 372560, 380348, 372560, 374507, 372560, 372560, 378401, 374507, 374507, 378401, 374507, 376454, 380348, 374507, 378401, 372560, 384242, 372560, 374507, 372560, 374507, 382295, 376454, 384242, 374507, 374507, 372560, 380348, 372560, 376454, 372560, 372560, 374507, 374507, 372560, 384242, 384242, 378401, 382295, 382295, 382295, 384242]}, {\"label\": \"Gross Rent\", \"values\": [3739, 4390, 4390, 2971, 3528, 4390, 4390, 3739, 3528, 3739, 4390, 3528, 1239, 4390, 4390, 3739, 4390, 4390, 4390, 3739, 2971, 4390, 4390, 3739, 3739, 4390, 3739, 3528, 4390, 4390, 3528, 3739, 3739, 4390, 3739, 3739, 4390, 3528, 3739, 3739, 2324, 2971, 4390, 2971, 3528, 4390, 3528, 4390, 3739, 3528, 1239, 3528, 3528, 4390, 2971, 4390, 2971, 3528, 3739, 3528, 2324, 3528, 1239, 3739, 4390, 2971, 3528, 2971, 3739, 3528, 4390, 3528, 2324, 3528, 3528, 3739, 4390, 3739, 4390, 2971, 3528, 3528, 3739, 2971, 2324, 3739, 1530, 2971, 3739, 3528, 3739, 2971, 3739, 3528, 2971, 3739, 2971, 2324, 2971, 3739, 4390, 3739, 3739, 3739, 4390, 1239, 1239, 2971, 3528, 4390, 3739, 3528, 3528, 3528, 4390, 1239, 3739, 1239, 2971, 2324, 3739, 3528, 1239, 3528, 3739, 4390, 2971, 4390, 4390, 3739, 3528, 2324, 1239, 3528, 1530, 4390, 2324, 2324, 2971, 2971, 4390, 1530, 1530, 2971, 2971, 2971, 1530, 3528, 1239, 1530, 3739, 3528, 2324, 2971, 1239, 3528, 1239, 3739, 3528, 1530, 2971, 3739, 3528, 2971, 3528, 3528, 3739, 1530, 3528, 2324, 1530, 2971, 2324, 3739, 3528, 2324, 2971, 3739, 1530, 1239, 3528, 2971, 2971, 3739, 3739, 2971, 2324, 3739, 1530, 3528, 4390, 2324, 2324, 2324, 3739, 1530, 3739, 1530, 3739, 2971, 2324, 1239, 3528, 1239, 4390, 3528, 3528, 3528, 3528, 2324, 2971, 3528, 3739, 2324, 2971, 3528, 2324, 2971, 1239, 2324, 1239, 3739, 2324, 1530, 2971, 3739, 2324, 1530, 2324, 3528, 4390, 4390, 1239, 3528, 1239, 1239, 1239, 2324, 2324, 2971, 1530, 1239, 1530, 1530, 1530, 2324, 1530, 2971, 1239, 1530, 2324, 1530, 1239, 2324, 3528, 2324, 2971, 2971, 1239, 1530, 2324, 2971, 3528, 2324, 1239, 1239, 2324, 2324, 1239, 2971, 1239, 2971, 1530, 3528, 3739, 2324, 1530, 1530, 2324, 1530, 1239, 1530, 2324, 2324, 2971, 4390, 1530, 2324, 2324, 1239, 1530, 2324, 2324, 1239, 2971, 1239, 2971, 1530, 4390, 1239, 2324, 2324, 2971, 2324, 1239, 1530, 1239, 3528, 1530, 2324, 2324, 1239, 2324, 2324, 1530, 2971, 1530, 3739, 1239, 1530, 3739, 3528, 1530, 1530, 1530, 2971, 1239, 1530, 2971, 1530, 2324, 2324, 1239, 2971, 1530, 1530, 1239, 3528, 1530, 1530, 2324, 1239, 1239, 2971, 2324, 1239, 1530, 1239, 1530, 2324, 1239, 3739, 1239, 1530, 2971, 1239, 3528, 1239, 1530, 1239, 1239, 2971, 1530, 1530, 2971, 1530, 2324, 3528, 1530, 2971, 1239, 4390, 1239, 1530, 1239, 1530, 3739, 2324, 4390, 1530, 1530, 1239, 3528, 1239, 2324, 1239, 1239, 1530, 1530, 1239, 4390, 4390, 2971, 3739, 3739, 3739, 4390]}], \"domain\": {\"x\": [0.0, 1.0], \"y\": [0.0, 1.0]}, \"line\": {\"color\": [2258.702831998355, 1465.9685863874345, 1416.666666666667, 1290.472106646641, 1267.7662026328826, 1207.997484708169, 1196.645436923929, 1132.8373605554546, 1119.8388773148026, 1100.7911936704506, 1059.0656015492618, 1045.2015459222662, 1037.0997886617895, 1026.7911075237503, 1024.3398771365157, 996.9902204858653, 996.3893635634033, 986.8421052631579, 970.08547008547, 963.5226061641273, 956.1841219171133, 945.5665024630542, 924.5691159025888, 918.2882682038704, 910.1876901656897, 903.0497705987848, 890.9095931764135, 888.1821435177138, 879.0170132325142, 851.4014053492668, 824.6586936349588, 821.3009904764873, 800.0388650775142, 799.4956512788842, 793.2619915605263, 790.1803690820187, 777.0083145338547, 773.4061347806703, 772.7128362001238, 762.5272331154684, 756.1923725098497, 753.0114133184368, 751.1737089201877, 747.3335378171588, 742.9797231632554, 732.7206841423807, 728.9797158498743, 718.7768297452345, 717.0825412171872, 716.3765095625198, 715.5864380979738, 714.2220737504065, 708.1930316849231, 707.6516094320912, 707.4028088888208, 704.5664189758045, 703.0815676877947, 694.4181461347432, 694.358566653677, 691.8654114838455, 689.5233123659036, 687.7829633004552, 680.6087291389301, 677.8382318281795, 661.0644257703083, 655.1980415945777, 654.801499892284, 653.3116166908643, 652.2879690318528, 650.963515967709, 647.7704471840341, 647.6496334575522, 644.8183066758803, 642.838478220973, 642.2195925518147, 639.1464438694404, 636.4307703489127, 631.6456863280099, 631.1954258724091, 630.8973025513741, 630.3115352378672, 620.4414065565543, 616.5723883169862, 615.0639297056517, 613.8430658201435, 612.1061563311456, 610.7666631577348, 608.694967227678, 605.3433249358948, 603.4509968798565, 602.1158769435002, 598.704795328917, 598.6205414959003, 597.200528047448, 591.4020223180053, 590.7928388746802, 588.0747967826295, 586.2182148097696, 584.0737147409254, 583.8486362312665, 581.3708750724594, 576.4579094375945, 574.2740565313097, 571.7557085689908, 571.5799833446893, 569.3799679261333, 569.1934475267735, 568.6511487607912, 567.3400104586143, 566.7011760342162, 564.6874764662283, 562.9112337982453, 558.2711194060469, 553.5627522522698, 552.6025671312701, 551.8011188234774, 551.6956218496264, 549.4179312485746, 548.0466890413603, 545.9801982412763, 544.6002639104154, 544.5469286452765, 542.5316819894505, 538.204698577284, 536.5571018753241, 534.2262501283425, 533.6884470076521, 531.8350322320708, 531.1363737279744, 529.847319131393, 528.7265413888829, 524.8134180834782, 524.7935090952678, 524.6293121403909, 520.7181675305429, 518.1126504655916, 517.1734931165627, 515.9210732061051, 512.8402484358223, 512.6307219919141, 510.5769072143791, 509.0214800287398, 506.95217450146765, 506.22752218971993, 505.83481143735054, 503.89926133005366, 503.13850456030497, 496.55100121228986, 496.51601414694983, 493.814917282618, 493.61555763336935, 493.45560489574007, 491.8140030500954, 491.5892613631572, 491.45000385678617, 490.36358286726374, 489.80537777998506, 485.8868855757771, 484.44355217067766, 483.4057725178001, 483.16880334240136, 481.46924427394237, 479.9237488133093, 478.4956365730093, 478.44335175268515, 475.39318681250677, 473.1638149617127, 471.9217320911283, 470.85352986706454, 466.6478402167172, 466.6178976523653, 466.02648785310464, 465.80212163177373, 465.68627450980387, 464.1758436880091, 463.8098989043553, 458.7213317825408, 458.0042993401075, 457.41388429762526, 456.9308221979013, 456.2419957897522, 455.2180887853926, 453.7716045219721, 453.4330812935196, 453.3793770708969, 453.34049829869934, 452.66002242984047, 448.86919667679206, 448.3201042149405, 446.23924529045684, 445.9238282688497, 445.21509554245245, 445.1967876448791, 442.24265696115737, 439.7498835483721, 438.86054508174806, 438.4677874196749, 437.16429949197664, 435.9007753824155, 435.5456667813491, 434.63234651328025, 434.25500394602585, 432.9627229749631, 432.19529211245555, 431.94460202359033, 430.9396363161629, 429.4883174233179, 428.9237926791115, 428.7265326799175, 428.0219127043747, 427.16626614177557, 426.7863811847511, 426.6849522707296, 426.60859207171325, 425.64225533080946, 423.95272693478194, 421.1412447061912, 420.822184596571, 419.88781187646566, 418.83037933269526, 418.1724927089675, 417.33537892280015, 415.0903401095623, 414.67606477603755, 414.43569251368126, 414.35585647200105, 414.16272789686775, 413.16280403427527, 413.05871935195154, 409.9438351783924, 407.5533215595707, 403.31113221139015, 403.1183126490986, 401.9350222176535, 401.7499665916537, 401.2959764896399, 398.4588759923028, 397.9391288956355, 396.171112391617, 393.71733534550384, 392.35345097326814, 392.30076417058257, 391.42644972996203, 390.81846895621413, 390.5956530284181, 390.3838567783597, 388.6443367815385, 387.79414379681333, 387.392839476922, 384.23680203579306, 383.15039609809617, 382.3522610640586, 381.13844514705266, 380.5214843069476, 379.92536172660726, 378.2738784387478, 377.51801557551835, 376.08359802951554, 374.05763601016855, 373.97868706755236, 373.4668636470579, 372.24198616911974, 371.9242451684328, 371.0302152741686, 369.35933800413665, 368.31155203937294, 368.26656078838516, 366.9954275112727, 364.92833570851764, 364.62465302417013, 362.34822391312133, 361.45469198221224, 360.03727240448274, 358.30523872237734, 357.8946922463997, 356.7948135908725, 356.7090091359044, 354.66555789282774, 351.0432256921308, 348.92970004124925, 347.3949194037114, 346.96116001560216, 345.95804038831767, 344.4909139677922, 343.0542609770136, 340.98183523166995, 340.6425969783877, 338.63301173022234, 338.60116351046344, 338.12619999607017, 337.91413464365013, 336.8259501844992, 334.4878725198492, 333.12677384193887, 332.40781536886453, 331.55599614560697, 330.7364310191893, 330.10889435237306, 328.31900668576884, 326.01715041025074, 325.82892041816064, 325.79541506433713, 322.0822144332409, 320.9599230279341, 320.79691049204627, 320.0743330547439, 319.0276225530687, 317.2219194303952, 313.33845823084727, 312.83398436239065, 307.78311439850694, 307.67747674427835, 306.3779578647354, 304.89964760284107, 303.5441997161898, 302.96737702840636, 302.60448945564127, 302.2218727063018, 302.15611319728896, 302.12325280969134, 301.61864706270705, 300.1873092016618, 297.2455578459466, 295.77937822922695, 293.4042461148187, 293.2983722057751, 291.18294547229095, 290.9210327099608, 289.749665708438, 289.60560009472283, 288.0785187599688, 286.3519820673892, 285.82235848868265, 285.0095060630079, 284.56696642681646, 283.17495073168755, 282.11967050133603, 282.02546830016496, 281.312904357283, 280.73063309393075, 279.0301399218751, 275.76972957461044, 275.05668560990915, 274.4579436322337, 274.33846004864847, 274.16674158669116, 272.5273101795261, 272.28497956385485, 271.09013956932756, 269.109528813633, 267.9325826799483, 265.92982650327014, 262.87602564056425, 261.6638003416518, 259.54716259308043, 257.98799863500693, 254.95866163273848, 254.47377914469143, 241.94565649181578, 241.80455206485138, 238.35002040677708, 235.99759251727426, 234.28162351035442, 227.41898086494461, 223.11583290346024, 222.567848047696, 221.881138746669, 220.11108719171108, 217.55878684527906, 217.0890689540353, 215.56913431487555, 211.30136986006568, 209.0493266346945, 208.1679967483858, 199.70200378219917, 198.01587292452027, 192.16524813774402, 183.09931693145703, 175.06606919629078, 172.54056243085552, 171.7723466866044, 170.62491987132685, 170.2925485152069, 170.09866536400102, 165.79806239165433, 165.6457300650791, 162.82121004772353, 145.85338027594094, 142.14256751724554, 108.0129268765048, 88.40151094606408, 40.7726253518439, null, null, null, null, null], \"coloraxis\": \"coloraxis\"}, \"name\": \"\", \"type\": \"parcoords\"}],                        {\"coloraxis\": {\"colorbar\": {\"title\": {\"text\": \"Sales Price per sqf\"}}, \"colorscale\": [[0.0, \"#000004\"], [0.1111111111111111, \"#1b0c41\"], [0.2222222222222222, \"#4a0c6b\"], [0.3333333333333333, \"#781c6d\"], [0.4444444444444444, \"#a52c60\"], [0.5555555555555556, \"#cf4446\"], [0.6666666666666666, \"#ed6925\"], [0.7777777777777778, \"#fb9b06\"], [0.8888888888888888, \"#f7d13d\"], [1.0, \"#fcffa4\"]]}, \"legend\": {\"tracegroupgap\": 0}, \"template\": {\"data\": {\"bar\": [{\"error_x\": {\"color\": \"#2a3f5f\"}, \"error_y\": {\"color\": \"#2a3f5f\"}, \"marker\": {\"line\": {\"color\": \"#E5ECF6\", \"width\": 0.5}}, \"type\": \"bar\"}], \"barpolar\": [{\"marker\": {\"line\": {\"color\": \"#E5ECF6\", \"width\": 0.5}}, \"type\": \"barpolar\"}], \"carpet\": [{\"aaxis\": {\"endlinecolor\": \"#2a3f5f\", \"gridcolor\": \"white\", \"linecolor\": \"white\", \"minorgridcolor\": \"white\", \"startlinecolor\": \"#2a3f5f\"}, \"baxis\": {\"endlinecolor\": \"#2a3f5f\", \"gridcolor\": \"white\", \"linecolor\": \"white\", \"minorgridcolor\": \"white\", \"startlinecolor\": \"#2a3f5f\"}, \"type\": \"carpet\"}], \"choropleth\": [{\"colorbar\": {\"outlinewidth\": 0, \"ticks\": \"\"}, \"type\": \"choropleth\"}], \"contour\": [{\"colorbar\": {\"outlinewidth\": 0, \"ticks\": \"\"}, \"colorscale\": [[0.0, \"#0d0887\"], [0.1111111111111111, \"#46039f\"], [0.2222222222222222, \"#7201a8\"], [0.3333333333333333, \"#9c179e\"], [0.4444444444444444, \"#bd3786\"], [0.5555555555555556, \"#d8576b\"], [0.6666666666666666, \"#ed7953\"], [0.7777777777777778, \"#fb9f3a\"], [0.8888888888888888, \"#fdca26\"], [1.0, \"#f0f921\"]], \"type\": \"contour\"}], \"contourcarpet\": [{\"colorbar\": {\"outlinewidth\": 0, \"ticks\": \"\"}, \"type\": \"contourcarpet\"}], \"heatmap\": [{\"colorbar\": {\"outlinewidth\": 0, \"ticks\": \"\"}, \"colorscale\": [[0.0, \"#0d0887\"], [0.1111111111111111, \"#46039f\"], [0.2222222222222222, \"#7201a8\"], [0.3333333333333333, \"#9c179e\"], [0.4444444444444444, \"#bd3786\"], [0.5555555555555556, \"#d8576b\"], [0.6666666666666666, \"#ed7953\"], [0.7777777777777778, \"#fb9f3a\"], [0.8888888888888888, \"#fdca26\"], [1.0, \"#f0f921\"]], \"type\": \"heatmap\"}], \"heatmapgl\": [{\"colorbar\": {\"outlinewidth\": 0, \"ticks\": \"\"}, \"colorscale\": [[0.0, \"#0d0887\"], [0.1111111111111111, \"#46039f\"], [0.2222222222222222, \"#7201a8\"], [0.3333333333333333, \"#9c179e\"], [0.4444444444444444, \"#bd3786\"], [0.5555555555555556, \"#d8576b\"], [0.6666666666666666, \"#ed7953\"], [0.7777777777777778, \"#fb9f3a\"], [0.8888888888888888, \"#fdca26\"], [1.0, \"#f0f921\"]], \"type\": \"heatmapgl\"}], \"histogram\": [{\"marker\": {\"colorbar\": {\"outlinewidth\": 0, \"ticks\": \"\"}}, \"type\": \"histogram\"}], \"histogram2d\": [{\"colorbar\": {\"outlinewidth\": 0, \"ticks\": \"\"}, \"colorscale\": [[0.0, \"#0d0887\"], [0.1111111111111111, \"#46039f\"], [0.2222222222222222, \"#7201a8\"], [0.3333333333333333, \"#9c179e\"], [0.4444444444444444, \"#bd3786\"], [0.5555555555555556, \"#d8576b\"], [0.6666666666666666, \"#ed7953\"], [0.7777777777777778, \"#fb9f3a\"], [0.8888888888888888, \"#fdca26\"], [1.0, \"#f0f921\"]], \"type\": \"histogram2d\"}], \"histogram2dcontour\": [{\"colorbar\": {\"outlinewidth\": 0, \"ticks\": \"\"}, \"colorscale\": [[0.0, \"#0d0887\"], [0.1111111111111111, \"#46039f\"], [0.2222222222222222, \"#7201a8\"], [0.3333333333333333, \"#9c179e\"], [0.4444444444444444, \"#bd3786\"], [0.5555555555555556, \"#d8576b\"], [0.6666666666666666, \"#ed7953\"], [0.7777777777777778, \"#fb9f3a\"], [0.8888888888888888, \"#fdca26\"], [1.0, \"#f0f921\"]], \"type\": \"histogram2dcontour\"}], \"mesh3d\": [{\"colorbar\": {\"outlinewidth\": 0, \"ticks\": \"\"}, \"type\": \"mesh3d\"}], \"parcoords\": [{\"line\": {\"colorbar\": {\"outlinewidth\": 0, \"ticks\": \"\"}}, \"type\": \"parcoords\"}], \"pie\": [{\"automargin\": true, \"type\": \"pie\"}], \"scatter\": [{\"marker\": {\"colorbar\": {\"outlinewidth\": 0, \"ticks\": \"\"}}, \"type\": \"scatter\"}], \"scatter3d\": [{\"line\": {\"colorbar\": {\"outlinewidth\": 0, \"ticks\": \"\"}}, \"marker\": {\"colorbar\": {\"outlinewidth\": 0, \"ticks\": \"\"}}, \"type\": \"scatter3d\"}], \"scattercarpet\": [{\"marker\": {\"colorbar\": {\"outlinewidth\": 0, \"ticks\": \"\"}}, \"type\": \"scattercarpet\"}], \"scattergeo\": [{\"marker\": {\"colorbar\": {\"outlinewidth\": 0, \"ticks\": \"\"}}, \"type\": \"scattergeo\"}], \"scattergl\": [{\"marker\": {\"colorbar\": {\"outlinewidth\": 0, \"ticks\": \"\"}}, \"type\": \"scattergl\"}], \"scattermapbox\": [{\"marker\": {\"colorbar\": {\"outlinewidth\": 0, \"ticks\": \"\"}}, \"type\": \"scattermapbox\"}], \"scatterpolar\": [{\"marker\": {\"colorbar\": {\"outlinewidth\": 0, \"ticks\": \"\"}}, \"type\": \"scatterpolar\"}], \"scatterpolargl\": [{\"marker\": {\"colorbar\": {\"outlinewidth\": 0, \"ticks\": \"\"}}, \"type\": \"scatterpolargl\"}], \"scatterternary\": [{\"marker\": {\"colorbar\": {\"outlinewidth\": 0, \"ticks\": \"\"}}, \"type\": \"scatterternary\"}], \"surface\": [{\"colorbar\": {\"outlinewidth\": 0, \"ticks\": \"\"}, \"colorscale\": [[0.0, \"#0d0887\"], [0.1111111111111111, \"#46039f\"], [0.2222222222222222, \"#7201a8\"], [0.3333333333333333, \"#9c179e\"], [0.4444444444444444, \"#bd3786\"], [0.5555555555555556, \"#d8576b\"], [0.6666666666666666, \"#ed7953\"], [0.7777777777777778, \"#fb9f3a\"], [0.8888888888888888, \"#fdca26\"], [1.0, \"#f0f921\"]], \"type\": \"surface\"}], \"table\": [{\"cells\": {\"fill\": {\"color\": \"#EBF0F8\"}, \"line\": {\"color\": \"white\"}}, \"header\": {\"fill\": {\"color\": \"#C8D4E3\"}, \"line\": {\"color\": \"white\"}}, \"type\": \"table\"}]}, \"layout\": {\"annotationdefaults\": {\"arrowcolor\": \"#2a3f5f\", \"arrowhead\": 0, \"arrowwidth\": 1}, \"coloraxis\": {\"colorbar\": {\"outlinewidth\": 0, \"ticks\": \"\"}}, \"colorscale\": {\"diverging\": [[0, \"#8e0152\"], [0.1, \"#c51b7d\"], [0.2, \"#de77ae\"], [0.3, \"#f1b6da\"], [0.4, \"#fde0ef\"], [0.5, \"#f7f7f7\"], [0.6, \"#e6f5d0\"], [0.7, \"#b8e186\"], [0.8, \"#7fbc41\"], [0.9, \"#4d9221\"], [1, \"#276419\"]], \"sequential\": [[0.0, \"#0d0887\"], [0.1111111111111111, \"#46039f\"], [0.2222222222222222, \"#7201a8\"], [0.3333333333333333, \"#9c179e\"], [0.4444444444444444, \"#bd3786\"], [0.5555555555555556, \"#d8576b\"], [0.6666666666666666, \"#ed7953\"], [0.7777777777777778, \"#fb9f3a\"], [0.8888888888888888, \"#fdca26\"], [1.0, \"#f0f921\"]], \"sequentialminus\": [[0.0, \"#0d0887\"], [0.1111111111111111, \"#46039f\"], [0.2222222222222222, \"#7201a8\"], [0.3333333333333333, \"#9c179e\"], [0.4444444444444444, \"#bd3786\"], [0.5555555555555556, \"#d8576b\"], [0.6666666666666666, \"#ed7953\"], [0.7777777777777778, \"#fb9f3a\"], [0.8888888888888888, \"#fdca26\"], [1.0, \"#f0f921\"]]}, \"colorway\": [\"#636efa\", \"#EF553B\", \"#00cc96\", \"#ab63fa\", \"#FFA15A\", \"#19d3f3\", \"#FF6692\", \"#B6E880\", \"#FF97FF\", \"#FECB52\"], \"font\": {\"color\": \"#2a3f5f\"}, \"geo\": {\"bgcolor\": \"white\", \"lakecolor\": \"white\", \"landcolor\": \"#E5ECF6\", \"showlakes\": true, \"showland\": true, \"subunitcolor\": \"white\"}, \"hoverlabel\": {\"align\": \"left\"}, \"hovermode\": \"closest\", \"mapbox\": {\"style\": \"light\"}, \"paper_bgcolor\": \"white\", \"plot_bgcolor\": \"#E5ECF6\", \"polar\": {\"angularaxis\": {\"gridcolor\": \"white\", \"linecolor\": \"white\", \"ticks\": \"\"}, \"bgcolor\": \"#E5ECF6\", \"radialaxis\": {\"gridcolor\": \"white\", \"linecolor\": \"white\", \"ticks\": \"\"}}, \"scene\": {\"xaxis\": {\"backgroundcolor\": \"#E5ECF6\", \"gridcolor\": \"white\", \"gridwidth\": 2, \"linecolor\": \"white\", \"showbackground\": true, \"ticks\": \"\", \"zerolinecolor\": \"white\"}, \"yaxis\": {\"backgroundcolor\": \"#E5ECF6\", \"gridcolor\": \"white\", \"gridwidth\": 2, \"linecolor\": \"white\", \"showbackground\": true, \"ticks\": \"\", \"zerolinecolor\": \"white\"}, \"zaxis\": {\"backgroundcolor\": \"#E5ECF6\", \"gridcolor\": \"white\", \"gridwidth\": 2, \"linecolor\": \"white\", \"showbackground\": true, \"ticks\": \"\", \"zerolinecolor\": \"white\"}}, \"shapedefaults\": {\"line\": {\"color\": \"#2a3f5f\"}}, \"ternary\": {\"aaxis\": {\"gridcolor\": \"white\", \"linecolor\": \"white\", \"ticks\": \"\"}, \"baxis\": {\"gridcolor\": \"white\", \"linecolor\": \"white\", \"ticks\": \"\"}, \"bgcolor\": \"#E5ECF6\", \"caxis\": {\"gridcolor\": \"white\", \"linecolor\": \"white\", \"ticks\": \"\"}}, \"title\": {\"x\": 0.05}, \"xaxis\": {\"automargin\": true, \"gridcolor\": \"white\", \"linecolor\": \"white\", \"ticks\": \"\", \"title\": {\"standoff\": 15}, \"zerolinecolor\": \"white\", \"zerolinewidth\": 2}, \"yaxis\": {\"automargin\": true, \"gridcolor\": \"white\", \"linecolor\": \"white\", \"ticks\": \"\", \"title\": {\"standoff\": 15}, \"zerolinecolor\": \"white\", \"zerolinewidth\": 2}}}, \"title\": {\"text\": \"Average values per neighborhood\"}},                        {\"responsive\": true}                    ).then(function(){\n",
       "                            \n",
       "var gd = document.getElementById('06951ce8-1606-41ef-961a-bef34dd26a36');\n",
       "var x = new MutationObserver(function (mutations, observer) {{\n",
       "        var display = window.getComputedStyle(gd).display;\n",
       "        if (!display || display === 'none') {{\n",
       "            console.log([gd, 'removed!']);\n",
       "            Plotly.purge(gd);\n",
       "            observer.disconnect();\n",
       "        }}\n",
       "}});\n",
       "\n",
       "// Listen for the removal of the full notebook cells\n",
       "var notebookContainer = gd.closest('#notebook-container');\n",
       "if (notebookContainer) {{\n",
       "    x.observe(notebookContainer, {childList: true});\n",
       "}}\n",
       "\n",
       "// Listen for the clearing of the current output cell\n",
       "var outputEl = gd.closest('.output');\n",
       "if (outputEl) {{\n",
       "    x.observe(outputEl, {childList: true});\n",
       "}}\n",
       "\n",
       "                        })                };                });            </script>        </div>"
      ]
     },
     "metadata": {},
     "output_type": "display_data"
    }
   ],
   "source": [
    "# Parallel Coordinates Plot\n",
    "\n",
    "px.parallel_coordinates(\n",
    "    top_10_most_expensive, \n",
    "    title='Average values per neighborhood',\n",
    "    labels={'neighborhood': \"Neighborhood\", \n",
    "            'sale_price_sqr_foot':'Sales Price per sqf',\n",
    "           'housing_units':'Housing Units',\n",
    "           'gross_rent':'Gross Rent'},\n",
    "    color='sale_price_sqr_foot', \n",
    "    color_continuous_scale=px.colors.sequential.Inferno,\n",
    "\n",
    ")\n"
   ]
  },
  {
   "cell_type": "code",
   "execution_count": 85,
   "metadata": {},
   "outputs": [
    {
     "data": {
      "application/vnd.plotly.v1+json": {
       "config": {
        "plotlyServerURL": "https://plot.ly"
       },
       "data": [
        {
         "dimensions": [
          {
           "label": "year",
           "values": [
            2015,
            2016,
            2016,
            2013,
            2014,
            2016,
            2016,
            2015,
            2014,
            2015,
            2016,
            2014,
            2010,
            2016,
            2016,
            2015,
            2016,
            2016,
            2016,
            2015,
            2013,
            2016,
            2016,
            2015,
            2015,
            2016,
            2015,
            2014,
            2016,
            2016,
            2014,
            2015,
            2015,
            2016,
            2015,
            2015,
            2016,
            2014,
            2015,
            2015,
            2012,
            2013,
            2016,
            2013,
            2014,
            2016,
            2014,
            2016,
            2015,
            2014,
            2010,
            2014,
            2014,
            2016,
            2013,
            2016,
            2013,
            2014,
            2015,
            2014,
            2012,
            2014,
            2010,
            2015,
            2016,
            2013,
            2014,
            2013,
            2015,
            2014,
            2016,
            2014,
            2012,
            2014,
            2014,
            2015,
            2016,
            2015,
            2016,
            2013,
            2014,
            2014,
            2015,
            2013,
            2012,
            2015,
            2011,
            2013,
            2015,
            2014,
            2015,
            2013,
            2015,
            2014,
            2013,
            2015,
            2013,
            2012,
            2013,
            2015,
            2016,
            2015,
            2015,
            2015,
            2016,
            2010,
            2010,
            2013,
            2014,
            2016,
            2015,
            2014,
            2014,
            2014,
            2016,
            2010,
            2015,
            2010,
            2013,
            2012,
            2015,
            2014,
            2010,
            2014,
            2015,
            2016,
            2013,
            2016,
            2016,
            2015,
            2014,
            2012,
            2010,
            2014,
            2011,
            2016,
            2012,
            2012,
            2013,
            2013,
            2016,
            2011,
            2011,
            2013,
            2013,
            2013,
            2011,
            2014,
            2010,
            2011,
            2015,
            2014,
            2012,
            2013,
            2010,
            2014,
            2010,
            2015,
            2014,
            2011,
            2013,
            2015,
            2014,
            2013,
            2014,
            2014,
            2015,
            2011,
            2014,
            2012,
            2011,
            2013,
            2012,
            2015,
            2014,
            2012,
            2013,
            2015,
            2011,
            2010,
            2014,
            2013,
            2013,
            2015,
            2015,
            2013,
            2012,
            2015,
            2011,
            2014,
            2016,
            2012,
            2012,
            2012,
            2015,
            2011,
            2015,
            2011,
            2015,
            2013,
            2012,
            2010,
            2014,
            2010,
            2016,
            2014,
            2014,
            2014,
            2014,
            2012,
            2013,
            2014,
            2015,
            2012,
            2013,
            2014,
            2012,
            2013,
            2010,
            2012,
            2010,
            2015,
            2012,
            2011,
            2013,
            2015,
            2012,
            2011,
            2012,
            2014,
            2016,
            2016,
            2010,
            2014,
            2010,
            2010,
            2010,
            2012,
            2012,
            2013,
            2011,
            2010,
            2011,
            2011,
            2011,
            2012,
            2011,
            2013,
            2010,
            2011,
            2012,
            2011,
            2010,
            2012,
            2014,
            2012,
            2013,
            2013,
            2010,
            2011,
            2012,
            2013,
            2014,
            2012,
            2010,
            2010,
            2012,
            2012,
            2010,
            2013,
            2010,
            2013,
            2011,
            2014,
            2015,
            2012,
            2011,
            2011,
            2012,
            2011,
            2010,
            2011,
            2012,
            2012,
            2013,
            2016,
            2011,
            2012,
            2012,
            2010,
            2011,
            2012,
            2012,
            2010,
            2013,
            2010,
            2013,
            2011,
            2016,
            2010,
            2012,
            2012,
            2013,
            2012,
            2010,
            2011,
            2010,
            2014,
            2011,
            2012,
            2012,
            2010,
            2012,
            2012,
            2011,
            2013,
            2011,
            2015,
            2010,
            2011,
            2015,
            2014,
            2011,
            2011,
            2011,
            2013,
            2010,
            2011,
            2013,
            2011,
            2012,
            2012,
            2010,
            2013,
            2011,
            2011,
            2010,
            2014,
            2011,
            2011,
            2012,
            2010,
            2010,
            2013,
            2012,
            2010,
            2011,
            2010,
            2011,
            2012,
            2010,
            2015,
            2010,
            2011,
            2013,
            2010,
            2014,
            2010,
            2011,
            2010,
            2010,
            2013,
            2011,
            2011,
            2013,
            2011,
            2012,
            2014,
            2011,
            2013,
            2010,
            2016,
            2010,
            2011,
            2010,
            2011,
            2015,
            2012,
            2016,
            2011,
            2011,
            2010,
            2014,
            2010,
            2012,
            2010,
            2010,
            2011,
            2011,
            2010,
            2016,
            2016,
            2013,
            2015,
            2015,
            2015,
            2016
           ]
          },
          {
           "label": "Housing Units",
           "values": [
            382295,
            384242,
            384242,
            378401,
            380348,
            384242,
            384242,
            382295,
            380348,
            382295,
            384242,
            380348,
            372560,
            384242,
            384242,
            382295,
            384242,
            384242,
            384242,
            382295,
            378401,
            384242,
            384242,
            382295,
            382295,
            384242,
            382295,
            380348,
            384242,
            384242,
            380348,
            382295,
            382295,
            384242,
            382295,
            382295,
            384242,
            380348,
            382295,
            382295,
            376454,
            378401,
            384242,
            378401,
            380348,
            384242,
            380348,
            384242,
            382295,
            380348,
            372560,
            380348,
            380348,
            384242,
            378401,
            384242,
            378401,
            380348,
            382295,
            380348,
            376454,
            380348,
            372560,
            382295,
            384242,
            378401,
            380348,
            378401,
            382295,
            380348,
            384242,
            380348,
            376454,
            380348,
            380348,
            382295,
            384242,
            382295,
            384242,
            378401,
            380348,
            380348,
            382295,
            378401,
            376454,
            382295,
            374507,
            378401,
            382295,
            380348,
            382295,
            378401,
            382295,
            380348,
            378401,
            382295,
            378401,
            376454,
            378401,
            382295,
            384242,
            382295,
            382295,
            382295,
            384242,
            372560,
            372560,
            378401,
            380348,
            384242,
            382295,
            380348,
            380348,
            380348,
            384242,
            372560,
            382295,
            372560,
            378401,
            376454,
            382295,
            380348,
            372560,
            380348,
            382295,
            384242,
            378401,
            384242,
            384242,
            382295,
            380348,
            376454,
            372560,
            380348,
            374507,
            384242,
            376454,
            376454,
            378401,
            378401,
            384242,
            374507,
            374507,
            378401,
            378401,
            378401,
            374507,
            380348,
            372560,
            374507,
            382295,
            380348,
            376454,
            378401,
            372560,
            380348,
            372560,
            382295,
            380348,
            374507,
            378401,
            382295,
            380348,
            378401,
            380348,
            380348,
            382295,
            374507,
            380348,
            376454,
            374507,
            378401,
            376454,
            382295,
            380348,
            376454,
            378401,
            382295,
            374507,
            372560,
            380348,
            378401,
            378401,
            382295,
            382295,
            378401,
            376454,
            382295,
            374507,
            380348,
            384242,
            376454,
            376454,
            376454,
            382295,
            374507,
            382295,
            374507,
            382295,
            378401,
            376454,
            372560,
            380348,
            372560,
            384242,
            380348,
            380348,
            380348,
            380348,
            376454,
            378401,
            380348,
            382295,
            376454,
            378401,
            380348,
            376454,
            378401,
            372560,
            376454,
            372560,
            382295,
            376454,
            374507,
            378401,
            382295,
            376454,
            374507,
            376454,
            380348,
            384242,
            384242,
            372560,
            380348,
            372560,
            372560,
            372560,
            376454,
            376454,
            378401,
            374507,
            372560,
            374507,
            374507,
            374507,
            376454,
            374507,
            378401,
            372560,
            374507,
            376454,
            374507,
            372560,
            376454,
            380348,
            376454,
            378401,
            378401,
            372560,
            374507,
            376454,
            378401,
            380348,
            376454,
            372560,
            372560,
            376454,
            376454,
            372560,
            378401,
            372560,
            378401,
            374507,
            380348,
            382295,
            376454,
            374507,
            374507,
            376454,
            374507,
            372560,
            374507,
            376454,
            376454,
            378401,
            384242,
            374507,
            376454,
            376454,
            372560,
            374507,
            376454,
            376454,
            372560,
            378401,
            372560,
            378401,
            374507,
            384242,
            372560,
            376454,
            376454,
            378401,
            376454,
            372560,
            374507,
            372560,
            380348,
            374507,
            376454,
            376454,
            372560,
            376454,
            376454,
            374507,
            378401,
            374507,
            382295,
            372560,
            374507,
            382295,
            380348,
            374507,
            374507,
            374507,
            378401,
            372560,
            374507,
            378401,
            374507,
            376454,
            376454,
            372560,
            378401,
            374507,
            374507,
            372560,
            380348,
            374507,
            374507,
            376454,
            372560,
            372560,
            378401,
            376454,
            372560,
            374507,
            372560,
            374507,
            376454,
            372560,
            382295,
            372560,
            374507,
            378401,
            372560,
            380348,
            372560,
            374507,
            372560,
            372560,
            378401,
            374507,
            374507,
            378401,
            374507,
            376454,
            380348,
            374507,
            378401,
            372560,
            384242,
            372560,
            374507,
            372560,
            374507,
            382295,
            376454,
            384242,
            374507,
            374507,
            372560,
            380348,
            372560,
            376454,
            372560,
            372560,
            374507,
            374507,
            372560,
            384242,
            384242,
            378401,
            382295,
            382295,
            382295,
            384242
           ]
          },
          {
           "label": "Gross Rent",
           "values": [
            3739,
            4390,
            4390,
            2971,
            3528,
            4390,
            4390,
            3739,
            3528,
            3739,
            4390,
            3528,
            1239,
            4390,
            4390,
            3739,
            4390,
            4390,
            4390,
            3739,
            2971,
            4390,
            4390,
            3739,
            3739,
            4390,
            3739,
            3528,
            4390,
            4390,
            3528,
            3739,
            3739,
            4390,
            3739,
            3739,
            4390,
            3528,
            3739,
            3739,
            2324,
            2971,
            4390,
            2971,
            3528,
            4390,
            3528,
            4390,
            3739,
            3528,
            1239,
            3528,
            3528,
            4390,
            2971,
            4390,
            2971,
            3528,
            3739,
            3528,
            2324,
            3528,
            1239,
            3739,
            4390,
            2971,
            3528,
            2971,
            3739,
            3528,
            4390,
            3528,
            2324,
            3528,
            3528,
            3739,
            4390,
            3739,
            4390,
            2971,
            3528,
            3528,
            3739,
            2971,
            2324,
            3739,
            1530,
            2971,
            3739,
            3528,
            3739,
            2971,
            3739,
            3528,
            2971,
            3739,
            2971,
            2324,
            2971,
            3739,
            4390,
            3739,
            3739,
            3739,
            4390,
            1239,
            1239,
            2971,
            3528,
            4390,
            3739,
            3528,
            3528,
            3528,
            4390,
            1239,
            3739,
            1239,
            2971,
            2324,
            3739,
            3528,
            1239,
            3528,
            3739,
            4390,
            2971,
            4390,
            4390,
            3739,
            3528,
            2324,
            1239,
            3528,
            1530,
            4390,
            2324,
            2324,
            2971,
            2971,
            4390,
            1530,
            1530,
            2971,
            2971,
            2971,
            1530,
            3528,
            1239,
            1530,
            3739,
            3528,
            2324,
            2971,
            1239,
            3528,
            1239,
            3739,
            3528,
            1530,
            2971,
            3739,
            3528,
            2971,
            3528,
            3528,
            3739,
            1530,
            3528,
            2324,
            1530,
            2971,
            2324,
            3739,
            3528,
            2324,
            2971,
            3739,
            1530,
            1239,
            3528,
            2971,
            2971,
            3739,
            3739,
            2971,
            2324,
            3739,
            1530,
            3528,
            4390,
            2324,
            2324,
            2324,
            3739,
            1530,
            3739,
            1530,
            3739,
            2971,
            2324,
            1239,
            3528,
            1239,
            4390,
            3528,
            3528,
            3528,
            3528,
            2324,
            2971,
            3528,
            3739,
            2324,
            2971,
            3528,
            2324,
            2971,
            1239,
            2324,
            1239,
            3739,
            2324,
            1530,
            2971,
            3739,
            2324,
            1530,
            2324,
            3528,
            4390,
            4390,
            1239,
            3528,
            1239,
            1239,
            1239,
            2324,
            2324,
            2971,
            1530,
            1239,
            1530,
            1530,
            1530,
            2324,
            1530,
            2971,
            1239,
            1530,
            2324,
            1530,
            1239,
            2324,
            3528,
            2324,
            2971,
            2971,
            1239,
            1530,
            2324,
            2971,
            3528,
            2324,
            1239,
            1239,
            2324,
            2324,
            1239,
            2971,
            1239,
            2971,
            1530,
            3528,
            3739,
            2324,
            1530,
            1530,
            2324,
            1530,
            1239,
            1530,
            2324,
            2324,
            2971,
            4390,
            1530,
            2324,
            2324,
            1239,
            1530,
            2324,
            2324,
            1239,
            2971,
            1239,
            2971,
            1530,
            4390,
            1239,
            2324,
            2324,
            2971,
            2324,
            1239,
            1530,
            1239,
            3528,
            1530,
            2324,
            2324,
            1239,
            2324,
            2324,
            1530,
            2971,
            1530,
            3739,
            1239,
            1530,
            3739,
            3528,
            1530,
            1530,
            1530,
            2971,
            1239,
            1530,
            2971,
            1530,
            2324,
            2324,
            1239,
            2971,
            1530,
            1530,
            1239,
            3528,
            1530,
            1530,
            2324,
            1239,
            1239,
            2971,
            2324,
            1239,
            1530,
            1239,
            1530,
            2324,
            1239,
            3739,
            1239,
            1530,
            2971,
            1239,
            3528,
            1239,
            1530,
            1239,
            1239,
            2971,
            1530,
            1530,
            2971,
            1530,
            2324,
            3528,
            1530,
            2971,
            1239,
            4390,
            1239,
            1530,
            1239,
            1530,
            3739,
            2324,
            4390,
            1530,
            1530,
            1239,
            3528,
            1239,
            2324,
            1239,
            1239,
            1530,
            1530,
            1239,
            4390,
            4390,
            2971,
            3739,
            3739,
            3739,
            4390
           ]
          }
         ],
         "domain": {
          "x": [
           0,
           1
          ],
          "y": [
           0,
           1
          ]
         },
         "line": {
          "color": [
           2258.702831998355,
           1465.9685863874345,
           1416.666666666667,
           1290.472106646641,
           1267.7662026328826,
           1207.997484708169,
           1196.645436923929,
           1132.8373605554546,
           1119.8388773148026,
           1100.7911936704506,
           1059.0656015492618,
           1045.2015459222662,
           1037.0997886617895,
           1026.7911075237503,
           1024.3398771365157,
           996.9902204858653,
           996.3893635634033,
           986.8421052631579,
           970.08547008547,
           963.5226061641273,
           956.1841219171133,
           945.5665024630542,
           924.5691159025888,
           918.2882682038704,
           910.1876901656897,
           903.0497705987848,
           890.9095931764135,
           888.1821435177138,
           879.0170132325142,
           851.4014053492668,
           824.6586936349588,
           821.3009904764873,
           800.0388650775142,
           799.4956512788842,
           793.2619915605263,
           790.1803690820187,
           777.0083145338547,
           773.4061347806703,
           772.7128362001238,
           762.5272331154684,
           756.1923725098497,
           753.0114133184368,
           751.1737089201877,
           747.3335378171588,
           742.9797231632554,
           732.7206841423807,
           728.9797158498743,
           718.7768297452345,
           717.0825412171872,
           716.3765095625198,
           715.5864380979738,
           714.2220737504065,
           708.1930316849231,
           707.6516094320912,
           707.4028088888208,
           704.5664189758045,
           703.0815676877947,
           694.4181461347432,
           694.358566653677,
           691.8654114838455,
           689.5233123659036,
           687.7829633004552,
           680.6087291389301,
           677.8382318281795,
           661.0644257703083,
           655.1980415945777,
           654.801499892284,
           653.3116166908643,
           652.2879690318528,
           650.963515967709,
           647.7704471840341,
           647.6496334575522,
           644.8183066758803,
           642.838478220973,
           642.2195925518147,
           639.1464438694404,
           636.4307703489127,
           631.6456863280099,
           631.1954258724091,
           630.8973025513741,
           630.3115352378672,
           620.4414065565543,
           616.5723883169862,
           615.0639297056517,
           613.8430658201435,
           612.1061563311456,
           610.7666631577348,
           608.694967227678,
           605.3433249358948,
           603.4509968798565,
           602.1158769435002,
           598.704795328917,
           598.6205414959003,
           597.200528047448,
           591.4020223180053,
           590.7928388746802,
           588.0747967826295,
           586.2182148097696,
           584.0737147409254,
           583.8486362312665,
           581.3708750724594,
           576.4579094375945,
           574.2740565313097,
           571.7557085689908,
           571.5799833446893,
           569.3799679261333,
           569.1934475267735,
           568.6511487607912,
           567.3400104586143,
           566.7011760342162,
           564.6874764662283,
           562.9112337982453,
           558.2711194060469,
           553.5627522522698,
           552.6025671312701,
           551.8011188234774,
           551.6956218496264,
           549.4179312485746,
           548.0466890413603,
           545.9801982412763,
           544.6002639104154,
           544.5469286452765,
           542.5316819894505,
           538.204698577284,
           536.5571018753241,
           534.2262501283425,
           533.6884470076521,
           531.8350322320708,
           531.1363737279744,
           529.847319131393,
           528.7265413888829,
           524.8134180834782,
           524.7935090952678,
           524.6293121403909,
           520.7181675305429,
           518.1126504655916,
           517.1734931165627,
           515.9210732061051,
           512.8402484358223,
           512.6307219919141,
           510.5769072143791,
           509.0214800287398,
           506.95217450146765,
           506.22752218971993,
           505.83481143735054,
           503.89926133005366,
           503.13850456030497,
           496.55100121228986,
           496.51601414694983,
           493.814917282618,
           493.61555763336935,
           493.45560489574007,
           491.8140030500954,
           491.5892613631572,
           491.45000385678617,
           490.36358286726374,
           489.80537777998506,
           485.8868855757771,
           484.44355217067766,
           483.4057725178001,
           483.16880334240136,
           481.46924427394237,
           479.9237488133093,
           478.4956365730093,
           478.44335175268515,
           475.39318681250677,
           473.1638149617127,
           471.9217320911283,
           470.85352986706454,
           466.6478402167172,
           466.6178976523653,
           466.02648785310464,
           465.80212163177373,
           465.68627450980387,
           464.1758436880091,
           463.8098989043553,
           458.7213317825408,
           458.0042993401075,
           457.41388429762526,
           456.9308221979013,
           456.2419957897522,
           455.2180887853926,
           453.7716045219721,
           453.4330812935196,
           453.3793770708969,
           453.34049829869934,
           452.66002242984047,
           448.86919667679206,
           448.3201042149405,
           446.23924529045684,
           445.9238282688497,
           445.21509554245245,
           445.1967876448791,
           442.24265696115737,
           439.7498835483721,
           438.86054508174806,
           438.4677874196749,
           437.16429949197664,
           435.9007753824155,
           435.5456667813491,
           434.63234651328025,
           434.25500394602585,
           432.9627229749631,
           432.19529211245555,
           431.94460202359033,
           430.9396363161629,
           429.4883174233179,
           428.9237926791115,
           428.7265326799175,
           428.0219127043747,
           427.16626614177557,
           426.7863811847511,
           426.6849522707296,
           426.60859207171325,
           425.64225533080946,
           423.95272693478194,
           421.1412447061912,
           420.822184596571,
           419.88781187646566,
           418.83037933269526,
           418.1724927089675,
           417.33537892280015,
           415.0903401095623,
           414.67606477603755,
           414.43569251368126,
           414.35585647200105,
           414.16272789686775,
           413.16280403427527,
           413.05871935195154,
           409.9438351783924,
           407.5533215595707,
           403.31113221139015,
           403.1183126490986,
           401.9350222176535,
           401.7499665916537,
           401.2959764896399,
           398.4588759923028,
           397.9391288956355,
           396.171112391617,
           393.71733534550384,
           392.35345097326814,
           392.30076417058257,
           391.42644972996203,
           390.81846895621413,
           390.5956530284181,
           390.3838567783597,
           388.6443367815385,
           387.79414379681333,
           387.392839476922,
           384.23680203579306,
           383.15039609809617,
           382.3522610640586,
           381.13844514705266,
           380.5214843069476,
           379.92536172660726,
           378.2738784387478,
           377.51801557551835,
           376.08359802951554,
           374.05763601016855,
           373.97868706755236,
           373.4668636470579,
           372.24198616911974,
           371.9242451684328,
           371.0302152741686,
           369.35933800413665,
           368.31155203937294,
           368.26656078838516,
           366.9954275112727,
           364.92833570851764,
           364.62465302417013,
           362.34822391312133,
           361.45469198221224,
           360.03727240448274,
           358.30523872237734,
           357.8946922463997,
           356.7948135908725,
           356.7090091359044,
           354.66555789282774,
           351.0432256921308,
           348.92970004124925,
           347.3949194037114,
           346.96116001560216,
           345.95804038831767,
           344.4909139677922,
           343.0542609770136,
           340.98183523166995,
           340.6425969783877,
           338.63301173022234,
           338.60116351046344,
           338.12619999607017,
           337.91413464365013,
           336.8259501844992,
           334.4878725198492,
           333.12677384193887,
           332.40781536886453,
           331.55599614560697,
           330.7364310191893,
           330.10889435237306,
           328.31900668576884,
           326.01715041025074,
           325.82892041816064,
           325.79541506433713,
           322.0822144332409,
           320.9599230279341,
           320.79691049204627,
           320.0743330547439,
           319.0276225530687,
           317.2219194303952,
           313.33845823084727,
           312.83398436239065,
           307.78311439850694,
           307.67747674427835,
           306.3779578647354,
           304.89964760284107,
           303.5441997161898,
           302.96737702840636,
           302.60448945564127,
           302.2218727063018,
           302.15611319728896,
           302.12325280969134,
           301.61864706270705,
           300.1873092016618,
           297.2455578459466,
           295.77937822922695,
           293.4042461148187,
           293.2983722057751,
           291.18294547229095,
           290.9210327099608,
           289.749665708438,
           289.60560009472283,
           288.0785187599688,
           286.3519820673892,
           285.82235848868265,
           285.0095060630079,
           284.56696642681646,
           283.17495073168755,
           282.11967050133603,
           282.02546830016496,
           281.312904357283,
           280.73063309393075,
           279.0301399218751,
           275.76972957461044,
           275.05668560990915,
           274.4579436322337,
           274.33846004864847,
           274.16674158669116,
           272.5273101795261,
           272.28497956385485,
           271.09013956932756,
           269.109528813633,
           267.9325826799483,
           265.92982650327014,
           262.87602564056425,
           261.6638003416518,
           259.54716259308043,
           257.98799863500693,
           254.95866163273848,
           254.47377914469143,
           241.94565649181578,
           241.80455206485138,
           238.35002040677708,
           235.99759251727426,
           234.28162351035442,
           227.41898086494461,
           223.11583290346024,
           222.567848047696,
           221.881138746669,
           220.11108719171108,
           217.55878684527906,
           217.0890689540353,
           215.56913431487555,
           211.30136986006568,
           209.0493266346945,
           208.1679967483858,
           199.70200378219917,
           198.01587292452027,
           192.16524813774402,
           183.09931693145703,
           175.06606919629078,
           172.54056243085552,
           171.7723466866044,
           170.62491987132685,
           170.2925485152069,
           170.09866536400102,
           165.79806239165433,
           165.6457300650791,
           162.82121004772353,
           145.85338027594094,
           142.14256751724554,
           108.0129268765048,
           88.40151094606408,
           40.7726253518439,
           null,
           null,
           null,
           null,
           null
          ],
          "coloraxis": "coloraxis"
         },
         "name": "",
         "type": "parcats"
        }
       ],
       "layout": {
        "autosize": true,
        "coloraxis": {
         "colorbar": {
          "title": {
           "text": "Sales Price per sqf"
          }
         },
         "colorscale": [
          [
           0,
           "#000004"
          ],
          [
           0.1111111111111111,
           "#1b0c41"
          ],
          [
           0.2222222222222222,
           "#4a0c6b"
          ],
          [
           0.3333333333333333,
           "#781c6d"
          ],
          [
           0.4444444444444444,
           "#a52c60"
          ],
          [
           0.5555555555555556,
           "#cf4446"
          ],
          [
           0.6666666666666666,
           "#ed6925"
          ],
          [
           0.7777777777777778,
           "#fb9b06"
          ],
          [
           0.8888888888888888,
           "#f7d13d"
          ],
          [
           1,
           "#fcffa4"
          ]
         ]
        },
        "legend": {
         "tracegroupgap": 0
        },
        "template": {
         "data": {
          "bar": [
           {
            "error_x": {
             "color": "#2a3f5f"
            },
            "error_y": {
             "color": "#2a3f5f"
            },
            "marker": {
             "line": {
              "color": "#E5ECF6",
              "width": 0.5
             }
            },
            "type": "bar"
           }
          ],
          "barpolar": [
           {
            "marker": {
             "line": {
              "color": "#E5ECF6",
              "width": 0.5
             }
            },
            "type": "barpolar"
           }
          ],
          "carpet": [
           {
            "aaxis": {
             "endlinecolor": "#2a3f5f",
             "gridcolor": "white",
             "linecolor": "white",
             "minorgridcolor": "white",
             "startlinecolor": "#2a3f5f"
            },
            "baxis": {
             "endlinecolor": "#2a3f5f",
             "gridcolor": "white",
             "linecolor": "white",
             "minorgridcolor": "white",
             "startlinecolor": "#2a3f5f"
            },
            "type": "carpet"
           }
          ],
          "choropleth": [
           {
            "colorbar": {
             "outlinewidth": 0,
             "ticks": ""
            },
            "type": "choropleth"
           }
          ],
          "contour": [
           {
            "colorbar": {
             "outlinewidth": 0,
             "ticks": ""
            },
            "colorscale": [
             [
              0,
              "#0d0887"
             ],
             [
              0.1111111111111111,
              "#46039f"
             ],
             [
              0.2222222222222222,
              "#7201a8"
             ],
             [
              0.3333333333333333,
              "#9c179e"
             ],
             [
              0.4444444444444444,
              "#bd3786"
             ],
             [
              0.5555555555555556,
              "#d8576b"
             ],
             [
              0.6666666666666666,
              "#ed7953"
             ],
             [
              0.7777777777777778,
              "#fb9f3a"
             ],
             [
              0.8888888888888888,
              "#fdca26"
             ],
             [
              1,
              "#f0f921"
             ]
            ],
            "type": "contour"
           }
          ],
          "contourcarpet": [
           {
            "colorbar": {
             "outlinewidth": 0,
             "ticks": ""
            },
            "type": "contourcarpet"
           }
          ],
          "heatmap": [
           {
            "colorbar": {
             "outlinewidth": 0,
             "ticks": ""
            },
            "colorscale": [
             [
              0,
              "#0d0887"
             ],
             [
              0.1111111111111111,
              "#46039f"
             ],
             [
              0.2222222222222222,
              "#7201a8"
             ],
             [
              0.3333333333333333,
              "#9c179e"
             ],
             [
              0.4444444444444444,
              "#bd3786"
             ],
             [
              0.5555555555555556,
              "#d8576b"
             ],
             [
              0.6666666666666666,
              "#ed7953"
             ],
             [
              0.7777777777777778,
              "#fb9f3a"
             ],
             [
              0.8888888888888888,
              "#fdca26"
             ],
             [
              1,
              "#f0f921"
             ]
            ],
            "type": "heatmap"
           }
          ],
          "heatmapgl": [
           {
            "colorbar": {
             "outlinewidth": 0,
             "ticks": ""
            },
            "colorscale": [
             [
              0,
              "#0d0887"
             ],
             [
              0.1111111111111111,
              "#46039f"
             ],
             [
              0.2222222222222222,
              "#7201a8"
             ],
             [
              0.3333333333333333,
              "#9c179e"
             ],
             [
              0.4444444444444444,
              "#bd3786"
             ],
             [
              0.5555555555555556,
              "#d8576b"
             ],
             [
              0.6666666666666666,
              "#ed7953"
             ],
             [
              0.7777777777777778,
              "#fb9f3a"
             ],
             [
              0.8888888888888888,
              "#fdca26"
             ],
             [
              1,
              "#f0f921"
             ]
            ],
            "type": "heatmapgl"
           }
          ],
          "histogram": [
           {
            "marker": {
             "colorbar": {
              "outlinewidth": 0,
              "ticks": ""
             }
            },
            "type": "histogram"
           }
          ],
          "histogram2d": [
           {
            "colorbar": {
             "outlinewidth": 0,
             "ticks": ""
            },
            "colorscale": [
             [
              0,
              "#0d0887"
             ],
             [
              0.1111111111111111,
              "#46039f"
             ],
             [
              0.2222222222222222,
              "#7201a8"
             ],
             [
              0.3333333333333333,
              "#9c179e"
             ],
             [
              0.4444444444444444,
              "#bd3786"
             ],
             [
              0.5555555555555556,
              "#d8576b"
             ],
             [
              0.6666666666666666,
              "#ed7953"
             ],
             [
              0.7777777777777778,
              "#fb9f3a"
             ],
             [
              0.8888888888888888,
              "#fdca26"
             ],
             [
              1,
              "#f0f921"
             ]
            ],
            "type": "histogram2d"
           }
          ],
          "histogram2dcontour": [
           {
            "colorbar": {
             "outlinewidth": 0,
             "ticks": ""
            },
            "colorscale": [
             [
              0,
              "#0d0887"
             ],
             [
              0.1111111111111111,
              "#46039f"
             ],
             [
              0.2222222222222222,
              "#7201a8"
             ],
             [
              0.3333333333333333,
              "#9c179e"
             ],
             [
              0.4444444444444444,
              "#bd3786"
             ],
             [
              0.5555555555555556,
              "#d8576b"
             ],
             [
              0.6666666666666666,
              "#ed7953"
             ],
             [
              0.7777777777777778,
              "#fb9f3a"
             ],
             [
              0.8888888888888888,
              "#fdca26"
             ],
             [
              1,
              "#f0f921"
             ]
            ],
            "type": "histogram2dcontour"
           }
          ],
          "mesh3d": [
           {
            "colorbar": {
             "outlinewidth": 0,
             "ticks": ""
            },
            "type": "mesh3d"
           }
          ],
          "parcoords": [
           {
            "line": {
             "colorbar": {
              "outlinewidth": 0,
              "ticks": ""
             }
            },
            "type": "parcoords"
           }
          ],
          "pie": [
           {
            "automargin": true,
            "type": "pie"
           }
          ],
          "scatter": [
           {
            "marker": {
             "colorbar": {
              "outlinewidth": 0,
              "ticks": ""
             }
            },
            "type": "scatter"
           }
          ],
          "scatter3d": [
           {
            "line": {
             "colorbar": {
              "outlinewidth": 0,
              "ticks": ""
             }
            },
            "marker": {
             "colorbar": {
              "outlinewidth": 0,
              "ticks": ""
             }
            },
            "type": "scatter3d"
           }
          ],
          "scattercarpet": [
           {
            "marker": {
             "colorbar": {
              "outlinewidth": 0,
              "ticks": ""
             }
            },
            "type": "scattercarpet"
           }
          ],
          "scattergeo": [
           {
            "marker": {
             "colorbar": {
              "outlinewidth": 0,
              "ticks": ""
             }
            },
            "type": "scattergeo"
           }
          ],
          "scattergl": [
           {
            "marker": {
             "colorbar": {
              "outlinewidth": 0,
              "ticks": ""
             }
            },
            "type": "scattergl"
           }
          ],
          "scattermapbox": [
           {
            "marker": {
             "colorbar": {
              "outlinewidth": 0,
              "ticks": ""
             }
            },
            "type": "scattermapbox"
           }
          ],
          "scatterpolar": [
           {
            "marker": {
             "colorbar": {
              "outlinewidth": 0,
              "ticks": ""
             }
            },
            "type": "scatterpolar"
           }
          ],
          "scatterpolargl": [
           {
            "marker": {
             "colorbar": {
              "outlinewidth": 0,
              "ticks": ""
             }
            },
            "type": "scatterpolargl"
           }
          ],
          "scatterternary": [
           {
            "marker": {
             "colorbar": {
              "outlinewidth": 0,
              "ticks": ""
             }
            },
            "type": "scatterternary"
           }
          ],
          "surface": [
           {
            "colorbar": {
             "outlinewidth": 0,
             "ticks": ""
            },
            "colorscale": [
             [
              0,
              "#0d0887"
             ],
             [
              0.1111111111111111,
              "#46039f"
             ],
             [
              0.2222222222222222,
              "#7201a8"
             ],
             [
              0.3333333333333333,
              "#9c179e"
             ],
             [
              0.4444444444444444,
              "#bd3786"
             ],
             [
              0.5555555555555556,
              "#d8576b"
             ],
             [
              0.6666666666666666,
              "#ed7953"
             ],
             [
              0.7777777777777778,
              "#fb9f3a"
             ],
             [
              0.8888888888888888,
              "#fdca26"
             ],
             [
              1,
              "#f0f921"
             ]
            ],
            "type": "surface"
           }
          ],
          "table": [
           {
            "cells": {
             "fill": {
              "color": "#EBF0F8"
             },
             "line": {
              "color": "white"
             }
            },
            "header": {
             "fill": {
              "color": "#C8D4E3"
             },
             "line": {
              "color": "white"
             }
            },
            "type": "table"
           }
          ]
         },
         "layout": {
          "annotationdefaults": {
           "arrowcolor": "#2a3f5f",
           "arrowhead": 0,
           "arrowwidth": 1
          },
          "coloraxis": {
           "colorbar": {
            "outlinewidth": 0,
            "ticks": ""
           }
          },
          "colorscale": {
           "diverging": [
            [
             0,
             "#8e0152"
            ],
            [
             0.1,
             "#c51b7d"
            ],
            [
             0.2,
             "#de77ae"
            ],
            [
             0.3,
             "#f1b6da"
            ],
            [
             0.4,
             "#fde0ef"
            ],
            [
             0.5,
             "#f7f7f7"
            ],
            [
             0.6,
             "#e6f5d0"
            ],
            [
             0.7,
             "#b8e186"
            ],
            [
             0.8,
             "#7fbc41"
            ],
            [
             0.9,
             "#4d9221"
            ],
            [
             1,
             "#276419"
            ]
           ],
           "sequential": [
            [
             0,
             "#0d0887"
            ],
            [
             0.1111111111111111,
             "#46039f"
            ],
            [
             0.2222222222222222,
             "#7201a8"
            ],
            [
             0.3333333333333333,
             "#9c179e"
            ],
            [
             0.4444444444444444,
             "#bd3786"
            ],
            [
             0.5555555555555556,
             "#d8576b"
            ],
            [
             0.6666666666666666,
             "#ed7953"
            ],
            [
             0.7777777777777778,
             "#fb9f3a"
            ],
            [
             0.8888888888888888,
             "#fdca26"
            ],
            [
             1,
             "#f0f921"
            ]
           ],
           "sequentialminus": [
            [
             0,
             "#0d0887"
            ],
            [
             0.1111111111111111,
             "#46039f"
            ],
            [
             0.2222222222222222,
             "#7201a8"
            ],
            [
             0.3333333333333333,
             "#9c179e"
            ],
            [
             0.4444444444444444,
             "#bd3786"
            ],
            [
             0.5555555555555556,
             "#d8576b"
            ],
            [
             0.6666666666666666,
             "#ed7953"
            ],
            [
             0.7777777777777778,
             "#fb9f3a"
            ],
            [
             0.8888888888888888,
             "#fdca26"
            ],
            [
             1,
             "#f0f921"
            ]
           ]
          },
          "colorway": [
           "#636efa",
           "#EF553B",
           "#00cc96",
           "#ab63fa",
           "#FFA15A",
           "#19d3f3",
           "#FF6692",
           "#B6E880",
           "#FF97FF",
           "#FECB52"
          ],
          "font": {
           "color": "#2a3f5f"
          },
          "geo": {
           "bgcolor": "white",
           "lakecolor": "white",
           "landcolor": "#E5ECF6",
           "showlakes": true,
           "showland": true,
           "subunitcolor": "white"
          },
          "hoverlabel": {
           "align": "left"
          },
          "hovermode": "closest",
          "mapbox": {
           "style": "light"
          },
          "paper_bgcolor": "white",
          "plot_bgcolor": "#E5ECF6",
          "polar": {
           "angularaxis": {
            "gridcolor": "white",
            "linecolor": "white",
            "ticks": ""
           },
           "bgcolor": "#E5ECF6",
           "radialaxis": {
            "gridcolor": "white",
            "linecolor": "white",
            "ticks": ""
           }
          },
          "scene": {
           "xaxis": {
            "backgroundcolor": "#E5ECF6",
            "gridcolor": "white",
            "gridwidth": 2,
            "linecolor": "white",
            "showbackground": true,
            "ticks": "",
            "zerolinecolor": "white"
           },
           "yaxis": {
            "backgroundcolor": "#E5ECF6",
            "gridcolor": "white",
            "gridwidth": 2,
            "linecolor": "white",
            "showbackground": true,
            "ticks": "",
            "zerolinecolor": "white"
           },
           "zaxis": {
            "backgroundcolor": "#E5ECF6",
            "gridcolor": "white",
            "gridwidth": 2,
            "linecolor": "white",
            "showbackground": true,
            "ticks": "",
            "zerolinecolor": "white"
           }
          },
          "shapedefaults": {
           "line": {
            "color": "#2a3f5f"
           }
          },
          "ternary": {
           "aaxis": {
            "gridcolor": "white",
            "linecolor": "white",
            "ticks": ""
           },
           "baxis": {
            "gridcolor": "white",
            "linecolor": "white",
            "ticks": ""
           },
           "bgcolor": "#E5ECF6",
           "caxis": {
            "gridcolor": "white",
            "linecolor": "white",
            "ticks": ""
           }
          },
          "title": {
           "x": 0.05
          },
          "xaxis": {
           "automargin": true,
           "gridcolor": "white",
           "linecolor": "white",
           "ticks": "",
           "title": {
            "standoff": 15
           },
           "zerolinecolor": "white",
           "zerolinewidth": 2
          },
          "yaxis": {
           "automargin": true,
           "gridcolor": "white",
           "linecolor": "white",
           "ticks": "",
           "title": {
            "standoff": 15
           },
           "zerolinecolor": "white",
           "zerolinewidth": 2
          }
         }
        },
        "title": {
         "text": "Average values per neighborhood"
        }
       }
      },
      "image/png": "[encoded data removed]",
      "text/html": [
       "<div>                            <div id=\"1c9a7778-a275-4014-b01e-322c0a90263b\" class=\"plotly-graph-div\" style=\"height:525px; width:100%;\"></div>            <script type=\"text/javascript\">                require([\"plotly\"], function(Plotly) {                    window.PLOTLYENV=window.PLOTLYENV || {};                                    if (document.getElementById(\"1c9a7778-a275-4014-b01e-322c0a90263b\")) {                    Plotly.newPlot(                        \"1c9a7778-a275-4014-b01e-322c0a90263b\",                        [{\"dimensions\": [{\"label\": \"year\", \"values\": [2015, 2016, 2016, 2013, 2014, 2016, 2016, 2015, 2014, 2015, 2016, 2014, 2010, 2016, 2016, 2015, 2016, 2016, 2016, 2015, 2013, 2016, 2016, 2015, 2015, 2016, 2015, 2014, 2016, 2016, 2014, 2015, 2015, 2016, 2015, 2015, 2016, 2014, 2015, 2015, 2012, 2013, 2016, 2013, 2014, 2016, 2014, 2016, 2015, 2014, 2010, 2014, 2014, 2016, 2013, 2016, 2013, 2014, 2015, 2014, 2012, 2014, 2010, 2015, 2016, 2013, 2014, 2013, 2015, 2014, 2016, 2014, 2012, 2014, 2014, 2015, 2016, 2015, 2016, 2013, 2014, 2014, 2015, 2013, 2012, 2015, 2011, 2013, 2015, 2014, 2015, 2013, 2015, 2014, 2013, 2015, 2013, 2012, 2013, 2015, 2016, 2015, 2015, 2015, 2016, 2010, 2010, 2013, 2014, 2016, 2015, 2014, 2014, 2014, 2016, 2010, 2015, 2010, 2013, 2012, 2015, 2014, 2010, 2014, 2015, 2016, 2013, 2016, 2016, 2015, 2014, 2012, 2010, 2014, 2011, 2016, 2012, 2012, 2013, 2013, 2016, 2011, 2011, 2013, 2013, 2013, 2011, 2014, 2010, 2011, 2015, 2014, 2012, 2013, 2010, 2014, 2010, 2015, 2014, 2011, 2013, 2015, 2014, 2013, 2014, 2014, 2015, 2011, 2014, 2012, 2011, 2013, 2012, 2015, 2014, 2012, 2013, 2015, 2011, 2010, 2014, 2013, 2013, 2015, 2015, 2013, 2012, 2015, 2011, 2014, 2016, 2012, 2012, 2012, 2015, 2011, 2015, 2011, 2015, 2013, 2012, 2010, 2014, 2010, 2016, 2014, 2014, 2014, 2014, 2012, 2013, 2014, 2015, 2012, 2013, 2014, 2012, 2013, 2010, 2012, 2010, 2015, 2012, 2011, 2013, 2015, 2012, 2011, 2012, 2014, 2016, 2016, 2010, 2014, 2010, 2010, 2010, 2012, 2012, 2013, 2011, 2010, 2011, 2011, 2011, 2012, 2011, 2013, 2010, 2011, 2012, 2011, 2010, 2012, 2014, 2012, 2013, 2013, 2010, 2011, 2012, 2013, 2014, 2012, 2010, 2010, 2012, 2012, 2010, 2013, 2010, 2013, 2011, 2014, 2015, 2012, 2011, 2011, 2012, 2011, 2010, 2011, 2012, 2012, 2013, 2016, 2011, 2012, 2012, 2010, 2011, 2012, 2012, 2010, 2013, 2010, 2013, 2011, 2016, 2010, 2012, 2012, 2013, 2012, 2010, 2011, 2010, 2014, 2011, 2012, 2012, 2010, 2012, 2012, 2011, 2013, 2011, 2015, 2010, 2011, 2015, 2014, 2011, 2011, 2011, 2013, 2010, 2011, 2013, 2011, 2012, 2012, 2010, 2013, 2011, 2011, 2010, 2014, 2011, 2011, 2012, 2010, 2010, 2013, 2012, 2010, 2011, 2010, 2011, 2012, 2010, 2015, 2010, 2011, 2013, 2010, 2014, 2010, 2011, 2010, 2010, 2013, 2011, 2011, 2013, 2011, 2012, 2014, 2011, 2013, 2010, 2016, 2010, 2011, 2010, 2011, 2015, 2012, 2016, 2011, 2011, 2010, 2014, 2010, 2012, 2010, 2010, 2011, 2011, 2010, 2016, 2016, 2013, 2015, 2015, 2015, 2016]}, {\"label\": \"Housing Units\", \"values\": [382295, 384242, 384242, 378401, 380348, 384242, 384242, 382295, 380348, 382295, 384242, 380348, 372560, 384242, 384242, 382295, 384242, 384242, 384242, 382295, 378401, 384242, 384242, 382295, 382295, 384242, 382295, 380348, 384242, 384242, 380348, 382295, 382295, 384242, 382295, 382295, 384242, 380348, 382295, 382295, 376454, 378401, 384242, 378401, 380348, 384242, 380348, 384242, 382295, 380348, 372560, 380348, 380348, 384242, 378401, 384242, 378401, 380348, 382295, 380348, 376454, 380348, 372560, 382295, 384242, 378401, 380348, 378401, 382295, 380348, 384242, 380348, 376454, 380348, 380348, 382295, 384242, 382295, 384242, 378401, 380348, 380348, 382295, 378401, 376454, 382295, 374507, 378401, 382295, 380348, 382295, 378401, 382295, 380348, 378401, 382295, 378401, 376454, 378401, 382295, 384242, 382295, 382295, 382295, 384242, 372560, 372560, 378401, 380348, 384242, 382295, 380348, 380348, 380348, 384242, 372560, 382295, 372560, 378401, 376454, 382295, 380348, 372560, 380348, 382295, 384242, 378401, 384242, 384242, 382295, 380348, 376454, 372560, 380348, 374507, 384242, 376454, 376454, 378401, 378401, 384242, 374507, 374507, 378401, 378401, 378401, 374507, 380348, 372560, 374507, 382295, 380348, 376454, 378401, 372560, 380348, 372560, 382295, 380348, 374507, 378401, 382295, 380348, 378401, 380348, 380348, 382295, 374507, 380348, 376454, 374507, 378401, 376454, 382295, 380348, 376454, 378401, 382295, 374507, 372560, 380348, 378401, 378401, 382295, 382295, 378401, 376454, 382295, 374507, 380348, 384242, 376454, 376454, 376454, 382295, 374507, 382295, 374507, 382295, 378401, 376454, 372560, 380348, 372560, 384242, 380348, 380348, 380348, 380348, 376454, 378401, 380348, 382295, 376454, 378401, 380348, 376454, 378401, 372560, 376454, 372560, 382295, 376454, 374507, 378401, 382295, 376454, 374507, 376454, 380348, 384242, 384242, 372560, 380348, 372560, 372560, 372560, 376454, 376454, 378401, 374507, 372560, 374507, 374507, 374507, 376454, 374507, 378401, 372560, 374507, 376454, 374507, 372560, 376454, 380348, 376454, 378401, 378401, 372560, 374507, 376454, 378401, 380348, 376454, 372560, 372560, 376454, 376454, 372560, 378401, 372560, 378401, 374507, 380348, 382295, 376454, 374507, 374507, 376454, 374507, 372560, 374507, 376454, 376454, 378401, 384242, 374507, 376454, 376454, 372560, 374507, 376454, 376454, 372560, 378401, 372560, 378401, 374507, 384242, 372560, 376454, 376454, 378401, 376454, 372560, 374507, 372560, 380348, 374507, 376454, 376454, 372560, 376454, 376454, 374507, 378401, 374507, 382295, 372560, 374507, 382295, 380348, 374507, 374507, 374507, 378401, 372560, 374507, 378401, 374507, 376454, 376454, 372560, 378401, 374507, 374507, 372560, 380348, 374507, 374507, 376454, 372560, 372560, 378401, 376454, 372560, 374507, 372560, 374507, 376454, 372560, 382295, 372560, 374507, 378401, 372560, 380348, 372560, 374507, 372560, 372560, 378401, 374507, 374507, 378401, 374507, 376454, 380348, 374507, 378401, 372560, 384242, 372560, 374507, 372560, 374507, 382295, 376454, 384242, 374507, 374507, 372560, 380348, 372560, 376454, 372560, 372560, 374507, 374507, 372560, 384242, 384242, 378401, 382295, 382295, 382295, 384242]}, {\"label\": \"Gross Rent\", \"values\": [3739, 4390, 4390, 2971, 3528, 4390, 4390, 3739, 3528, 3739, 4390, 3528, 1239, 4390, 4390, 3739, 4390, 4390, 4390, 3739, 2971, 4390, 4390, 3739, 3739, 4390, 3739, 3528, 4390, 4390, 3528, 3739, 3739, 4390, 3739, 3739, 4390, 3528, 3739, 3739, 2324, 2971, 4390, 2971, 3528, 4390, 3528, 4390, 3739, 3528, 1239, 3528, 3528, 4390, 2971, 4390, 2971, 3528, 3739, 3528, 2324, 3528, 1239, 3739, 4390, 2971, 3528, 2971, 3739, 3528, 4390, 3528, 2324, 3528, 3528, 3739, 4390, 3739, 4390, 2971, 3528, 3528, 3739, 2971, 2324, 3739, 1530, 2971, 3739, 3528, 3739, 2971, 3739, 3528, 2971, 3739, 2971, 2324, 2971, 3739, 4390, 3739, 3739, 3739, 4390, 1239, 1239, 2971, 3528, 4390, 3739, 3528, 3528, 3528, 4390, 1239, 3739, 1239, 2971, 2324, 3739, 3528, 1239, 3528, 3739, 4390, 2971, 4390, 4390, 3739, 3528, 2324, 1239, 3528, 1530, 4390, 2324, 2324, 2971, 2971, 4390, 1530, 1530, 2971, 2971, 2971, 1530, 3528, 1239, 1530, 3739, 3528, 2324, 2971, 1239, 3528, 1239, 3739, 3528, 1530, 2971, 3739, 3528, 2971, 3528, 3528, 3739, 1530, 3528, 2324, 1530, 2971, 2324, 3739, 3528, 2324, 2971, 3739, 1530, 1239, 3528, 2971, 2971, 3739, 3739, 2971, 2324, 3739, 1530, 3528, 4390, 2324, 2324, 2324, 3739, 1530, 3739, 1530, 3739, 2971, 2324, 1239, 3528, 1239, 4390, 3528, 3528, 3528, 3528, 2324, 2971, 3528, 3739, 2324, 2971, 3528, 2324, 2971, 1239, 2324, 1239, 3739, 2324, 1530, 2971, 3739, 2324, 1530, 2324, 3528, 4390, 4390, 1239, 3528, 1239, 1239, 1239, 2324, 2324, 2971, 1530, 1239, 1530, 1530, 1530, 2324, 1530, 2971, 1239, 1530, 2324, 1530, 1239, 2324, 3528, 2324, 2971, 2971, 1239, 1530, 2324, 2971, 3528, 2324, 1239, 1239, 2324, 2324, 1239, 2971, 1239, 2971, 1530, 3528, 3739, 2324, 1530, 1530, 2324, 1530, 1239, 1530, 2324, 2324, 2971, 4390, 1530, 2324, 2324, 1239, 1530, 2324, 2324, 1239, 2971, 1239, 2971, 1530, 4390, 1239, 2324, 2324, 2971, 2324, 1239, 1530, 1239, 3528, 1530, 2324, 2324, 1239, 2324, 2324, 1530, 2971, 1530, 3739, 1239, 1530, 3739, 3528, 1530, 1530, 1530, 2971, 1239, 1530, 2971, 1530, 2324, 2324, 1239, 2971, 1530, 1530, 1239, 3528, 1530, 1530, 2324, 1239, 1239, 2971, 2324, 1239, 1530, 1239, 1530, 2324, 1239, 3739, 1239, 1530, 2971, 1239, 3528, 1239, 1530, 1239, 1239, 2971, 1530, 1530, 2971, 1530, 2324, 3528, 1530, 2971, 1239, 4390, 1239, 1530, 1239, 1530, 3739, 2324, 4390, 1530, 1530, 1239, 3528, 1239, 2324, 1239, 1239, 1530, 1530, 1239, 4390, 4390, 2971, 3739, 3739, 3739, 4390]}], \"domain\": {\"x\": [0.0, 1.0], \"y\": [0.0, 1.0]}, \"line\": {\"color\": [2258.702831998355, 1465.9685863874345, 1416.666666666667, 1290.472106646641, 1267.7662026328826, 1207.997484708169, 1196.645436923929, 1132.8373605554546, 1119.8388773148026, 1100.7911936704506, 1059.0656015492618, 1045.2015459222662, 1037.0997886617895, 1026.7911075237503, 1024.3398771365157, 996.9902204858653, 996.3893635634033, 986.8421052631579, 970.08547008547, 963.5226061641273, 956.1841219171133, 945.5665024630542, 924.5691159025888, 918.2882682038704, 910.1876901656897, 903.0497705987848, 890.9095931764135, 888.1821435177138, 879.0170132325142, 851.4014053492668, 824.6586936349588, 821.3009904764873, 800.0388650775142, 799.4956512788842, 793.2619915605263, 790.1803690820187, 777.0083145338547, 773.4061347806703, 772.7128362001238, 762.5272331154684, 756.1923725098497, 753.0114133184368, 751.1737089201877, 747.3335378171588, 742.9797231632554, 732.7206841423807, 728.9797158498743, 718.7768297452345, 717.0825412171872, 716.3765095625198, 715.5864380979738, 714.2220737504065, 708.1930316849231, 707.6516094320912, 707.4028088888208, 704.5664189758045, 703.0815676877947, 694.4181461347432, 694.358566653677, 691.8654114838455, 689.5233123659036, 687.7829633004552, 680.6087291389301, 677.8382318281795, 661.0644257703083, 655.1980415945777, 654.801499892284, 653.3116166908643, 652.2879690318528, 650.963515967709, 647.7704471840341, 647.6496334575522, 644.8183066758803, 642.838478220973, 642.2195925518147, 639.1464438694404, 636.4307703489127, 631.6456863280099, 631.1954258724091, 630.8973025513741, 630.3115352378672, 620.4414065565543, 616.5723883169862, 615.0639297056517, 613.8430658201435, 612.1061563311456, 610.7666631577348, 608.694967227678, 605.3433249358948, 603.4509968798565, 602.1158769435002, 598.704795328917, 598.6205414959003, 597.200528047448, 591.4020223180053, 590.7928388746802, 588.0747967826295, 586.2182148097696, 584.0737147409254, 583.8486362312665, 581.3708750724594, 576.4579094375945, 574.2740565313097, 571.7557085689908, 571.5799833446893, 569.3799679261333, 569.1934475267735, 568.6511487607912, 567.3400104586143, 566.7011760342162, 564.6874764662283, 562.9112337982453, 558.2711194060469, 553.5627522522698, 552.6025671312701, 551.8011188234774, 551.6956218496264, 549.4179312485746, 548.0466890413603, 545.9801982412763, 544.6002639104154, 544.5469286452765, 542.5316819894505, 538.204698577284, 536.5571018753241, 534.2262501283425, 533.6884470076521, 531.8350322320708, 531.1363737279744, 529.847319131393, 528.7265413888829, 524.8134180834782, 524.7935090952678, 524.6293121403909, 520.7181675305429, 518.1126504655916, 517.1734931165627, 515.9210732061051, 512.8402484358223, 512.6307219919141, 510.5769072143791, 509.0214800287398, 506.95217450146765, 506.22752218971993, 505.83481143735054, 503.89926133005366, 503.13850456030497, 496.55100121228986, 496.51601414694983, 493.814917282618, 493.61555763336935, 493.45560489574007, 491.8140030500954, 491.5892613631572, 491.45000385678617, 490.36358286726374, 489.80537777998506, 485.8868855757771, 484.44355217067766, 483.4057725178001, 483.16880334240136, 481.46924427394237, 479.9237488133093, 478.4956365730093, 478.44335175268515, 475.39318681250677, 473.1638149617127, 471.9217320911283, 470.85352986706454, 466.6478402167172, 466.6178976523653, 466.02648785310464, 465.80212163177373, 465.68627450980387, 464.1758436880091, 463.8098989043553, 458.7213317825408, 458.0042993401075, 457.41388429762526, 456.9308221979013, 456.2419957897522, 455.2180887853926, 453.7716045219721, 453.4330812935196, 453.3793770708969, 453.34049829869934, 452.66002242984047, 448.86919667679206, 448.3201042149405, 446.23924529045684, 445.9238282688497, 445.21509554245245, 445.1967876448791, 442.24265696115737, 439.7498835483721, 438.86054508174806, 438.4677874196749, 437.16429949197664, 435.9007753824155, 435.5456667813491, 434.63234651328025, 434.25500394602585, 432.9627229749631, 432.19529211245555, 431.94460202359033, 430.9396363161629, 429.4883174233179, 428.9237926791115, 428.7265326799175, 428.0219127043747, 427.16626614177557, 426.7863811847511, 426.6849522707296, 426.60859207171325, 425.64225533080946, 423.95272693478194, 421.1412447061912, 420.822184596571, 419.88781187646566, 418.83037933269526, 418.1724927089675, 417.33537892280015, 415.0903401095623, 414.67606477603755, 414.43569251368126, 414.35585647200105, 414.16272789686775, 413.16280403427527, 413.05871935195154, 409.9438351783924, 407.5533215595707, 403.31113221139015, 403.1183126490986, 401.9350222176535, 401.7499665916537, 401.2959764896399, 398.4588759923028, 397.9391288956355, 396.171112391617, 393.71733534550384, 392.35345097326814, 392.30076417058257, 391.42644972996203, 390.81846895621413, 390.5956530284181, 390.3838567783597, 388.6443367815385, 387.79414379681333, 387.392839476922, 384.23680203579306, 383.15039609809617, 382.3522610640586, 381.13844514705266, 380.5214843069476, 379.92536172660726, 378.2738784387478, 377.51801557551835, 376.08359802951554, 374.05763601016855, 373.97868706755236, 373.4668636470579, 372.24198616911974, 371.9242451684328, 371.0302152741686, 369.35933800413665, 368.31155203937294, 368.26656078838516, 366.9954275112727, 364.92833570851764, 364.62465302417013, 362.34822391312133, 361.45469198221224, 360.03727240448274, 358.30523872237734, 357.8946922463997, 356.7948135908725, 356.7090091359044, 354.66555789282774, 351.0432256921308, 348.92970004124925, 347.3949194037114, 346.96116001560216, 345.95804038831767, 344.4909139677922, 343.0542609770136, 340.98183523166995, 340.6425969783877, 338.63301173022234, 338.60116351046344, 338.12619999607017, 337.91413464365013, 336.8259501844992, 334.4878725198492, 333.12677384193887, 332.40781536886453, 331.55599614560697, 330.7364310191893, 330.10889435237306, 328.31900668576884, 326.01715041025074, 325.82892041816064, 325.79541506433713, 322.0822144332409, 320.9599230279341, 320.79691049204627, 320.0743330547439, 319.0276225530687, 317.2219194303952, 313.33845823084727, 312.83398436239065, 307.78311439850694, 307.67747674427835, 306.3779578647354, 304.89964760284107, 303.5441997161898, 302.96737702840636, 302.60448945564127, 302.2218727063018, 302.15611319728896, 302.12325280969134, 301.61864706270705, 300.1873092016618, 297.2455578459466, 295.77937822922695, 293.4042461148187, 293.2983722057751, 291.18294547229095, 290.9210327099608, 289.749665708438, 289.60560009472283, 288.0785187599688, 286.3519820673892, 285.82235848868265, 285.0095060630079, 284.56696642681646, 283.17495073168755, 282.11967050133603, 282.02546830016496, 281.312904357283, 280.73063309393075, 279.0301399218751, 275.76972957461044, 275.05668560990915, 274.4579436322337, 274.33846004864847, 274.16674158669116, 272.5273101795261, 272.28497956385485, 271.09013956932756, 269.109528813633, 267.9325826799483, 265.92982650327014, 262.87602564056425, 261.6638003416518, 259.54716259308043, 257.98799863500693, 254.95866163273848, 254.47377914469143, 241.94565649181578, 241.80455206485138, 238.35002040677708, 235.99759251727426, 234.28162351035442, 227.41898086494461, 223.11583290346024, 222.567848047696, 221.881138746669, 220.11108719171108, 217.55878684527906, 217.0890689540353, 215.56913431487555, 211.30136986006568, 209.0493266346945, 208.1679967483858, 199.70200378219917, 198.01587292452027, 192.16524813774402, 183.09931693145703, 175.06606919629078, 172.54056243085552, 171.7723466866044, 170.62491987132685, 170.2925485152069, 170.09866536400102, 165.79806239165433, 165.6457300650791, 162.82121004772353, 145.85338027594094, 142.14256751724554, 108.0129268765048, 88.40151094606408, 40.7726253518439, null, null, null, null, null], \"coloraxis\": \"coloraxis\"}, \"name\": \"\", \"type\": \"parcats\"}],                        {\"coloraxis\": {\"colorbar\": {\"title\": {\"text\": \"Sales Price per sqf\"}}, \"colorscale\": [[0.0, \"#000004\"], [0.1111111111111111, \"#1b0c41\"], [0.2222222222222222, \"#4a0c6b\"], [0.3333333333333333, \"#781c6d\"], [0.4444444444444444, \"#a52c60\"], [0.5555555555555556, \"#cf4446\"], [0.6666666666666666, \"#ed6925\"], [0.7777777777777778, \"#fb9b06\"], [0.8888888888888888, \"#f7d13d\"], [1.0, \"#fcffa4\"]]}, \"legend\": {\"tracegroupgap\": 0}, \"template\": {\"data\": {\"bar\": [{\"error_x\": {\"color\": \"#2a3f5f\"}, \"error_y\": {\"color\": \"#2a3f5f\"}, \"marker\": {\"line\": {\"color\": \"#E5ECF6\", \"width\": 0.5}}, \"type\": \"bar\"}], \"barpolar\": [{\"marker\": {\"line\": {\"color\": \"#E5ECF6\", \"width\": 0.5}}, \"type\": \"barpolar\"}], \"carpet\": [{\"aaxis\": {\"endlinecolor\": \"#2a3f5f\", \"gridcolor\": \"white\", \"linecolor\": \"white\", \"minorgridcolor\": \"white\", \"startlinecolor\": \"#2a3f5f\"}, \"baxis\": {\"endlinecolor\": \"#2a3f5f\", \"gridcolor\": \"white\", \"linecolor\": \"white\", \"minorgridcolor\": \"white\", \"startlinecolor\": \"#2a3f5f\"}, \"type\": \"carpet\"}], \"choropleth\": [{\"colorbar\": {\"outlinewidth\": 0, \"ticks\": \"\"}, \"type\": \"choropleth\"}], \"contour\": [{\"colorbar\": {\"outlinewidth\": 0, \"ticks\": \"\"}, \"colorscale\": [[0.0, \"#0d0887\"], [0.1111111111111111, \"#46039f\"], [0.2222222222222222, \"#7201a8\"], [0.3333333333333333, \"#9c179e\"], [0.4444444444444444, \"#bd3786\"], [0.5555555555555556, \"#d8576b\"], [0.6666666666666666, \"#ed7953\"], [0.7777777777777778, \"#fb9f3a\"], [0.8888888888888888, \"#fdca26\"], [1.0, \"#f0f921\"]], \"type\": \"contour\"}], \"contourcarpet\": [{\"colorbar\": {\"outlinewidth\": 0, \"ticks\": \"\"}, \"type\": \"contourcarpet\"}], \"heatmap\": [{\"colorbar\": {\"outlinewidth\": 0, \"ticks\": \"\"}, \"colorscale\": [[0.0, \"#0d0887\"], [0.1111111111111111, \"#46039f\"], [0.2222222222222222, \"#7201a8\"], [0.3333333333333333, \"#9c179e\"], [0.4444444444444444, \"#bd3786\"], [0.5555555555555556, \"#d8576b\"], [0.6666666666666666, \"#ed7953\"], [0.7777777777777778, \"#fb9f3a\"], [0.8888888888888888, \"#fdca26\"], [1.0, \"#f0f921\"]], \"type\": \"heatmap\"}], \"heatmapgl\": [{\"colorbar\": {\"outlinewidth\": 0, \"ticks\": \"\"}, \"colorscale\": [[0.0, \"#0d0887\"], [0.1111111111111111, \"#46039f\"], [0.2222222222222222, \"#7201a8\"], [0.3333333333333333, \"#9c179e\"], [0.4444444444444444, \"#bd3786\"], [0.5555555555555556, \"#d8576b\"], [0.6666666666666666, \"#ed7953\"], [0.7777777777777778, \"#fb9f3a\"], [0.8888888888888888, \"#fdca26\"], [1.0, \"#f0f921\"]], \"type\": \"heatmapgl\"}], \"histogram\": [{\"marker\": {\"colorbar\": {\"outlinewidth\": 0, \"ticks\": \"\"}}, \"type\": \"histogram\"}], \"histogram2d\": [{\"colorbar\": {\"outlinewidth\": 0, \"ticks\": \"\"}, \"colorscale\": [[0.0, \"#0d0887\"], [0.1111111111111111, \"#46039f\"], [0.2222222222222222, \"#7201a8\"], [0.3333333333333333, \"#9c179e\"], [0.4444444444444444, \"#bd3786\"], [0.5555555555555556, \"#d8576b\"], [0.6666666666666666, \"#ed7953\"], [0.7777777777777778, \"#fb9f3a\"], [0.8888888888888888, \"#fdca26\"], [1.0, \"#f0f921\"]], \"type\": \"histogram2d\"}], \"histogram2dcontour\": [{\"colorbar\": {\"outlinewidth\": 0, \"ticks\": \"\"}, \"colorscale\": [[0.0, \"#0d0887\"], [0.1111111111111111, \"#46039f\"], [0.2222222222222222, \"#7201a8\"], [0.3333333333333333, \"#9c179e\"], [0.4444444444444444, \"#bd3786\"], [0.5555555555555556, \"#d8576b\"], [0.6666666666666666, \"#ed7953\"], [0.7777777777777778, \"#fb9f3a\"], [0.8888888888888888, \"#fdca26\"], [1.0, \"#f0f921\"]], \"type\": \"histogram2dcontour\"}], \"mesh3d\": [{\"colorbar\": {\"outlinewidth\": 0, \"ticks\": \"\"}, \"type\": \"mesh3d\"}], \"parcoords\": [{\"line\": {\"colorbar\": {\"outlinewidth\": 0, \"ticks\": \"\"}}, \"type\": \"parcoords\"}], \"pie\": [{\"automargin\": true, \"type\": \"pie\"}], \"scatter\": [{\"marker\": {\"colorbar\": {\"outlinewidth\": 0, \"ticks\": \"\"}}, \"type\": \"scatter\"}], \"scatter3d\": [{\"line\": {\"colorbar\": {\"outlinewidth\": 0, \"ticks\": \"\"}}, \"marker\": {\"colorbar\": {\"outlinewidth\": 0, \"ticks\": \"\"}}, \"type\": \"scatter3d\"}], \"scattercarpet\": [{\"marker\": {\"colorbar\": {\"outlinewidth\": 0, \"ticks\": \"\"}}, \"type\": \"scattercarpet\"}], \"scattergeo\": [{\"marker\": {\"colorbar\": {\"outlinewidth\": 0, \"ticks\": \"\"}}, \"type\": \"scattergeo\"}], \"scattergl\": [{\"marker\": {\"colorbar\": {\"outlinewidth\": 0, \"ticks\": \"\"}}, \"type\": \"scattergl\"}], \"scattermapbox\": [{\"marker\": {\"colorbar\": {\"outlinewidth\": 0, \"ticks\": \"\"}}, \"type\": \"scattermapbox\"}], \"scatterpolar\": [{\"marker\": {\"colorbar\": {\"outlinewidth\": 0, \"ticks\": \"\"}}, \"type\": \"scatterpolar\"}], \"scatterpolargl\": [{\"marker\": {\"colorbar\": {\"outlinewidth\": 0, \"ticks\": \"\"}}, \"type\": \"scatterpolargl\"}], \"scatterternary\": [{\"marker\": {\"colorbar\": {\"outlinewidth\": 0, \"ticks\": \"\"}}, \"type\": \"scatterternary\"}], \"surface\": [{\"colorbar\": {\"outlinewidth\": 0, \"ticks\": \"\"}, \"colorscale\": [[0.0, \"#0d0887\"], [0.1111111111111111, \"#46039f\"], [0.2222222222222222, \"#7201a8\"], [0.3333333333333333, \"#9c179e\"], [0.4444444444444444, \"#bd3786\"], [0.5555555555555556, \"#d8576b\"], [0.6666666666666666, \"#ed7953\"], [0.7777777777777778, \"#fb9f3a\"], [0.8888888888888888, \"#fdca26\"], [1.0, \"#f0f921\"]], \"type\": \"surface\"}], \"table\": [{\"cells\": {\"fill\": {\"color\": \"#EBF0F8\"}, \"line\": {\"color\": \"white\"}}, \"header\": {\"fill\": {\"color\": \"#C8D4E3\"}, \"line\": {\"color\": \"white\"}}, \"type\": \"table\"}]}, \"layout\": {\"annotationdefaults\": {\"arrowcolor\": \"#2a3f5f\", \"arrowhead\": 0, \"arrowwidth\": 1}, \"coloraxis\": {\"colorbar\": {\"outlinewidth\": 0, \"ticks\": \"\"}}, \"colorscale\": {\"diverging\": [[0, \"#8e0152\"], [0.1, \"#c51b7d\"], [0.2, \"#de77ae\"], [0.3, \"#f1b6da\"], [0.4, \"#fde0ef\"], [0.5, \"#f7f7f7\"], [0.6, \"#e6f5d0\"], [0.7, \"#b8e186\"], [0.8, \"#7fbc41\"], [0.9, \"#4d9221\"], [1, \"#276419\"]], \"sequential\": [[0.0, \"#0d0887\"], [0.1111111111111111, \"#46039f\"], [0.2222222222222222, \"#7201a8\"], [0.3333333333333333, \"#9c179e\"], [0.4444444444444444, \"#bd3786\"], [0.5555555555555556, \"#d8576b\"], [0.6666666666666666, \"#ed7953\"], [0.7777777777777778, \"#fb9f3a\"], [0.8888888888888888, \"#fdca26\"], [1.0, \"#f0f921\"]], \"sequentialminus\": [[0.0, \"#0d0887\"], [0.1111111111111111, \"#46039f\"], [0.2222222222222222, \"#7201a8\"], [0.3333333333333333, \"#9c179e\"], [0.4444444444444444, \"#bd3786\"], [0.5555555555555556, \"#d8576b\"], [0.6666666666666666, \"#ed7953\"], [0.7777777777777778, \"#fb9f3a\"], [0.8888888888888888, \"#fdca26\"], [1.0, \"#f0f921\"]]}, \"colorway\": [\"#636efa\", \"#EF553B\", \"#00cc96\", \"#ab63fa\", \"#FFA15A\", \"#19d3f3\", \"#FF6692\", \"#B6E880\", \"#FF97FF\", \"#FECB52\"], \"font\": {\"color\": \"#2a3f5f\"}, \"geo\": {\"bgcolor\": \"white\", \"lakecolor\": \"white\", \"landcolor\": \"#E5ECF6\", \"showlakes\": true, \"showland\": true, \"subunitcolor\": \"white\"}, \"hoverlabel\": {\"align\": \"left\"}, \"hovermode\": \"closest\", \"mapbox\": {\"style\": \"light\"}, \"paper_bgcolor\": \"white\", \"plot_bgcolor\": \"#E5ECF6\", \"polar\": {\"angularaxis\": {\"gridcolor\": \"white\", \"linecolor\": \"white\", \"ticks\": \"\"}, \"bgcolor\": \"#E5ECF6\", \"radialaxis\": {\"gridcolor\": \"white\", \"linecolor\": \"white\", \"ticks\": \"\"}}, \"scene\": {\"xaxis\": {\"backgroundcolor\": \"#E5ECF6\", \"gridcolor\": \"white\", \"gridwidth\": 2, \"linecolor\": \"white\", \"showbackground\": true, \"ticks\": \"\", \"zerolinecolor\": \"white\"}, \"yaxis\": {\"backgroundcolor\": \"#E5ECF6\", \"gridcolor\": \"white\", \"gridwidth\": 2, \"linecolor\": \"white\", \"showbackground\": true, \"ticks\": \"\", \"zerolinecolor\": \"white\"}, \"zaxis\": {\"backgroundcolor\": \"#E5ECF6\", \"gridcolor\": \"white\", \"gridwidth\": 2, \"linecolor\": \"white\", \"showbackground\": true, \"ticks\": \"\", \"zerolinecolor\": \"white\"}}, \"shapedefaults\": {\"line\": {\"color\": \"#2a3f5f\"}}, \"ternary\": {\"aaxis\": {\"gridcolor\": \"white\", \"linecolor\": \"white\", \"ticks\": \"\"}, \"baxis\": {\"gridcolor\": \"white\", \"linecolor\": \"white\", \"ticks\": \"\"}, \"bgcolor\": \"#E5ECF6\", \"caxis\": {\"gridcolor\": \"white\", \"linecolor\": \"white\", \"ticks\": \"\"}}, \"title\": {\"x\": 0.05}, \"xaxis\": {\"automargin\": true, \"gridcolor\": \"white\", \"linecolor\": \"white\", \"ticks\": \"\", \"title\": {\"standoff\": 15}, \"zerolinecolor\": \"white\", \"zerolinewidth\": 2}, \"yaxis\": {\"automargin\": true, \"gridcolor\": \"white\", \"linecolor\": \"white\", \"ticks\": \"\", \"title\": {\"standoff\": 15}, \"zerolinecolor\": \"white\", \"zerolinewidth\": 2}}}, \"title\": {\"text\": \"Average values per neighborhood\"}},                        {\"responsive\": true}                    ).then(function(){\n",
       "                            \n",
       "var gd = document.getElementById('1c9a7778-a275-4014-b01e-322c0a90263b');\n",
       "var x = new MutationObserver(function (mutations, observer) {{\n",
       "        var display = window.getComputedStyle(gd).display;\n",
       "        if (!display || display === 'none') {{\n",
       "            console.log([gd, 'removed!']);\n",
       "            Plotly.purge(gd);\n",
       "            observer.disconnect();\n",
       "        }}\n",
       "}});\n",
       "\n",
       "// Listen for the removal of the full notebook cells\n",
       "var notebookContainer = gd.closest('#notebook-container');\n",
       "if (notebookContainer) {{\n",
       "    x.observe(notebookContainer, {childList: true});\n",
       "}}\n",
       "\n",
       "// Listen for the clearing of the current output cell\n",
       "var outputEl = gd.closest('.output');\n",
       "if (outputEl) {{\n",
       "    x.observe(outputEl, {childList: true});\n",
       "}}\n",
       "\n",
       "                        })                };                });            </script>        </div>"
      ]
     },
     "metadata": {},
     "output_type": "display_data"
    }
   ],
   "source": [
    "# Parallel Categories Plot\n",
    "px.parallel_categories(\n",
    "    top_10_most_expensive,    \n",
    "    title='Average values per neighborhood',\n",
    "    labels={'neighborhood': \"Neighborhood\", \n",
    "            'sale_price_sqr_foot':'Sales Price per sqf',\n",
    "           'housing_units':'Housing Units',\n",
    "           'gross_rent':'Gross Rent'},\n",
    "    color=\"sale_price_sqr_foot\",\n",
    "    color_continuous_scale=px.colors.sequential.Inferno,\n",
    "    \n",
    ")"
   ]
  },
  {
   "cell_type": "markdown",
   "metadata": {},
   "source": [
    "- - - "
   ]
  },
  {
   "cell_type": "markdown",
   "metadata": {},
   "source": [
    "## Neighborhood Map\n",
    "\n",
    "In this section, you will read in neighboor location data and build an interactive map with the average prices per neighborhood. Use a scatter_mapbox from plotly express to create the visualization. Remember, you will need your mapbox api key for this."
   ]
  },
  {
   "cell_type": "markdown",
   "metadata": {},
   "source": [
    "### Load Location Data"
   ]
  },
  {
   "cell_type": "code",
   "execution_count": 86,
   "metadata": {},
   "outputs": [
    {
     "data": {
      "text/html": [
       "<div>\n",
       "<style scoped>\n",
       "    .dataframe tbody tr th:only-of-type {\n",
       "        vertical-align: middle;\n",
       "    }\n",
       "\n",
       "    .dataframe tbody tr th {\n",
       "        vertical-align: top;\n",
       "    }\n",
       "\n",
       "    .dataframe thead th {\n",
       "        text-align: right;\n",
       "    }\n",
       "</style>\n",
       "<table border=\"1\" class=\"dataframe\">\n",
       "  <thead>\n",
       "    <tr style=\"text-align: right;\">\n",
       "      <th></th>\n",
       "      <th>Neighborhood</th>\n",
       "      <th>Lat</th>\n",
       "      <th>Lon</th>\n",
       "    </tr>\n",
       "  </thead>\n",
       "  <tbody>\n",
       "    <tr>\n",
       "      <th>0</th>\n",
       "      <td>Alamo Square</td>\n",
       "      <td>37.791012</td>\n",
       "      <td>-122.402100</td>\n",
       "    </tr>\n",
       "    <tr>\n",
       "      <th>1</th>\n",
       "      <td>Anza Vista</td>\n",
       "      <td>37.779598</td>\n",
       "      <td>-122.443451</td>\n",
       "    </tr>\n",
       "    <tr>\n",
       "      <th>2</th>\n",
       "      <td>Bayview</td>\n",
       "      <td>37.734670</td>\n",
       "      <td>-122.401060</td>\n",
       "    </tr>\n",
       "    <tr>\n",
       "      <th>3</th>\n",
       "      <td>Bayview Heights</td>\n",
       "      <td>37.728740</td>\n",
       "      <td>-122.410980</td>\n",
       "    </tr>\n",
       "    <tr>\n",
       "      <th>4</th>\n",
       "      <td>Bernal Heights</td>\n",
       "      <td>37.728630</td>\n",
       "      <td>-122.443050</td>\n",
       "    </tr>\n",
       "  </tbody>\n",
       "</table>\n",
       "</div>"
      ],
      "text/plain": [
       "      Neighborhood        Lat         Lon\n",
       "0     Alamo Square  37.791012 -122.402100\n",
       "1       Anza Vista  37.779598 -122.443451\n",
       "2          Bayview  37.734670 -122.401060\n",
       "3  Bayview Heights  37.728740 -122.410980\n",
       "4   Bernal Heights  37.728630 -122.443050"
      ]
     },
     "execution_count": 86,
     "metadata": {},
     "output_type": "execute_result"
    }
   ],
   "source": [
    "# Load neighborhoods coordinates data\n",
    "file_path = Path(\"Data/neighborhoods_coordinates.csv\")\n",
    "df_neighborhood_locations = pd.read_csv(file_path)\n",
    "df_neighborhood_locations.head()"
   ]
  },
  {
   "cell_type": "markdown",
   "metadata": {},
   "source": [
    "### Data Preparation\n",
    "\n",
    "You will need to join the location data with the mean prices per neighborhood\n",
    "\n",
    "1. Calculate the mean values for each neighborhood\n",
    "2. Join the average values with the neighborhood locations"
   ]
  },
  {
   "cell_type": "code",
   "execution_count": 87,
   "metadata": {},
   "outputs": [
    {
     "data": {
      "text/html": [
       "<div>\n",
       "<style scoped>\n",
       "    .dataframe tbody tr th:only-of-type {\n",
       "        vertical-align: middle;\n",
       "    }\n",
       "\n",
       "    .dataframe tbody tr th {\n",
       "        vertical-align: top;\n",
       "    }\n",
       "\n",
       "    .dataframe thead th {\n",
       "        text-align: right;\n",
       "    }\n",
       "</style>\n",
       "<table border=\"1\" class=\"dataframe\">\n",
       "  <thead>\n",
       "    <tr style=\"text-align: right;\">\n",
       "      <th></th>\n",
       "      <th>neighborhood</th>\n",
       "      <th>sale_price_sqr_foot</th>\n",
       "      <th>housing_units</th>\n",
       "      <th>gross_rent</th>\n",
       "    </tr>\n",
       "  </thead>\n",
       "  <tbody>\n",
       "    <tr>\n",
       "      <th>0</th>\n",
       "      <td>Union Square District</td>\n",
       "      <td>903.993258</td>\n",
       "      <td>377427.50</td>\n",
       "      <td>2555.166667</td>\n",
       "    </tr>\n",
       "    <tr>\n",
       "      <th>1</th>\n",
       "      <td>Merced Heights</td>\n",
       "      <td>788.844818</td>\n",
       "      <td>380348.00</td>\n",
       "      <td>3414.000000</td>\n",
       "    </tr>\n",
       "    <tr>\n",
       "      <th>2</th>\n",
       "      <td>Miraloma Park</td>\n",
       "      <td>779.810842</td>\n",
       "      <td>375967.25</td>\n",
       "      <td>2155.250000</td>\n",
       "    </tr>\n",
       "    <tr>\n",
       "      <th>3</th>\n",
       "      <td>Pacific Heights</td>\n",
       "      <td>689.555817</td>\n",
       "      <td>378401.00</td>\n",
       "      <td>2817.285714</td>\n",
       "    </tr>\n",
       "    <tr>\n",
       "      <th>4</th>\n",
       "      <td>Westwood Park</td>\n",
       "      <td>687.087575</td>\n",
       "      <td>382295.00</td>\n",
       "      <td>3959.000000</td>\n",
       "    </tr>\n",
       "  </tbody>\n",
       "</table>\n",
       "</div>"
      ],
      "text/plain": [
       "            neighborhood  sale_price_sqr_foot  housing_units   gross_rent\n",
       "0  Union Square District           903.993258      377427.50  2555.166667\n",
       "1         Merced Heights           788.844818      380348.00  3414.000000\n",
       "2          Miraloma Park           779.810842      375967.25  2155.250000\n",
       "3        Pacific Heights           689.555817      378401.00  2817.285714\n",
       "4          Westwood Park           687.087575      382295.00  3959.000000"
      ]
     },
     "execution_count": 87,
     "metadata": {},
     "output_type": "execute_result"
    }
   ],
   "source": [
    "# Calculate the mean values for each neighborhood\n",
    "\n",
    "sfo_neighborhoods = sfo_data.groupby(by=\"neighborhood\").mean()\n",
    "sfo_neighborhoods = sfo_neighborhoods.sort_values(by=\"sale_price_sqr_foot\", ascending=False).reset_index()\n",
    "sfo_neighborhoods.head()"
   ]
  },
  {
   "cell_type": "code",
   "execution_count": 88,
   "metadata": {},
   "outputs": [
    {
     "data": {
      "text/html": [
       "<div>\n",
       "<style scoped>\n",
       "    .dataframe tbody tr th:only-of-type {\n",
       "        vertical-align: middle;\n",
       "    }\n",
       "\n",
       "    .dataframe tbody tr th {\n",
       "        vertical-align: top;\n",
       "    }\n",
       "\n",
       "    .dataframe thead th {\n",
       "        text-align: right;\n",
       "    }\n",
       "</style>\n",
       "<table border=\"1\" class=\"dataframe\">\n",
       "  <thead>\n",
       "    <tr style=\"text-align: right;\">\n",
       "      <th></th>\n",
       "      <th>Neighborhood</th>\n",
       "      <th>Lat</th>\n",
       "      <th>Lon</th>\n",
       "      <th>sale_price_sqr_foot</th>\n",
       "      <th>housing_units</th>\n",
       "      <th>gross_rent</th>\n",
       "    </tr>\n",
       "  </thead>\n",
       "  <tbody>\n",
       "    <tr>\n",
       "      <th>0</th>\n",
       "      <td>Alamo Square</td>\n",
       "      <td>37.791012</td>\n",
       "      <td>-122.402100</td>\n",
       "      <td>903.993258</td>\n",
       "      <td>377427.50</td>\n",
       "      <td>2555.166667</td>\n",
       "    </tr>\n",
       "    <tr>\n",
       "      <th>1</th>\n",
       "      <td>Anza Vista</td>\n",
       "      <td>37.779598</td>\n",
       "      <td>-122.443451</td>\n",
       "      <td>788.844818</td>\n",
       "      <td>380348.00</td>\n",
       "      <td>3414.000000</td>\n",
       "    </tr>\n",
       "    <tr>\n",
       "      <th>2</th>\n",
       "      <td>Bayview</td>\n",
       "      <td>37.734670</td>\n",
       "      <td>-122.401060</td>\n",
       "      <td>779.810842</td>\n",
       "      <td>375967.25</td>\n",
       "      <td>2155.250000</td>\n",
       "    </tr>\n",
       "    <tr>\n",
       "      <th>3</th>\n",
       "      <td>Bayview Heights</td>\n",
       "      <td>37.728740</td>\n",
       "      <td>-122.410980</td>\n",
       "      <td>689.555817</td>\n",
       "      <td>378401.00</td>\n",
       "      <td>2817.285714</td>\n",
       "    </tr>\n",
       "    <tr>\n",
       "      <th>4</th>\n",
       "      <td>Bernal Heights</td>\n",
       "      <td>37.728630</td>\n",
       "      <td>-122.443050</td>\n",
       "      <td>687.087575</td>\n",
       "      <td>382295.00</td>\n",
       "      <td>3959.000000</td>\n",
       "    </tr>\n",
       "  </tbody>\n",
       "</table>\n",
       "</div>"
      ],
      "text/plain": [
       "      Neighborhood        Lat         Lon  sale_price_sqr_foot  housing_units  \\\n",
       "0     Alamo Square  37.791012 -122.402100           903.993258      377427.50   \n",
       "1       Anza Vista  37.779598 -122.443451           788.844818      380348.00   \n",
       "2          Bayview  37.734670 -122.401060           779.810842      375967.25   \n",
       "3  Bayview Heights  37.728740 -122.410980           689.555817      378401.00   \n",
       "4   Bernal Heights  37.728630 -122.443050           687.087575      382295.00   \n",
       "\n",
       "    gross_rent  \n",
       "0  2555.166667  \n",
       "1  3414.000000  \n",
       "2  2155.250000  \n",
       "3  2817.285714  \n",
       "4  3959.000000  "
      ]
     },
     "execution_count": 88,
     "metadata": {},
     "output_type": "execute_result"
    }
   ],
   "source": [
    "# Join the average values with the neighborhood locations\n",
    "\n",
    "sfo_all_neighborhoods=pd.concat([df_neighborhood_locations,\n",
    "                                sfo_neighborhoods['sale_price_sqr_foot'],\n",
    "                                sfo_neighborhoods['housing_units'],\n",
    "                                sfo_neighborhoods['gross_rent']\n",
    "                               ], axis=1).dropna()\n",
    "sfo_all_neighborhoods.head()\n"
   ]
  },
  {
   "cell_type": "markdown",
   "metadata": {},
   "source": [
    "### Mapbox Visualization\n",
    "\n",
    "Plot the aveage values per neighborhood with a plotly express scatter_mapbox visualization."
   ]
  },
  {
   "cell_type": "code",
   "execution_count": 89,
   "metadata": {},
   "outputs": [
    {
     "data": {
      "application/vnd.plotly.v1+json": {
       "config": {
        "plotlyServerURL": "https://plot.ly"
       },
       "data": [
        {
         "hovertemplate": "<b>%{hovertext}</b><br><br>sale_price_sqr_foot=%{marker.size}<br>Lat=%{lat}<br>Lon=%{lon}<br>gross_rent=%{marker.color}<extra></extra>",
         "hovertext": [
          "Alamo Square",
          "Anza Vista",
          "Bayview",
          "Bayview Heights",
          "Bernal Heights",
          "Buena Vista Park",
          "Central Richmond",
          "Central Sunset",
          "Clarendon Heights",
          "Corona Heights",
          "Cow Hollow",
          "Croker Amazon",
          "Diamond Heights",
          "Downtown",
          "Duboce Triangle",
          "Eureka Valley/Dolores Heights",
          "Excelsior",
          "Financial District North",
          "Financial District South",
          "Forest Knolls",
          "Glen Park",
          "Golden Gate Heights",
          "Haight Ashbury",
          "Hayes Valley",
          "Hunters Point",
          "Ingleside",
          "Ingleside Heights",
          "Inner Mission",
          "Inner Parkside",
          "Inner Richmond",
          "Inner Sunset",
          "Jordan Park/Laurel Heights",
          "Lake --The Presidio",
          "Lone Mountain",
          "Lower Pacific Heights",
          "Marina",
          "Merced Heights",
          "Midtown Terrace",
          "Miraloma Park",
          "Mission Bay",
          "Mission Dolores",
          "Mission Terrace",
          "Nob Hill",
          "Noe Valley",
          "North Beach",
          "North Waterfront",
          "Oceanview",
          "Outer Mission",
          "Outer Parkside",
          "Outer Richmond",
          "Outer Sunset",
          "Pacific Heights",
          "Park North",
          "Parkside",
          "Parnassus/Ashbury Heights",
          "Portola",
          "Potrero Hill",
          "Presidio Heights",
          "Russian Hill",
          "Silver Terrace",
          "South Beach",
          "South of Market",
          "Sunnyside",
          "Telegraph Hill",
          "Twin Peaks",
          "Union Square District",
          "Van Ness/ Civic Center",
          "Visitacion Valley",
          "West Portal",
          "Western Addition",
          "Westwood Highlands",
          "Westwood Park",
          "Yerba Buena"
         ],
         "lat": [
          37.791012,
          37.779598,
          37.73467,
          37.72874,
          37.728629999999995,
          37.768159999999995,
          37.77789,
          37.74961,
          37.75331,
          37.78553,
          37.79298,
          37.7228,
          37.728629999999995,
          37.79101,
          37.76964,
          37.75554,
          37.72874,
          37.79101,
          37.79101,
          37.757059999999996,
          37.728629999999995,
          37.757912,
          37.76525,
          37.76525,
          37.72551,
          37.721160999999995,
          37.72116,
          37.75416,
          37.74961,
          37.769112,
          37.74961,
          37.78553,
          37.801520000000004,
          37.7789,
          37.79298,
          37.79972,
          37.71993,
          37.75331,
          37.73415,
          37.783229999999996,
          37.75184,
          37.728629999999995,
          37.79298,
          37.75331,
          37.80055,
          37.80055,
          37.71993,
          37.7228,
          37.7517,
          37.76911,
          37.74961,
          37.79298,
          37.72838,
          37.74961,
          37.76355,
          37.73467,
          37.73196,
          37.78553,
          37.79298,
          37.73467,
          37.783229999999996,
          37.79101,
          37.73415,
          37.80055,
          37.753311,
          37.79101,
          37.779509999999995,
          37.72874,
          37.74026,
          37.79298,
          37.7347,
          37.73415,
          37.79298
         ],
         "legendgroup": "",
         "lon": [
          -122.4021,
          -122.443451,
          -122.40106000000002,
          -122.41098000000001,
          -122.44305,
          -122.43933,
          -122.44516999999999,
          -122.48998999999999,
          -122.44703,
          -122.456,
          -122.43579,
          -122.43869,
          -122.44305,
          -122.4021,
          -122.42611000000001,
          -122.43778999999999,
          -122.41098000000001,
          -122.4021,
          -122.4021,
          -122.45508999999998,
          -122.44305,
          -122.46401999999999,
          -122.43596000000001,
          -122.43596000000001,
          -122.37178,
          -122.487068,
          -122.48706999999999,
          -122.41946999999999,
          -122.48998999999999,
          -122.483566,
          -122.48997,
          -122.456,
          -122.45456999999999,
          -122.45496000000001,
          -122.43579,
          -122.46688999999999,
          -122.46595,
          -122.44703,
          -122.45700000000001,
          -122.40065,
          -122.42522,
          -122.44305,
          -122.43579,
          -122.44703,
          -122.40433,
          -122.40433,
          -122.46595,
          -122.43869,
          -122.446,
          -122.48357,
          -122.48998999999999,
          -122.43579,
          -122.47851000000001,
          -122.48998999999999,
          -122.45765,
          -122.40106000000002,
          -122.38323999999999,
          -122.456,
          -122.43579,
          -122.40106000000002,
          -122.40065,
          -122.4021,
          -122.45700000000001,
          -122.40433,
          -122.447029,
          -122.4021,
          -122.42022,
          -122.41098000000001,
          -122.46388,
          -122.43579,
          -122.456854,
          -122.45700000000001,
          -122.39636000000002
         ],
         "marker": {
          "color": [
           2555.1666666666665,
           3414,
           2155.25,
           2817.285714285714,
           3959,
           2817.285714285714,
           2817.285714285714,
           2817.285714285714,
           2817.285714285714,
           2099,
           2817.285714285714,
           2601.4,
           2817.285714285714,
           2899.5,
           2817.285714285714,
           3739,
           2472,
           2817.285714285714,
           3080.3333333333335,
           2555.1666666666665,
           2817.285714285714,
           2663.6666666666665,
           2647.5,
           2817.285714285714,
           2817.285714285714,
           2250.5,
           2817.285714285714,
           2899.5,
           3173.4,
           3224,
           2780.25,
           2515.5,
           2818.4,
           2250.5,
           2817.285714285714,
           2555.1666666666665,
           2817.285714285714,
           2817.285714285714,
           2817.285714285714,
           2472,
           2698.8333333333335,
           2817.285714285714,
           2016,
           2817.285714285714,
           2555.1666666666665,
           2817.285714285714,
           2990.8,
           2555.1666666666665,
           2817.285714285714,
           2817.285714285714,
           2817.285714285714,
           2817.285714285714,
           2817.285714285714,
           2817.285714285714,
           3031.8333333333335,
           2960,
           2817.285714285714,
           2817.285714285714,
           3031.8333333333335,
           2509,
           2817.285714285714,
           2817.285714285714,
           2555.1666666666665,
           2434,
           2318.4,
           1781.5,
           2555.1666666666665,
           2698.8333333333335,
           3657,
           2995.75,
           2318.4,
           2489,
           3528
          ],
          "coloraxis": "coloraxis",
          "size": [
           903.9932576720645,
           788.8448175872469,
           779.810842264425,
           689.5558168113664,
           687.0875745178323,
           676.5065775293257,
           675.3502120510033,
           665.964041578323,
           662.0136128276529,
           650.1244791945729,
           642.2486706357391,
           639.3935574881156,
           632.740453508577,
           623.826177537435,
           608.9832172374425,
           590.7928388746802,
           587.5390673661739,
           583.7492694814549,
           576.7464881132382,
           576.709848378276,
           570.2714266991686,
           566.1922135483312,
           550.5103482917151,
           542.4429128151736,
           539.2379688783261,
           533.7039354359513,
           529.3841850673389,
           528.3183317138463,
           523.4662013248023,
           519.3856038526768,
           502.59915555623616,
           498.4884848295011,
           498.26975500787677,
           487.2448860262575,
           485.0270126111035,
           478.2285530213679,
           473.90077331796317,
           469.39862649935156,
           458.2040944846015,
           455.83621223779153,
           452.6805909308442,
           449.5447622856192,
           434.99173944522124,
           423.6879277015824,
           418.9156225067234,
           413.66751546215943,
           411.646875881678,
           409.95435219297514,
           404.1501801622257,
           397.67371473613446,
           394.4223987800589,
           394.21903228550775,
           391.43437776742576,
           391.36253308010487,
           388.76592700230754,
           384.7979281346048,
           378.59431396136455,
           373.732856371763,
           373.38219782647707,
           367.8951440852775,
           366.02071153227644,
           355.9328279480578,
           336.172661037069,
           330.0973846552545,
           327.11392534647274,
           321.84083657398736,
           307.56220097996066,
           303.00418440849427,
           301.46617997450267,
           242.37095202049667,
           204.58862288246596,
           170.62491987132685,
           170.2925485152069
          ],
          "sizemode": "area",
          "sizeref": 4.017747811875842
         },
         "mode": "markers",
         "name": "",
         "showlegend": false,
         "subplot": "mapbox",
         "type": "scattermapbox"
        }
       ],
       "layout": {
        "autosize": true,
        "coloraxis": {
         "colorbar": {
          "title": {
           "text": "gross_rent"
          }
         },
         "colorscale": [
          [
           0,
           "#000000"
          ],
          [
           0.0625,
           "#001f4d"
          ],
          [
           0.125,
           "#003786"
          ],
          [
           0.1875,
           "#0e58a8"
          ],
          [
           0.25,
           "#217eb8"
          ],
          [
           0.3125,
           "#30a4ca"
          ],
          [
           0.375,
           "#54c8df"
          ],
          [
           0.4375,
           "#9be4ef"
          ],
          [
           0.5,
           "#e1e9d1"
          ],
          [
           0.5625,
           "#f3d573"
          ],
          [
           0.625,
           "#e7b000"
          ],
          [
           0.6875,
           "#da8200"
          ],
          [
           0.75,
           "#c65400"
          ],
          [
           0.8125,
           "#ac2301"
          ],
          [
           0.875,
           "#820000"
          ],
          [
           0.9375,
           "#4c0000"
          ],
          [
           1,
           "#000000"
          ]
         ]
        },
        "legend": {
         "itemsizing": "constant",
         "tracegroupgap": 0
        },
        "mapbox": {
         "accesstoken": "pk.eyJ1IjoiYXZhdGFyYXV0byIsImEiOiJja2ZhMzZvZzYwMzVoMzBxeXA3dHJpeXZxIn0.a3dC_qI2XOsXdULi7RwuTQ",
         "bearing": 0,
         "center": {
          "lat": 37.76518658193717,
          "lon": -122.47975917357144
         },
         "domain": {
          "x": [
           0,
           1
          ],
          "y": [
           0,
           1
          ]
         },
         "pitch": 0,
         "zoom": 11.302824376136309
        },
        "template": {
         "data": {
          "bar": [
           {
            "error_x": {
             "color": "#2a3f5f"
            },
            "error_y": {
             "color": "#2a3f5f"
            },
            "marker": {
             "line": {
              "color": "#E5ECF6",
              "width": 0.5
             }
            },
            "type": "bar"
           }
          ],
          "barpolar": [
           {
            "marker": {
             "line": {
              "color": "#E5ECF6",
              "width": 0.5
             }
            },
            "type": "barpolar"
           }
          ],
          "carpet": [
           {
            "aaxis": {
             "endlinecolor": "#2a3f5f",
             "gridcolor": "white",
             "linecolor": "white",
             "minorgridcolor": "white",
             "startlinecolor": "#2a3f5f"
            },
            "baxis": {
             "endlinecolor": "#2a3f5f",
             "gridcolor": "white",
             "linecolor": "white",
             "minorgridcolor": "white",
             "startlinecolor": "#2a3f5f"
            },
            "type": "carpet"
           }
          ],
          "choropleth": [
           {
            "colorbar": {
             "outlinewidth": 0,
             "ticks": ""
            },
            "type": "choropleth"
           }
          ],
          "contour": [
           {
            "colorbar": {
             "outlinewidth": 0,
             "ticks": ""
            },
            "colorscale": [
             [
              0,
              "#0d0887"
             ],
             [
              0.1111111111111111,
              "#46039f"
             ],
             [
              0.2222222222222222,
              "#7201a8"
             ],
             [
              0.3333333333333333,
              "#9c179e"
             ],
             [
              0.4444444444444444,
              "#bd3786"
             ],
             [
              0.5555555555555556,
              "#d8576b"
             ],
             [
              0.6666666666666666,
              "#ed7953"
             ],
             [
              0.7777777777777778,
              "#fb9f3a"
             ],
             [
              0.8888888888888888,
              "#fdca26"
             ],
             [
              1,
              "#f0f921"
             ]
            ],
            "type": "contour"
           }
          ],
          "contourcarpet": [
           {
            "colorbar": {
             "outlinewidth": 0,
             "ticks": ""
            },
            "type": "contourcarpet"
           }
          ],
          "heatmap": [
           {
            "colorbar": {
             "outlinewidth": 0,
             "ticks": ""
            },
            "colorscale": [
             [
              0,
              "#0d0887"
             ],
             [
              0.1111111111111111,
              "#46039f"
             ],
             [
              0.2222222222222222,
              "#7201a8"
             ],
             [
              0.3333333333333333,
              "#9c179e"
             ],
             [
              0.4444444444444444,
              "#bd3786"
             ],
             [
              0.5555555555555556,
              "#d8576b"
             ],
             [
              0.6666666666666666,
              "#ed7953"
             ],
             [
              0.7777777777777778,
              "#fb9f3a"
             ],
             [
              0.8888888888888888,
              "#fdca26"
             ],
             [
              1,
              "#f0f921"
             ]
            ],
            "type": "heatmap"
           }
          ],
          "heatmapgl": [
           {
            "colorbar": {
             "outlinewidth": 0,
             "ticks": ""
            },
            "colorscale": [
             [
              0,
              "#0d0887"
             ],
             [
              0.1111111111111111,
              "#46039f"
             ],
             [
              0.2222222222222222,
              "#7201a8"
             ],
             [
              0.3333333333333333,
              "#9c179e"
             ],
             [
              0.4444444444444444,
              "#bd3786"
             ],
             [
              0.5555555555555556,
              "#d8576b"
             ],
             [
              0.6666666666666666,
              "#ed7953"
             ],
             [
              0.7777777777777778,
              "#fb9f3a"
             ],
             [
              0.8888888888888888,
              "#fdca26"
             ],
             [
              1,
              "#f0f921"
             ]
            ],
            "type": "heatmapgl"
           }
          ],
          "histogram": [
           {
            "marker": {
             "colorbar": {
              "outlinewidth": 0,
              "ticks": ""
             }
            },
            "type": "histogram"
           }
          ],
          "histogram2d": [
           {
            "colorbar": {
             "outlinewidth": 0,
             "ticks": ""
            },
            "colorscale": [
             [
              0,
              "#0d0887"
             ],
             [
              0.1111111111111111,
              "#46039f"
             ],
             [
              0.2222222222222222,
              "#7201a8"
             ],
             [
              0.3333333333333333,
              "#9c179e"
             ],
             [
              0.4444444444444444,
              "#bd3786"
             ],
             [
              0.5555555555555556,
              "#d8576b"
             ],
             [
              0.6666666666666666,
              "#ed7953"
             ],
             [
              0.7777777777777778,
              "#fb9f3a"
             ],
             [
              0.8888888888888888,
              "#fdca26"
             ],
             [
              1,
              "#f0f921"
             ]
            ],
            "type": "histogram2d"
           }
          ],
          "histogram2dcontour": [
           {
            "colorbar": {
             "outlinewidth": 0,
             "ticks": ""
            },
            "colorscale": [
             [
              0,
              "#0d0887"
             ],
             [
              0.1111111111111111,
              "#46039f"
             ],
             [
              0.2222222222222222,
              "#7201a8"
             ],
             [
              0.3333333333333333,
              "#9c179e"
             ],
             [
              0.4444444444444444,
              "#bd3786"
             ],
             [
              0.5555555555555556,
              "#d8576b"
             ],
             [
              0.6666666666666666,
              "#ed7953"
             ],
             [
              0.7777777777777778,
              "#fb9f3a"
             ],
             [
              0.8888888888888888,
              "#fdca26"
             ],
             [
              1,
              "#f0f921"
             ]
            ],
            "type": "histogram2dcontour"
           }
          ],
          "mesh3d": [
           {
            "colorbar": {
             "outlinewidth": 0,
             "ticks": ""
            },
            "type": "mesh3d"
           }
          ],
          "parcoords": [
           {
            "line": {
             "colorbar": {
              "outlinewidth": 0,
              "ticks": ""
             }
            },
            "type": "parcoords"
           }
          ],
          "pie": [
           {
            "automargin": true,
            "type": "pie"
           }
          ],
          "scatter": [
           {
            "marker": {
             "colorbar": {
              "outlinewidth": 0,
              "ticks": ""
             }
            },
            "type": "scatter"
           }
          ],
          "scatter3d": [
           {
            "line": {
             "colorbar": {
              "outlinewidth": 0,
              "ticks": ""
             }
            },
            "marker": {
             "colorbar": {
              "outlinewidth": 0,
              "ticks": ""
             }
            },
            "type": "scatter3d"
           }
          ],
          "scattercarpet": [
           {
            "marker": {
             "colorbar": {
              "outlinewidth": 0,
              "ticks": ""
             }
            },
            "type": "scattercarpet"
           }
          ],
          "scattergeo": [
           {
            "marker": {
             "colorbar": {
              "outlinewidth": 0,
              "ticks": ""
             }
            },
            "type": "scattergeo"
           }
          ],
          "scattergl": [
           {
            "marker": {
             "colorbar": {
              "outlinewidth": 0,
              "ticks": ""
             }
            },
            "type": "scattergl"
           }
          ],
          "scattermapbox": [
           {
            "marker": {
             "colorbar": {
              "outlinewidth": 0,
              "ticks": ""
             }
            },
            "type": "scattermapbox"
           }
          ],
          "scatterpolar": [
           {
            "marker": {
             "colorbar": {
              "outlinewidth": 0,
              "ticks": ""
             }
            },
            "type": "scatterpolar"
           }
          ],
          "scatterpolargl": [
           {
            "marker": {
             "colorbar": {
              "outlinewidth": 0,
              "ticks": ""
             }
            },
            "type": "scatterpolargl"
           }
          ],
          "scatterternary": [
           {
            "marker": {
             "colorbar": {
              "outlinewidth": 0,
              "ticks": ""
             }
            },
            "type": "scatterternary"
           }
          ],
          "surface": [
           {
            "colorbar": {
             "outlinewidth": 0,
             "ticks": ""
            },
            "colorscale": [
             [
              0,
              "#0d0887"
             ],
             [
              0.1111111111111111,
              "#46039f"
             ],
             [
              0.2222222222222222,
              "#7201a8"
             ],
             [
              0.3333333333333333,
              "#9c179e"
             ],
             [
              0.4444444444444444,
              "#bd3786"
             ],
             [
              0.5555555555555556,
              "#d8576b"
             ],
             [
              0.6666666666666666,
              "#ed7953"
             ],
             [
              0.7777777777777778,
              "#fb9f3a"
             ],
             [
              0.8888888888888888,
              "#fdca26"
             ],
             [
              1,
              "#f0f921"
             ]
            ],
            "type": "surface"
           }
          ],
          "table": [
           {
            "cells": {
             "fill": {
              "color": "#EBF0F8"
             },
             "line": {
              "color": "white"
             }
            },
            "header": {
             "fill": {
              "color": "#C8D4E3"
             },
             "line": {
              "color": "white"
             }
            },
            "type": "table"
           }
          ]
         },
         "layout": {
          "annotationdefaults": {
           "arrowcolor": "#2a3f5f",
           "arrowhead": 0,
           "arrowwidth": 1
          },
          "coloraxis": {
           "colorbar": {
            "outlinewidth": 0,
            "ticks": ""
           }
          },
          "colorscale": {
           "diverging": [
            [
             0,
             "#8e0152"
            ],
            [
             0.1,
             "#c51b7d"
            ],
            [
             0.2,
             "#de77ae"
            ],
            [
             0.3,
             "#f1b6da"
            ],
            [
             0.4,
             "#fde0ef"
            ],
            [
             0.5,
             "#f7f7f7"
            ],
            [
             0.6,
             "#e6f5d0"
            ],
            [
             0.7,
             "#b8e186"
            ],
            [
             0.8,
             "#7fbc41"
            ],
            [
             0.9,
             "#4d9221"
            ],
            [
             1,
             "#276419"
            ]
           ],
           "sequential": [
            [
             0,
             "#0d0887"
            ],
            [
             0.1111111111111111,
             "#46039f"
            ],
            [
             0.2222222222222222,
             "#7201a8"
            ],
            [
             0.3333333333333333,
             "#9c179e"
            ],
            [
             0.4444444444444444,
             "#bd3786"
            ],
            [
             0.5555555555555556,
             "#d8576b"
            ],
            [
             0.6666666666666666,
             "#ed7953"
            ],
            [
             0.7777777777777778,
             "#fb9f3a"
            ],
            [
             0.8888888888888888,
             "#fdca26"
            ],
            [
             1,
             "#f0f921"
            ]
           ],
           "sequentialminus": [
            [
             0,
             "#0d0887"
            ],
            [
             0.1111111111111111,
             "#46039f"
            ],
            [
             0.2222222222222222,
             "#7201a8"
            ],
            [
             0.3333333333333333,
             "#9c179e"
            ],
            [
             0.4444444444444444,
             "#bd3786"
            ],
            [
             0.5555555555555556,
             "#d8576b"
            ],
            [
             0.6666666666666666,
             "#ed7953"
            ],
            [
             0.7777777777777778,
             "#fb9f3a"
            ],
            [
             0.8888888888888888,
             "#fdca26"
            ],
            [
             1,
             "#f0f921"
            ]
           ]
          },
          "colorway": [
           "#636efa",
           "#EF553B",
           "#00cc96",
           "#ab63fa",
           "#FFA15A",
           "#19d3f3",
           "#FF6692",
           "#B6E880",
           "#FF97FF",
           "#FECB52"
          ],
          "font": {
           "color": "#2a3f5f"
          },
          "geo": {
           "bgcolor": "white",
           "lakecolor": "white",
           "landcolor": "#E5ECF6",
           "showlakes": true,
           "showland": true,
           "subunitcolor": "white"
          },
          "hoverlabel": {
           "align": "left"
          },
          "hovermode": "closest",
          "mapbox": {
           "style": "light"
          },
          "paper_bgcolor": "white",
          "plot_bgcolor": "#E5ECF6",
          "polar": {
           "angularaxis": {
            "gridcolor": "white",
            "linecolor": "white",
            "ticks": ""
           },
           "bgcolor": "#E5ECF6",
           "radialaxis": {
            "gridcolor": "white",
            "linecolor": "white",
            "ticks": ""
           }
          },
          "scene": {
           "xaxis": {
            "backgroundcolor": "#E5ECF6",
            "gridcolor": "white",
            "gridwidth": 2,
            "linecolor": "white",
            "showbackground": true,
            "ticks": "",
            "zerolinecolor": "white"
           },
           "yaxis": {
            "backgroundcolor": "#E5ECF6",
            "gridcolor": "white",
            "gridwidth": 2,
            "linecolor": "white",
            "showbackground": true,
            "ticks": "",
            "zerolinecolor": "white"
           },
           "zaxis": {
            "backgroundcolor": "#E5ECF6",
            "gridcolor": "white",
            "gridwidth": 2,
            "linecolor": "white",
            "showbackground": true,
            "ticks": "",
            "zerolinecolor": "white"
           }
          },
          "shapedefaults": {
           "line": {
            "color": "#2a3f5f"
           }
          },
          "ternary": {
           "aaxis": {
            "gridcolor": "white",
            "linecolor": "white",
            "ticks": ""
           },
           "baxis": {
            "gridcolor": "white",
            "linecolor": "white",
            "ticks": ""
           },
           "bgcolor": "#E5ECF6",
           "caxis": {
            "gridcolor": "white",
            "linecolor": "white",
            "ticks": ""
           }
          },
          "title": {
           "x": 0.05
          },
          "xaxis": {
           "automargin": true,
           "gridcolor": "white",
           "linecolor": "white",
           "ticks": "",
           "title": {
            "standoff": 15
           },
           "zerolinecolor": "white",
           "zerolinewidth": 2
          },
          "yaxis": {
           "automargin": true,
           "gridcolor": "white",
           "linecolor": "white",
           "ticks": "",
           "title": {
            "standoff": 15
           },
           "zerolinecolor": "white",
           "zerolinewidth": 2
          }
         }
        },
        "title": {
         "text": "Averange Sale Price Per Square Foot and Gross Rent in San Francisco"
        }
       }
      },
      "image/png": "[encoded data removed]",
      "text/html": [
       "<div>                            <div id=\"d5d9faed-30fb-4054-ab4d-0998ad2ce584\" class=\"plotly-graph-div\" style=\"height:525px; width:100%;\"></div>            <script type=\"text/javascript\">                require([\"plotly\"], function(Plotly) {                    window.PLOTLYENV=window.PLOTLYENV || {};                                    if (document.getElementById(\"d5d9faed-30fb-4054-ab4d-0998ad2ce584\")) {                    Plotly.newPlot(                        \"d5d9faed-30fb-4054-ab4d-0998ad2ce584\",                        [{\"hovertemplate\": \"<b>%{hovertext}</b><br><br>sale_price_sqr_foot=%{marker.size}<br>Lat=%{lat}<br>Lon=%{lon}<br>gross_rent=%{marker.color}<extra></extra>\", \"hovertext\": [\"Alamo Square\", \"Anza Vista\", \"Bayview\", \"Bayview Heights\", \"Bernal Heights\", \"Buena Vista Park\", \"Central Richmond\", \"Central Sunset\", \"Clarendon Heights\", \"Corona Heights\", \"Cow Hollow\", \"Croker Amazon\", \"Diamond Heights\", \"Downtown\", \"Duboce Triangle\", \"Eureka Valley/Dolores Heights\", \"Excelsior\", \"Financial District North\", \"Financial District South\", \"Forest Knolls\", \"Glen Park\", \"Golden Gate Heights\", \"Haight Ashbury\", \"Hayes Valley\", \"Hunters Point\", \"Ingleside\", \"Ingleside Heights\", \"Inner Mission\", \"Inner Parkside\", \"Inner Richmond\", \"Inner Sunset\", \"Jordan Park/Laurel Heights\", \"Lake --The Presidio\", \"Lone Mountain\", \"Lower Pacific Heights\", \"Marina\", \"Merced Heights\", \"Midtown Terrace\", \"Miraloma Park\", \"Mission Bay\", \"Mission Dolores\", \"Mission Terrace\", \"Nob Hill\", \"Noe Valley\", \"North Beach\", \"North Waterfront\", \"Oceanview\", \"Outer Mission\", \"Outer Parkside\", \"Outer Richmond\", \"Outer Sunset\", \"Pacific Heights\", \"Park North\", \"Parkside\", \"Parnassus/Ashbury Heights\", \"Portola\", \"Potrero Hill\", \"Presidio Heights\", \"Russian Hill\", \"Silver Terrace\", \"South Beach\", \"South of Market\", \"Sunnyside\", \"Telegraph Hill\", \"Twin Peaks\", \"Union Square District\", \"Van Ness/ Civic Center\", \"Visitacion Valley\", \"West Portal\", \"Western Addition\", \"Westwood Highlands\", \"Westwood Park\", \"Yerba Buena\"], \"lat\": [37.791012, 37.779598, 37.73467, 37.72874, 37.728629999999995, 37.768159999999995, 37.77789, 37.74961, 37.75331, 37.78553, 37.79298, 37.7228, 37.728629999999995, 37.79101, 37.76964, 37.75554, 37.72874, 37.79101, 37.79101, 37.757059999999996, 37.728629999999995, 37.757912, 37.76525, 37.76525, 37.72551, 37.721160999999995, 37.72116, 37.75416, 37.74961, 37.769112, 37.74961, 37.78553, 37.801520000000004, 37.7789, 37.79298, 37.79972, 37.71993, 37.75331, 37.73415, 37.783229999999996, 37.75184, 37.728629999999995, 37.79298, 37.75331, 37.80055, 37.80055, 37.71993, 37.7228, 37.7517, 37.76911, 37.74961, 37.79298, 37.72838, 37.74961, 37.76355, 37.73467, 37.73196, 37.78553, 37.79298, 37.73467, 37.783229999999996, 37.79101, 37.73415, 37.80055, 37.753311, 37.79101, 37.779509999999995, 37.72874, 37.74026, 37.79298, 37.7347, 37.73415, 37.79298], \"legendgroup\": \"\", \"lon\": [-122.4021, -122.443451, -122.40106000000002, -122.41098000000001, -122.44305, -122.43933, -122.44516999999999, -122.48998999999999, -122.44703, -122.456, -122.43579, -122.43869, -122.44305, -122.4021, -122.42611000000001, -122.43778999999999, -122.41098000000001, -122.4021, -122.4021, -122.45508999999998, -122.44305, -122.46401999999999, -122.43596000000001, -122.43596000000001, -122.37178, -122.487068, -122.48706999999999, -122.41946999999999, -122.48998999999999, -122.483566, -122.48997, -122.456, -122.45456999999999, -122.45496000000001, -122.43579, -122.46688999999999, -122.46595, -122.44703, -122.45700000000001, -122.40065, -122.42522, -122.44305, -122.43579, -122.44703, -122.40433, -122.40433, -122.46595, -122.43869, -122.446, -122.48357, -122.48998999999999, -122.43579, -122.47851000000001, -122.48998999999999, -122.45765, -122.40106000000002, -122.38323999999999, -122.456, -122.43579, -122.40106000000002, -122.40065, -122.4021, -122.45700000000001, -122.40433, -122.447029, -122.4021, -122.42022, -122.41098000000001, -122.46388, -122.43579, -122.456854, -122.45700000000001, -122.39636000000002], \"marker\": {\"color\": [2555.1666666666665, 3414.0, 2155.25, 2817.285714285714, 3959.0, 2817.285714285714, 2817.285714285714, 2817.285714285714, 2817.285714285714, 2099.0, 2817.285714285714, 2601.4, 2817.285714285714, 2899.5, 2817.285714285714, 3739.0, 2472.0, 2817.285714285714, 3080.3333333333335, 2555.1666666666665, 2817.285714285714, 2663.6666666666665, 2647.5, 2817.285714285714, 2817.285714285714, 2250.5, 2817.285714285714, 2899.5, 3173.4, 3224.0, 2780.25, 2515.5, 2818.4, 2250.5, 2817.285714285714, 2555.1666666666665, 2817.285714285714, 2817.285714285714, 2817.285714285714, 2472.0, 2698.8333333333335, 2817.285714285714, 2016.0, 2817.285714285714, 2555.1666666666665, 2817.285714285714, 2990.8, 2555.1666666666665, 2817.285714285714, 2817.285714285714, 2817.285714285714, 2817.285714285714, 2817.285714285714, 2817.285714285714, 3031.8333333333335, 2960.0, 2817.285714285714, 2817.285714285714, 3031.8333333333335, 2509.0, 2817.285714285714, 2817.285714285714, 2555.1666666666665, 2434.0, 2318.4, 1781.5, 2555.1666666666665, 2698.8333333333335, 3657.0, 2995.75, 2318.4, 2489.0, 3528.0], \"coloraxis\": \"coloraxis\", \"size\": [903.9932576720645, 788.8448175872469, 779.810842264425, 689.5558168113664, 687.0875745178323, 676.5065775293257, 675.3502120510033, 665.964041578323, 662.0136128276529, 650.1244791945729, 642.2486706357391, 639.3935574881156, 632.740453508577, 623.826177537435, 608.9832172374425, 590.7928388746802, 587.5390673661739, 583.7492694814549, 576.7464881132382, 576.709848378276, 570.2714266991686, 566.1922135483312, 550.5103482917151, 542.4429128151736, 539.2379688783261, 533.7039354359513, 529.3841850673389, 528.3183317138463, 523.4662013248023, 519.3856038526768, 502.59915555623616, 498.4884848295011, 498.26975500787677, 487.2448860262575, 485.0270126111035, 478.2285530213679, 473.90077331796317, 469.39862649935156, 458.2040944846015, 455.83621223779153, 452.6805909308442, 449.5447622856192, 434.99173944522124, 423.6879277015824, 418.9156225067234, 413.66751546215943, 411.646875881678, 409.95435219297514, 404.1501801622257, 397.67371473613446, 394.4223987800589, 394.21903228550775, 391.43437776742576, 391.36253308010487, 388.76592700230754, 384.7979281346048, 378.59431396136455, 373.732856371763, 373.38219782647707, 367.8951440852775, 366.02071153227644, 355.9328279480578, 336.172661037069, 330.0973846552545, 327.11392534647274, 321.84083657398736, 307.56220097996066, 303.00418440849427, 301.46617997450267, 242.37095202049667, 204.58862288246596, 170.62491987132685, 170.2925485152069], \"sizemode\": \"area\", \"sizeref\": 4.017747811875842}, \"mode\": \"markers\", \"name\": \"\", \"showlegend\": false, \"subplot\": \"mapbox\", \"type\": \"scattermapbox\"}],                        {\"coloraxis\": {\"colorbar\": {\"title\": {\"text\": \"gross_rent\"}}, \"colorscale\": [[0.0, \"#000000\"], [0.0625, \"#001f4d\"], [0.125, \"#003786\"], [0.1875, \"#0e58a8\"], [0.25, \"#217eb8\"], [0.3125, \"#30a4ca\"], [0.375, \"#54c8df\"], [0.4375, \"#9be4ef\"], [0.5, \"#e1e9d1\"], [0.5625, \"#f3d573\"], [0.625, \"#e7b000\"], [0.6875, \"#da8200\"], [0.75, \"#c65400\"], [0.8125, \"#ac2301\"], [0.875, \"#820000\"], [0.9375, \"#4c0000\"], [1.0, \"#000000\"]]}, \"legend\": {\"itemsizing\": \"constant\", \"tracegroupgap\": 0}, \"mapbox\": {\"accesstoken\": \"pk.eyJ1IjoiYXZhdGFyYXV0byIsImEiOiJja2ZhMzZvZzYwMzVoMzBxeXA3dHJpeXZxIn0.a3dC_qI2XOsXdULi7RwuTQ\", \"center\": {\"lat\": 37.76019350684932, \"lon\": -122.43912380821916}, \"domain\": {\"x\": [0.0, 1.0], \"y\": [0.0, 1.0]}, \"zoom\": 11}, \"template\": {\"data\": {\"bar\": [{\"error_x\": {\"color\": \"#2a3f5f\"}, \"error_y\": {\"color\": \"#2a3f5f\"}, \"marker\": {\"line\": {\"color\": \"#E5ECF6\", \"width\": 0.5}}, \"type\": \"bar\"}], \"barpolar\": [{\"marker\": {\"line\": {\"color\": \"#E5ECF6\", \"width\": 0.5}}, \"type\": \"barpolar\"}], \"carpet\": [{\"aaxis\": {\"endlinecolor\": \"#2a3f5f\", \"gridcolor\": \"white\", \"linecolor\": \"white\", \"minorgridcolor\": \"white\", \"startlinecolor\": \"#2a3f5f\"}, \"baxis\": {\"endlinecolor\": \"#2a3f5f\", \"gridcolor\": \"white\", \"linecolor\": \"white\", \"minorgridcolor\": \"white\", \"startlinecolor\": \"#2a3f5f\"}, \"type\": \"carpet\"}], \"choropleth\": [{\"colorbar\": {\"outlinewidth\": 0, \"ticks\": \"\"}, \"type\": \"choropleth\"}], \"contour\": [{\"colorbar\": {\"outlinewidth\": 0, \"ticks\": \"\"}, \"colorscale\": [[0.0, \"#0d0887\"], [0.1111111111111111, \"#46039f\"], [0.2222222222222222, \"#7201a8\"], [0.3333333333333333, \"#9c179e\"], [0.4444444444444444, \"#bd3786\"], [0.5555555555555556, \"#d8576b\"], [0.6666666666666666, \"#ed7953\"], [0.7777777777777778, \"#fb9f3a\"], [0.8888888888888888, \"#fdca26\"], [1.0, \"#f0f921\"]], \"type\": \"contour\"}], \"contourcarpet\": [{\"colorbar\": {\"outlinewidth\": 0, \"ticks\": \"\"}, \"type\": \"contourcarpet\"}], \"heatmap\": [{\"colorbar\": {\"outlinewidth\": 0, \"ticks\": \"\"}, \"colorscale\": [[0.0, \"#0d0887\"], [0.1111111111111111, \"#46039f\"], [0.2222222222222222, \"#7201a8\"], [0.3333333333333333, \"#9c179e\"], [0.4444444444444444, \"#bd3786\"], [0.5555555555555556, \"#d8576b\"], [0.6666666666666666, \"#ed7953\"], [0.7777777777777778, \"#fb9f3a\"], [0.8888888888888888, \"#fdca26\"], [1.0, \"#f0f921\"]], \"type\": \"heatmap\"}], \"heatmapgl\": [{\"colorbar\": {\"outlinewidth\": 0, \"ticks\": \"\"}, \"colorscale\": [[0.0, \"#0d0887\"], [0.1111111111111111, \"#46039f\"], [0.2222222222222222, \"#7201a8\"], [0.3333333333333333, \"#9c179e\"], [0.4444444444444444, \"#bd3786\"], [0.5555555555555556, \"#d8576b\"], [0.6666666666666666, \"#ed7953\"], [0.7777777777777778, \"#fb9f3a\"], [0.8888888888888888, \"#fdca26\"], [1.0, \"#f0f921\"]], \"type\": \"heatmapgl\"}], \"histogram\": [{\"marker\": {\"colorbar\": {\"outlinewidth\": 0, \"ticks\": \"\"}}, \"type\": \"histogram\"}], \"histogram2d\": [{\"colorbar\": {\"outlinewidth\": 0, \"ticks\": \"\"}, \"colorscale\": [[0.0, \"#0d0887\"], [0.1111111111111111, \"#46039f\"], [0.2222222222222222, \"#7201a8\"], [0.3333333333333333, \"#9c179e\"], [0.4444444444444444, \"#bd3786\"], [0.5555555555555556, \"#d8576b\"], [0.6666666666666666, \"#ed7953\"], [0.7777777777777778, \"#fb9f3a\"], [0.8888888888888888, \"#fdca26\"], [1.0, \"#f0f921\"]], \"type\": \"histogram2d\"}], \"histogram2dcontour\": [{\"colorbar\": {\"outlinewidth\": 0, \"ticks\": \"\"}, \"colorscale\": [[0.0, \"#0d0887\"], [0.1111111111111111, \"#46039f\"], [0.2222222222222222, \"#7201a8\"], [0.3333333333333333, \"#9c179e\"], [0.4444444444444444, \"#bd3786\"], [0.5555555555555556, \"#d8576b\"], [0.6666666666666666, \"#ed7953\"], [0.7777777777777778, \"#fb9f3a\"], [0.8888888888888888, \"#fdca26\"], [1.0, \"#f0f921\"]], \"type\": \"histogram2dcontour\"}], \"mesh3d\": [{\"colorbar\": {\"outlinewidth\": 0, \"ticks\": \"\"}, \"type\": \"mesh3d\"}], \"parcoords\": [{\"line\": {\"colorbar\": {\"outlinewidth\": 0, \"ticks\": \"\"}}, \"type\": \"parcoords\"}], \"pie\": [{\"automargin\": true, \"type\": \"pie\"}], \"scatter\": [{\"marker\": {\"colorbar\": {\"outlinewidth\": 0, \"ticks\": \"\"}}, \"type\": \"scatter\"}], \"scatter3d\": [{\"line\": {\"colorbar\": {\"outlinewidth\": 0, \"ticks\": \"\"}}, \"marker\": {\"colorbar\": {\"outlinewidth\": 0, \"ticks\": \"\"}}, \"type\": \"scatter3d\"}], \"scattercarpet\": [{\"marker\": {\"colorbar\": {\"outlinewidth\": 0, \"ticks\": \"\"}}, \"type\": \"scattercarpet\"}], \"scattergeo\": [{\"marker\": {\"colorbar\": {\"outlinewidth\": 0, \"ticks\": \"\"}}, \"type\": \"scattergeo\"}], \"scattergl\": [{\"marker\": {\"colorbar\": {\"outlinewidth\": 0, \"ticks\": \"\"}}, \"type\": \"scattergl\"}], \"scattermapbox\": [{\"marker\": {\"colorbar\": {\"outlinewidth\": 0, \"ticks\": \"\"}}, \"type\": \"scattermapbox\"}], \"scatterpolar\": [{\"marker\": {\"colorbar\": {\"outlinewidth\": 0, \"ticks\": \"\"}}, \"type\": \"scatterpolar\"}], \"scatterpolargl\": [{\"marker\": {\"colorbar\": {\"outlinewidth\": 0, \"ticks\": \"\"}}, \"type\": \"scatterpolargl\"}], \"scatterternary\": [{\"marker\": {\"colorbar\": {\"outlinewidth\": 0, \"ticks\": \"\"}}, \"type\": \"scatterternary\"}], \"surface\": [{\"colorbar\": {\"outlinewidth\": 0, \"ticks\": \"\"}, \"colorscale\": [[0.0, \"#0d0887\"], [0.1111111111111111, \"#46039f\"], [0.2222222222222222, \"#7201a8\"], [0.3333333333333333, \"#9c179e\"], [0.4444444444444444, \"#bd3786\"], [0.5555555555555556, \"#d8576b\"], [0.6666666666666666, \"#ed7953\"], [0.7777777777777778, \"#fb9f3a\"], [0.8888888888888888, \"#fdca26\"], [1.0, \"#f0f921\"]], \"type\": \"surface\"}], \"table\": [{\"cells\": {\"fill\": {\"color\": \"#EBF0F8\"}, \"line\": {\"color\": \"white\"}}, \"header\": {\"fill\": {\"color\": \"#C8D4E3\"}, \"line\": {\"color\": \"white\"}}, \"type\": \"table\"}]}, \"layout\": {\"annotationdefaults\": {\"arrowcolor\": \"#2a3f5f\", \"arrowhead\": 0, \"arrowwidth\": 1}, \"coloraxis\": {\"colorbar\": {\"outlinewidth\": 0, \"ticks\": \"\"}}, \"colorscale\": {\"diverging\": [[0, \"#8e0152\"], [0.1, \"#c51b7d\"], [0.2, \"#de77ae\"], [0.3, \"#f1b6da\"], [0.4, \"#fde0ef\"], [0.5, \"#f7f7f7\"], [0.6, \"#e6f5d0\"], [0.7, \"#b8e186\"], [0.8, \"#7fbc41\"], [0.9, \"#4d9221\"], [1, \"#276419\"]], \"sequential\": [[0.0, \"#0d0887\"], [0.1111111111111111, \"#46039f\"], [0.2222222222222222, \"#7201a8\"], [0.3333333333333333, \"#9c179e\"], [0.4444444444444444, \"#bd3786\"], [0.5555555555555556, \"#d8576b\"], [0.6666666666666666, \"#ed7953\"], [0.7777777777777778, \"#fb9f3a\"], [0.8888888888888888, \"#fdca26\"], [1.0, \"#f0f921\"]], \"sequentialminus\": [[0.0, \"#0d0887\"], [0.1111111111111111, \"#46039f\"], [0.2222222222222222, \"#7201a8\"], [0.3333333333333333, \"#9c179e\"], [0.4444444444444444, \"#bd3786\"], [0.5555555555555556, \"#d8576b\"], [0.6666666666666666, \"#ed7953\"], [0.7777777777777778, \"#fb9f3a\"], [0.8888888888888888, \"#fdca26\"], [1.0, \"#f0f921\"]]}, \"colorway\": [\"#636efa\", \"#EF553B\", \"#00cc96\", \"#ab63fa\", \"#FFA15A\", \"#19d3f3\", \"#FF6692\", \"#B6E880\", \"#FF97FF\", \"#FECB52\"], \"font\": {\"color\": \"#2a3f5f\"}, \"geo\": {\"bgcolor\": \"white\", \"lakecolor\": \"white\", \"landcolor\": \"#E5ECF6\", \"showlakes\": true, \"showland\": true, \"subunitcolor\": \"white\"}, \"hoverlabel\": {\"align\": \"left\"}, \"hovermode\": \"closest\", \"mapbox\": {\"style\": \"light\"}, \"paper_bgcolor\": \"white\", \"plot_bgcolor\": \"#E5ECF6\", \"polar\": {\"angularaxis\": {\"gridcolor\": \"white\", \"linecolor\": \"white\", \"ticks\": \"\"}, \"bgcolor\": \"#E5ECF6\", \"radialaxis\": {\"gridcolor\": \"white\", \"linecolor\": \"white\", \"ticks\": \"\"}}, \"scene\": {\"xaxis\": {\"backgroundcolor\": \"#E5ECF6\", \"gridcolor\": \"white\", \"gridwidth\": 2, \"linecolor\": \"white\", \"showbackground\": true, \"ticks\": \"\", \"zerolinecolor\": \"white\"}, \"yaxis\": {\"backgroundcolor\": \"#E5ECF6\", \"gridcolor\": \"white\", \"gridwidth\": 2, \"linecolor\": \"white\", \"showbackground\": true, \"ticks\": \"\", \"zerolinecolor\": \"white\"}, \"zaxis\": {\"backgroundcolor\": \"#E5ECF6\", \"gridcolor\": \"white\", \"gridwidth\": 2, \"linecolor\": \"white\", \"showbackground\": true, \"ticks\": \"\", \"zerolinecolor\": \"white\"}}, \"shapedefaults\": {\"line\": {\"color\": \"#2a3f5f\"}}, \"ternary\": {\"aaxis\": {\"gridcolor\": \"white\", \"linecolor\": \"white\", \"ticks\": \"\"}, \"baxis\": {\"gridcolor\": \"white\", \"linecolor\": \"white\", \"ticks\": \"\"}, \"bgcolor\": \"#E5ECF6\", \"caxis\": {\"gridcolor\": \"white\", \"linecolor\": \"white\", \"ticks\": \"\"}}, \"title\": {\"x\": 0.05}, \"xaxis\": {\"automargin\": true, \"gridcolor\": \"white\", \"linecolor\": \"white\", \"ticks\": \"\", \"title\": {\"standoff\": 15}, \"zerolinecolor\": \"white\", \"zerolinewidth\": 2}, \"yaxis\": {\"automargin\": true, \"gridcolor\": \"white\", \"linecolor\": \"white\", \"ticks\": \"\", \"title\": {\"standoff\": 15}, \"zerolinecolor\": \"white\", \"zerolinewidth\": 2}}}, \"title\": {\"text\": \"Averange Sale Price Per Square Foot and Gross Rent in San Francisco\"}},                        {\"responsive\": true}                    ).then(function(){\n",
       "                            \n",
       "var gd = document.getElementById('d5d9faed-30fb-4054-ab4d-0998ad2ce584');\n",
       "var x = new MutationObserver(function (mutations, observer) {{\n",
       "        var display = window.getComputedStyle(gd).display;\n",
       "        if (!display || display === 'none') {{\n",
       "            console.log([gd, 'removed!']);\n",
       "            Plotly.purge(gd);\n",
       "            observer.disconnect();\n",
       "        }}\n",
       "}});\n",
       "\n",
       "// Listen for the removal of the full notebook cells\n",
       "var notebookContainer = gd.closest('#notebook-container');\n",
       "if (notebookContainer) {{\n",
       "    x.observe(notebookContainer, {childList: true});\n",
       "}}\n",
       "\n",
       "// Listen for the clearing of the current output cell\n",
       "var outputEl = gd.closest('.output');\n",
       "if (outputEl) {{\n",
       "    x.observe(outputEl, {childList: true});\n",
       "}}\n",
       "\n",
       "                        })                };                });            </script>        </div>"
      ]
     },
     "metadata": {},
     "output_type": "display_data"
    }
   ],
   "source": [
    "# Create a scatter mapbox to analyze neighborhood info\n",
    "\n",
    "px.set_mapbox_access_token(mapbox_token)\n",
    "map = px.scatter_mapbox(\n",
    "    sfo_all_neighborhoods,\n",
    "    lat=\"Lat\",\n",
    "    lon=\"Lon\",\n",
    "    size=\"sale_price_sqr_foot\",\n",
    "    color=\"gross_rent\",\n",
    "    color_continuous_scale=px.colors.cyclical.IceFire,\n",
    "    size_max=15,\n",
    "    zoom=11,\n",
    "    hover_name=\"Neighborhood\",\n",
    "    title=\"Averange Sale Price Per Square Foot and Gross Rent in San Francisco\",\n",
    ")\n",
    "map.show()"
   ]
  },
  {
   "cell_type": "code",
   "execution_count": null,
   "metadata": {},
   "outputs": [],
   "source": []
  }
 ],
 "metadata": {
  "file_extension": ".py",
  "kernelspec": {
   "display_name": "Python 3",
   "language": "python",
   "name": "python3"
  },
  "language_info": {
   "codemirror_mode": {
    "name": "ipython",
    "version": 3
   },
   "file_extension": ".py",
   "mimetype": "text/x-python",
   "name": "python",
   "nbconvert_exporter": "python",
   "pygments_lexer": "ipython3",
   "version": "3.8.3"
  },
  "mimetype": "text/x-python",
  "name": "python",
  "npconvert_exporter": "python",
  "pygments_lexer": "ipython3",
  "version": 3
 },
 "nbformat": 4,
 "nbformat_minor": 4
}
